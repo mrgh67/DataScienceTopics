{
 "metadata": {
  "name": "",
  "signature": "sha256:8a90e22e53fc68c48e27412340f316ace4d5732c23017f8ea8d5b5778130c4f5"
 },
 "nbformat": 3,
 "nbformat_minor": 0,
 "worksheets": [
  {
   "cells": [
    {
     "cell_type": "code",
     "collapsed": false,
     "input": [
      "import numpy as np\n",
      "import pandas as pd"
     ],
     "language": "python",
     "metadata": {},
     "outputs": [],
     "prompt_number": 573
    },
    {
     "cell_type": "code",
     "collapsed": false,
     "input": [
      "df = pd.read_csv('https://raw.githubusercontent.com/TeachingDataScience/data-science-course/forstudentviewing/12_Naive_Bayes/twitter_training/sts_gold_tweet.csv',';')"
     ],
     "language": "python",
     "metadata": {},
     "outputs": [],
     "prompt_number": 574
    },
    {
     "cell_type": "code",
     "collapsed": false,
     "input": [
      "df.shape"
     ],
     "language": "python",
     "metadata": {},
     "outputs": [
      {
       "metadata": {},
       "output_type": "pyout",
       "prompt_number": 575,
       "text": [
        "(2034, 3)"
       ]
      }
     ],
     "prompt_number": 575
    },
    {
     "cell_type": "code",
     "collapsed": false,
     "input": [
      "df[df['polarity']==4].shape"
     ],
     "language": "python",
     "metadata": {},
     "outputs": [
      {
       "metadata": {},
       "output_type": "pyout",
       "prompt_number": 576,
       "text": [
        "(632, 3)"
       ]
      }
     ],
     "prompt_number": 576
    },
    {
     "cell_type": "code",
     "collapsed": false,
     "input": [
      "df[df['polarity']==0].shape"
     ],
     "language": "python",
     "metadata": {},
     "outputs": [
      {
       "metadata": {},
       "output_type": "pyout",
       "prompt_number": 577,
       "text": [
        "(1402, 3)"
       ]
      }
     ],
     "prompt_number": 577
    },
    {
     "cell_type": "markdown",
     "metadata": {},
     "source": [
      "The data is \"unbalanced\" in the sense that the number of 0 polarity tweets outnumbers the 4 polarity tweets. This represents different priors. Reading about the Naive Baye's model indicates that this is taken care of. The model measures the priors."
     ]
    },
    {
     "cell_type": "code",
     "collapsed": false,
     "input": [
      "df.head()"
     ],
     "language": "python",
     "metadata": {},
     "outputs": [
      {
       "html": [
        "<div style=\"max-height:1000px;max-width:1500px;overflow:auto;\">\n",
        "<table border=\"1\" class=\"dataframe\">\n",
        "  <thead>\n",
        "    <tr style=\"text-align: right;\">\n",
        "      <th></th>\n",
        "      <th>id</th>\n",
        "      <th>polarity</th>\n",
        "      <th>tweet</th>\n",
        "    </tr>\n",
        "  </thead>\n",
        "  <tbody>\n",
        "    <tr>\n",
        "      <th>0</th>\n",
        "      <td> 1467933112</td>\n",
        "      <td> 0</td>\n",
        "      <td> the angel is going to miss the athlete this we...</td>\n",
        "    </tr>\n",
        "    <tr>\n",
        "      <th>1</th>\n",
        "      <td> 2323395086</td>\n",
        "      <td> 0</td>\n",
        "      <td> It looks as though Shaq is getting traded to C...</td>\n",
        "    </tr>\n",
        "    <tr>\n",
        "      <th>2</th>\n",
        "      <td> 1467968979</td>\n",
        "      <td> 0</td>\n",
        "      <td>    @clarianne APRIL 9TH ISN'T COMING SOON ENOUGH </td>\n",
        "    </tr>\n",
        "    <tr>\n",
        "      <th>3</th>\n",
        "      <td> 1990283756</td>\n",
        "      <td> 0</td>\n",
        "      <td> drinking a McDonalds coffee and not understand...</td>\n",
        "    </tr>\n",
        "    <tr>\n",
        "      <th>4</th>\n",
        "      <td> 1988884918</td>\n",
        "      <td> 0</td>\n",
        "      <td> So dissapointed Taylor Swift doesnt have a Twi...</td>\n",
        "    </tr>\n",
        "  </tbody>\n",
        "</table>\n",
        "</div>"
       ],
       "metadata": {},
       "output_type": "pyout",
       "prompt_number": 578,
       "text": [
        "           id  polarity                                              tweet\n",
        "0  1467933112         0  the angel is going to miss the athlete this we...\n",
        "1  2323395086         0  It looks as though Shaq is getting traded to C...\n",
        "2  1467968979         0     @clarianne APRIL 9TH ISN'T COMING SOON ENOUGH \n",
        "3  1990283756         0  drinking a McDonalds coffee and not understand...\n",
        "4  1988884918         0  So dissapointed Taylor Swift doesnt have a Twi..."
       ]
      }
     ],
     "prompt_number": 578
    },
    {
     "cell_type": "code",
     "collapsed": false,
     "input": [
      "df[df['polarity']==4].head()"
     ],
     "language": "python",
     "metadata": {},
     "outputs": [
      {
       "html": [
        "<div style=\"max-height:1000px;max-width:1500px;overflow:auto;\">\n",
        "<table border=\"1\" class=\"dataframe\">\n",
        "  <thead>\n",
        "    <tr style=\"text-align: right;\">\n",
        "      <th></th>\n",
        "      <th>id</th>\n",
        "      <th>polarity</th>\n",
        "      <th>tweet</th>\n",
        "    </tr>\n",
        "  </thead>\n",
        "  <tbody>\n",
        "    <tr>\n",
        "      <th>77</th>\n",
        "      <td> 1680347120</td>\n",
        "      <td> 4</td>\n",
        "      <td> @ mcdonalds with my litto sis aka cuzin lol cr...</td>\n",
        "    </tr>\n",
        "    <tr>\n",
        "      <th>78</th>\n",
        "      <td> 1835259469</td>\n",
        "      <td> 4</td>\n",
        "      <td> @AnnaSaccone Love your new cards!   I would de...</td>\n",
        "    </tr>\n",
        "    <tr>\n",
        "      <th>79</th>\n",
        "      <td> 1983068285</td>\n",
        "      <td> 4</td>\n",
        "      <td> @supricky06 that was one of the most enjoyable...</td>\n",
        "    </tr>\n",
        "    <tr>\n",
        "      <th>80</th>\n",
        "      <td> 1559842363</td>\n",
        "      <td> 4</td>\n",
        "      <td> Dallas vegas goodness  http://twitpic.com/3lzt...</td>\n",
        "    </tr>\n",
        "    <tr>\n",
        "      <th>81</th>\n",
        "      <td> 1999078293</td>\n",
        "      <td> 4</td>\n",
        "      <td> @JBsFanArgentina Hey I luv this pic!!! was ama...</td>\n",
        "    </tr>\n",
        "  </tbody>\n",
        "</table>\n",
        "</div>"
       ],
       "metadata": {},
       "output_type": "pyout",
       "prompt_number": 579,
       "text": [
        "            id  polarity                                              tweet\n",
        "77  1680347120         4  @ mcdonalds with my litto sis aka cuzin lol cr...\n",
        "78  1835259469         4  @AnnaSaccone Love your new cards!   I would de...\n",
        "79  1983068285         4  @supricky06 that was one of the most enjoyable...\n",
        "80  1559842363         4  Dallas vegas goodness  http://twitpic.com/3lzt...\n",
        "81  1999078293         4  @JBsFanArgentina Hey I luv this pic!!! was ama..."
       ]
      }
     ],
     "prompt_number": 579
    },
    {
     "cell_type": "markdown",
     "metadata": {},
     "source": [
      "Consider other features, such as the percentage capitalization of the tweet."
     ]
    },
    {
     "cell_type": "code",
     "collapsed": false,
     "input": [
      "df['per_cap'] = df.tweet.apply(lambda x: sum([float(x[i] == x.upper()[i]) for i in range(len(x))])/len(x))"
     ],
     "language": "python",
     "metadata": {},
     "outputs": [],
     "prompt_number": 580
    },
    {
     "cell_type": "code",
     "collapsed": false,
     "input": [
      "df['tweet'][0]"
     ],
     "language": "python",
     "metadata": {},
     "outputs": [
      {
       "metadata": {},
       "output_type": "pyout",
       "prompt_number": 581,
       "text": [
        "'the angel is going to miss the athlete this weekend '"
       ]
      }
     ],
     "prompt_number": 581
    },
    {
     "cell_type": "markdown",
     "metadata": {},
     "source": [
      "The above implementation treats blank spaces bewteen words as capitalized.Modify this by first collapsing the word string \n",
      "by removing all spaces."
     ]
    },
    {
     "cell_type": "code",
     "collapsed": false,
     "input": [
      "b = lambda x: sum([float(x[i] == x.upper()[i]) for i in range(len(x))])/len(x)\n",
      "b(df['tweet'][0])"
     ],
     "language": "python",
     "metadata": {},
     "outputs": [
      {
       "metadata": {},
       "output_type": "pyout",
       "prompt_number": 582,
       "text": [
        "0.19230769230769232"
       ]
      }
     ],
     "prompt_number": 582
    },
    {
     "cell_type": "code",
     "collapsed": false,
     "input": [
      "df['tweetnospaces'] = df.tweet.apply(lambda x: x.replace(' ',''))"
     ],
     "language": "python",
     "metadata": {},
     "outputs": [],
     "prompt_number": 583
    },
    {
     "cell_type": "code",
     "collapsed": false,
     "input": [
      "print df['tweet'][0]\n",
      "print df['tweetnospaces'][0]"
     ],
     "language": "python",
     "metadata": {},
     "outputs": [
      {
       "output_type": "stream",
       "stream": "stdout",
       "text": [
        "the angel is going to miss the athlete this weekend \n",
        "theangelisgoingtomisstheathletethisweekend\n"
       ]
      }
     ],
     "prompt_number": 584
    },
    {
     "cell_type": "code",
     "collapsed": false,
     "input": [
      "df['per_cap_nosp'] = df.tweetnospaces.apply(lambda x: sum([float(x[i] == x.upper()[i]) for i in range(len(x))])/len(x))"
     ],
     "language": "python",
     "metadata": {},
     "outputs": [],
     "prompt_number": 585
    },
    {
     "cell_type": "code",
     "collapsed": false,
     "input": [
      "b = lambda x: sum([float(x[i] == x.upper()[i]) for i in range(len(x))])/len(x)\n",
      "print b(df['tweetnospaces'][0])\n",
      "print b(\"THISISATEST\")\n",
      "print b(\"AndhowABOUTTHIS!\")"
     ],
     "language": "python",
     "metadata": {},
     "outputs": [
      {
       "output_type": "stream",
       "stream": "stdout",
       "text": [
        "0.0\n",
        "1.0\n",
        "0.6875\n"
       ]
      }
     ],
     "prompt_number": 586
    },
    {
     "cell_type": "markdown",
     "metadata": {},
     "source": [
      "Also create all lower case tweets - since the capitalization is now treated as a separate feature. NB: I noted later that\n",
      "Count Vectorizer already does this - i.e. there is a default setting that converts all to lowercase."
     ]
    },
    {
     "cell_type": "code",
     "collapsed": false,
     "input": [
      "df['tweetlower'] = df.tweet.apply(lambda x: x.lower())\n",
      "df['tweetlower'][1:2]"
     ],
     "language": "python",
     "metadata": {},
     "outputs": [
      {
       "metadata": {},
       "output_type": "pyout",
       "prompt_number": 587,
       "text": [
        "1    it looks as though shaq is getting traded to c...\n",
        "Name: tweetlower, dtype: object"
       ]
      }
     ],
     "prompt_number": 587
    },
    {
     "cell_type": "markdown",
     "metadata": {},
     "source": [
      "Consider also the benefit (or otherwise) of removing the Twitter \"at\" symbol and name. Use a regular expression to achieve this."
     ]
    },
    {
     "cell_type": "code",
     "collapsed": false,
     "input": [
      "import re"
     ],
     "language": "python",
     "metadata": {},
     "outputs": [],
     "prompt_number": 588
    },
    {
     "cell_type": "code",
     "collapsed": false,
     "input": [
      "df['tweet'][294]"
     ],
     "language": "python",
     "metadata": {},
     "outputs": [
      {
       "metadata": {},
       "output_type": "pyout",
       "prompt_number": 589,
       "text": [
        "'@spicebugsmom A few more for you to follow: @aims7 @alirushton @dillyh @Oprah @timescolonist @JohnCleese ...Welcome to Twitter mums '"
       ]
      }
     ],
     "prompt_number": 589
    },
    {
     "cell_type": "code",
     "collapsed": false,
     "input": [
      "pattern = r'@[A-Za-z0-9]*'\n",
      "regex = re.compile(pattern, flags=re.IGNORECASE)\n",
      "for i in range(290,300):\n",
      "    print i, regex.findall(df['tweet'][i])"
     ],
     "language": "python",
     "metadata": {},
     "outputs": [
      {
       "output_type": "stream",
       "stream": "stdout",
       "text": [
        "290 []\n",
        "291 []\n",
        "292 []\n",
        "293 []\n",
        "294 ['@spicebugsmom', '@aims7', '@alirushton', '@dillyh', '@Oprah', '@timescolonist', '@JohnCleese']\n",
        "295 []\n",
        "296 []\n",
        "297 ['@mishacollins', '@oprah']\n",
        "298 ['@DaRealSunisaKim']\n",
        "299 []\n"
       ]
      }
     ],
     "prompt_number": 590
    },
    {
     "cell_type": "code",
     "collapsed": false,
     "input": [
      "print regex.split(df['tweet'][294])[1]\n",
      "print regex.split(df['tweet'][294])[7]"
     ],
     "language": "python",
     "metadata": {},
     "outputs": [
      {
       "output_type": "stream",
       "stream": "stdout",
       "text": [
        " A few more for you to follow: \n",
        " ...Welcome to Twitter mums \n"
       ]
      }
     ],
     "prompt_number": 591
    },
    {
     "cell_type": "code",
     "collapsed": false,
     "input": [
      "df['tweetrhtag'] = df.tweet.apply(lambda x: regex.sub('',x))"
     ],
     "language": "python",
     "metadata": {},
     "outputs": [],
     "prompt_number": 592
    },
    {
     "cell_type": "code",
     "collapsed": false,
     "input": [
      "df['tweetrhtag'][294]"
     ],
     "language": "python",
     "metadata": {},
     "outputs": [
      {
       "metadata": {},
       "output_type": "pyout",
       "prompt_number": 593,
       "text": [
        "' A few more for you to follow:       ...Welcome to Twitter mums '"
       ]
      }
     ],
     "prompt_number": 593
    },
    {
     "cell_type": "code",
     "collapsed": false,
     "input": [
      "df.head()"
     ],
     "language": "python",
     "metadata": {},
     "outputs": [
      {
       "html": [
        "<div style=\"max-height:1000px;max-width:1500px;overflow:auto;\">\n",
        "<table border=\"1\" class=\"dataframe\">\n",
        "  <thead>\n",
        "    <tr style=\"text-align: right;\">\n",
        "      <th></th>\n",
        "      <th>id</th>\n",
        "      <th>polarity</th>\n",
        "      <th>tweet</th>\n",
        "      <th>per_cap</th>\n",
        "      <th>tweetnospaces</th>\n",
        "      <th>per_cap_nosp</th>\n",
        "      <th>tweetlower</th>\n",
        "      <th>tweetrhtag</th>\n",
        "    </tr>\n",
        "  </thead>\n",
        "  <tbody>\n",
        "    <tr>\n",
        "      <th>0</th>\n",
        "      <td> 1467933112</td>\n",
        "      <td> 0</td>\n",
        "      <td> the angel is going to miss the athlete this we...</td>\n",
        "      <td> 0.192308</td>\n",
        "      <td>        theangelisgoingtomisstheathletethisweekend</td>\n",
        "      <td> 0.000000</td>\n",
        "      <td> the angel is going to miss the athlete this we...</td>\n",
        "      <td> the angel is going to miss the athlete this we...</td>\n",
        "    </tr>\n",
        "    <tr>\n",
        "      <th>1</th>\n",
        "      <td> 2323395086</td>\n",
        "      <td> 0</td>\n",
        "      <td> It looks as though Shaq is getting traded to C...</td>\n",
        "      <td> 0.325397</td>\n",
        "      <td> ItlooksasthoughShaqisgettingtradedtoClevelandt...</td>\n",
        "      <td> 0.158416</td>\n",
        "      <td> it looks as though shaq is getting traded to c...</td>\n",
        "      <td> It looks as though Shaq is getting traded to C...</td>\n",
        "    </tr>\n",
        "    <tr>\n",
        "      <th>2</th>\n",
        "      <td> 1467968979</td>\n",
        "      <td> 0</td>\n",
        "      <td>    @clarianne APRIL 9TH ISN'T COMING SOON ENOUGH </td>\n",
        "      <td> 0.804348</td>\n",
        "      <td>           @clarianneAPRIL9THISN'TCOMINGSOONENOUGH</td>\n",
        "      <td> 0.769231</td>\n",
        "      <td>    @clarianne april 9th isn't coming soon enough </td>\n",
        "      <td>               APRIL 9TH ISN'T COMING SOON ENOUGH </td>\n",
        "    </tr>\n",
        "    <tr>\n",
        "      <th>3</th>\n",
        "      <td> 1990283756</td>\n",
        "      <td> 0</td>\n",
        "      <td> drinking a McDonalds coffee and not understand...</td>\n",
        "      <td> 0.190000</td>\n",
        "      <td> drinkingaMcDonaldscoffeeandnotunderstandingwhy...</td>\n",
        "      <td> 0.035714</td>\n",
        "      <td> drinking a mcdonalds coffee and not understand...</td>\n",
        "      <td> drinking a McDonalds coffee and not understand...</td>\n",
        "    </tr>\n",
        "    <tr>\n",
        "      <th>4</th>\n",
        "      <td> 1988884918</td>\n",
        "      <td> 0</td>\n",
        "      <td> So dissapointed Taylor Swift doesnt have a Twi...</td>\n",
        "      <td> 0.235294</td>\n",
        "      <td>       SodissapointedTaylorSwiftdoesnthaveaTwitter</td>\n",
        "      <td> 0.093023</td>\n",
        "      <td> so dissapointed taylor swift doesnt have a twi...</td>\n",
        "      <td> So dissapointed Taylor Swift doesnt have a Twi...</td>\n",
        "    </tr>\n",
        "  </tbody>\n",
        "</table>\n",
        "</div>"
       ],
       "metadata": {},
       "output_type": "pyout",
       "prompt_number": 594,
       "text": [
        "           id  polarity                                              tweet  \\\n",
        "0  1467933112         0  the angel is going to miss the athlete this we...   \n",
        "1  2323395086         0  It looks as though Shaq is getting traded to C...   \n",
        "2  1467968979         0     @clarianne APRIL 9TH ISN'T COMING SOON ENOUGH    \n",
        "3  1990283756         0  drinking a McDonalds coffee and not understand...   \n",
        "4  1988884918         0  So dissapointed Taylor Swift doesnt have a Twi...   \n",
        "\n",
        "    per_cap                                      tweetnospaces  per_cap_nosp  \\\n",
        "0  0.192308         theangelisgoingtomisstheathletethisweekend      0.000000   \n",
        "1  0.325397  ItlooksasthoughShaqisgettingtradedtoClevelandt...      0.158416   \n",
        "2  0.804348            @clarianneAPRIL9THISN'TCOMINGSOONENOUGH      0.769231   \n",
        "3  0.190000  drinkingaMcDonaldscoffeeandnotunderstandingwhy...      0.035714   \n",
        "4  0.235294        SodissapointedTaylorSwiftdoesnthaveaTwitter      0.093023   \n",
        "\n",
        "                                          tweetlower  \\\n",
        "0  the angel is going to miss the athlete this we...   \n",
        "1  it looks as though shaq is getting traded to c...   \n",
        "2     @clarianne april 9th isn't coming soon enough    \n",
        "3  drinking a mcdonalds coffee and not understand...   \n",
        "4  so dissapointed taylor swift doesnt have a twi...   \n",
        "\n",
        "                                          tweetrhtag  \n",
        "0  the angel is going to miss the athlete this we...  \n",
        "1  It looks as though Shaq is getting traded to C...  \n",
        "2                APRIL 9TH ISN'T COMING SOON ENOUGH   \n",
        "3  drinking a McDonalds coffee and not understand...  \n",
        "4  So dissapointed Taylor Swift doesnt have a Twi...  "
       ]
      }
     ],
     "prompt_number": 594
    },
    {
     "cell_type": "code",
     "collapsed": false,
     "input": [
      "df[df['polarity']==4].head()"
     ],
     "language": "python",
     "metadata": {},
     "outputs": [
      {
       "html": [
        "<div style=\"max-height:1000px;max-width:1500px;overflow:auto;\">\n",
        "<table border=\"1\" class=\"dataframe\">\n",
        "  <thead>\n",
        "    <tr style=\"text-align: right;\">\n",
        "      <th></th>\n",
        "      <th>id</th>\n",
        "      <th>polarity</th>\n",
        "      <th>tweet</th>\n",
        "      <th>per_cap</th>\n",
        "      <th>tweetnospaces</th>\n",
        "      <th>per_cap_nosp</th>\n",
        "      <th>tweetlower</th>\n",
        "      <th>tweetrhtag</th>\n",
        "    </tr>\n",
        "  </thead>\n",
        "  <tbody>\n",
        "    <tr>\n",
        "      <th>77</th>\n",
        "      <td> 1680347120</td>\n",
        "      <td> 4</td>\n",
        "      <td> @ mcdonalds with my litto sis aka cuzin lol cr...</td>\n",
        "      <td> 0.200000</td>\n",
        "      <td>     @mcdonaldswithmylittosisakacuzinlolcristyyyyy</td>\n",
        "      <td> 0.022222</td>\n",
        "      <td> @ mcdonalds with my litto sis aka cuzin lol cr...</td>\n",
        "      <td>  mcdonalds with my litto sis aka cuzin lol cri...</td>\n",
        "    </tr>\n",
        "    <tr>\n",
        "      <th>78</th>\n",
        "      <td> 1835259469</td>\n",
        "      <td> 4</td>\n",
        "      <td> @AnnaSaccone Love your new cards!   I would de...</td>\n",
        "      <td> 0.313433</td>\n",
        "      <td> @AnnaSacconeLoveyournewcards!Iwoulddefinitelyh...</td>\n",
        "      <td> 0.163636</td>\n",
        "      <td> @annasaccone love your new cards!   i would de...</td>\n",
        "      <td>  Love your new cards!   I would definitely hir...</td>\n",
        "    </tr>\n",
        "    <tr>\n",
        "      <th>79</th>\n",
        "      <td> 1983068285</td>\n",
        "      <td> 4</td>\n",
        "      <td> @supricky06 that was one of the most enjoyable...</td>\n",
        "      <td> 0.297297</td>\n",
        "      <td> @supricky06thatwasoneofthemostenjoyableexperie...</td>\n",
        "      <td> 0.178947</td>\n",
        "      <td> @supricky06 that was one of the most enjoyable...</td>\n",
        "      <td>  that was one of the most enjoyable experience...</td>\n",
        "    </tr>\n",
        "    <tr>\n",
        "      <th>80</th>\n",
        "      <td> 1559842363</td>\n",
        "      <td> 4</td>\n",
        "      <td> Dallas vegas goodness  http://twitpic.com/3lzt...</td>\n",
        "      <td> 0.306667</td>\n",
        "      <td> Dallasvegasgoodnesshttp://twitpic.com/3lzt1Onm...</td>\n",
        "      <td> 0.174603</td>\n",
        "      <td> dallas vegas goodness  http://twitpic.com/3lzt...</td>\n",
        "      <td> Dallas vegas goodness  http://twitpic.com/3lzt...</td>\n",
        "    </tr>\n",
        "    <tr>\n",
        "      <th>81</th>\n",
        "      <td> 1999078293</td>\n",
        "      <td> 4</td>\n",
        "      <td> @JBsFanArgentina Hey I luv this pic!!! was ama...</td>\n",
        "      <td> 0.472527</td>\n",
        "      <td> @JBsFanArgentinaHeyIluvthispic!!!wasamazingoft...</td>\n",
        "      <td> 0.351351</td>\n",
        "      <td> @jbsfanargentina hey i luv this pic!!! was ama...</td>\n",
        "      <td>  Hey I luv this pic!!! was amazing of the last...</td>\n",
        "    </tr>\n",
        "  </tbody>\n",
        "</table>\n",
        "</div>"
       ],
       "metadata": {},
       "output_type": "pyout",
       "prompt_number": 595,
       "text": [
        "            id  polarity                                              tweet  \\\n",
        "77  1680347120         4  @ mcdonalds with my litto sis aka cuzin lol cr...   \n",
        "78  1835259469         4  @AnnaSaccone Love your new cards!   I would de...   \n",
        "79  1983068285         4  @supricky06 that was one of the most enjoyable...   \n",
        "80  1559842363         4  Dallas vegas goodness  http://twitpic.com/3lzt...   \n",
        "81  1999078293         4  @JBsFanArgentina Hey I luv this pic!!! was ama...   \n",
        "\n",
        "     per_cap                                      tweetnospaces  per_cap_nosp  \\\n",
        "77  0.200000      @mcdonaldswithmylittosisakacuzinlolcristyyyyy      0.022222   \n",
        "78  0.313433  @AnnaSacconeLoveyournewcards!Iwoulddefinitelyh...      0.163636   \n",
        "79  0.297297  @supricky06thatwasoneofthemostenjoyableexperie...      0.178947   \n",
        "80  0.306667  Dallasvegasgoodnesshttp://twitpic.com/3lzt1Onm...      0.174603   \n",
        "81  0.472527  @JBsFanArgentinaHeyIluvthispic!!!wasamazingoft...      0.351351   \n",
        "\n",
        "                                           tweetlower  \\\n",
        "77  @ mcdonalds with my litto sis aka cuzin lol cr...   \n",
        "78  @annasaccone love your new cards!   i would de...   \n",
        "79  @supricky06 that was one of the most enjoyable...   \n",
        "80  dallas vegas goodness  http://twitpic.com/3lzt...   \n",
        "81  @jbsfanargentina hey i luv this pic!!! was ama...   \n",
        "\n",
        "                                           tweetrhtag  \n",
        "77   mcdonalds with my litto sis aka cuzin lol cri...  \n",
        "78   Love your new cards!   I would definitely hir...  \n",
        "79   that was one of the most enjoyable experience...  \n",
        "80  Dallas vegas goodness  http://twitpic.com/3lzt...  \n",
        "81   Hey I luv this pic!!! was amazing of the last...  "
       ]
      }
     ],
     "prompt_number": 595
    },
    {
     "cell_type": "code",
     "collapsed": false,
     "input": [
      "from sklearn.feature_extraction.text import CountVectorizer\n",
      "from sklearn.feature_extraction.text import TfidfVectorizer\n",
      "\n",
      "from sklearn.linear_model import LogisticRegression\n",
      "\n",
      "from sklearn.cross_validation import train_test_split\n",
      "\n",
      "from sklearn.grid_search import GridSearchCV\n",
      "\n",
      "from sklearn.naive_bayes import MultinomialNB\n",
      "from sklearn.naive_bayes import BernoulliNB"
     ],
     "language": "python",
     "metadata": {},
     "outputs": [],
     "prompt_number": 596
    },
    {
     "cell_type": "markdown",
     "metadata": {},
     "source": [
      "Start with a Naive Bayes model using the Count Vectorizer"
     ]
    },
    {
     "cell_type": "code",
     "collapsed": false,
     "input": [
      "df['tweet'][1:5]"
     ],
     "language": "python",
     "metadata": {},
     "outputs": [
      {
       "metadata": {},
       "output_type": "pyout",
       "prompt_number": 597,
       "text": [
        "1    It looks as though Shaq is getting traded to C...\n",
        "2       @clarianne APRIL 9TH ISN'T COMING SOON ENOUGH \n",
        "3    drinking a McDonalds coffee and not understand...\n",
        "4    So dissapointed Taylor Swift doesnt have a Twi...\n",
        "Name: tweet, dtype: object"
       ]
      }
     ],
     "prompt_number": 597
    },
    {
     "cell_type": "code",
     "collapsed": false,
     "input": [
      "vectorizer = CountVectorizer(ngram_range=(1,2))"
     ],
     "language": "python",
     "metadata": {},
     "outputs": [],
     "prompt_number": 598
    },
    {
     "cell_type": "code",
     "collapsed": false,
     "input": [
      "vectorizer.fit(df['tweet'])"
     ],
     "language": "python",
     "metadata": {},
     "outputs": [
      {
       "metadata": {},
       "output_type": "pyout",
       "prompt_number": 599,
       "text": [
        "CountVectorizer(analyzer=u'word', binary=False, charset=None,\n",
        "        charset_error=None, decode_error=u'strict',\n",
        "        dtype=<type 'numpy.int64'>, encoding=u'utf-8', input=u'content',\n",
        "        lowercase=True, max_df=1.0, max_features=None, min_df=1,\n",
        "        ngram_range=(1, 2), preprocessor=None, stop_words=None,\n",
        "        strip_accents=None, token_pattern=u'(?u)\\\\b\\\\w\\\\w+\\\\b',\n",
        "        tokenizer=None, vocabulary=None)"
       ]
      }
     ],
     "prompt_number": 599
    },
    {
     "cell_type": "code",
     "collapsed": false,
     "input": [
      "ll=vectorizer.get_feature_names()\n",
      "for i in range(0,10):\n",
      "    print ll[i]\n",
      "len(ll)"
     ],
     "language": "python",
     "metadata": {},
     "outputs": [
      {
       "output_type": "stream",
       "stream": "stdout",
       "text": [
        "00\n",
        "00 am\n",
        "00 m33\n",
        "000\n",
        "000 at\n",
        "000 followers\n",
        "000gbp\n",
        "000gbp for\n",
        "00am\n",
        "00am little\n"
       ]
      },
      {
       "metadata": {},
       "output_type": "pyout",
       "prompt_number": 600,
       "text": [
        "24410"
       ]
      }
     ],
     "prompt_number": 600
    },
    {
     "cell_type": "code",
     "collapsed": false,
     "input": [
      "X = vectorizer.transform(df['tweet'])\n",
      "x_back = X.toarray()\n",
      "x_back.shape\n",
      "#print x"
     ],
     "language": "python",
     "metadata": {},
     "outputs": [
      {
       "metadata": {},
       "output_type": "pyout",
       "prompt_number": 601,
       "text": [
        "(2034, 24410)"
       ]
      }
     ],
     "prompt_number": 601
    },
    {
     "cell_type": "markdown",
     "metadata": {},
     "source": [
      "The sparse array, and indeed the one that is not sparse (x_back above) contains the information required to relate the generated ngrams back to the original tweet, based on the tweet's row number."
     ]
    },
    {
     "cell_type": "code",
     "collapsed": false,
     "input": [
      "Y = (df['polarity'] == 0).values.astype(np.int)"
     ],
     "language": "python",
     "metadata": {},
     "outputs": [],
     "prompt_number": 625
    },
    {
     "cell_type": "markdown",
     "metadata": {},
     "source": [
      "Split the test set into two halves, rather than doing n-fold cross validation."
     ]
    },
    {
     "cell_type": "code",
     "collapsed": false,
     "input": [
      "xtrain, xtest, ytrain, ytest = train_test_split(x_back,Y, test_size=0.5, random_state=41)\n",
      "ytest[1:10]\n",
      "print xtrain.shape\n",
      "print xtest.shape\n",
      "print ytrain.shape\n",
      "print ytest.shape"
     ],
     "language": "python",
     "metadata": {},
     "outputs": [
      {
       "output_type": "stream",
       "stream": "stdout",
       "text": [
        "(1017, 24410)\n",
        "(1017, 24410)\n",
        "(1017,)\n",
        "(1017,)\n"
       ]
      }
     ],
     "prompt_number": 626
    },
    {
     "cell_type": "code",
     "collapsed": false,
     "input": [
      "def accuracy_report(_clf, xtrain,ytrain,xtest, ytest):\n",
      "    print \"Accuracy: %0.2f%%\" % (100 * _clf.score(xtest, ytest))\n",
      "\n",
      "    #Print the accuracy on the test and training dataset\n",
      "    training_accuracy = _clf.score(xtrain, ytrain)\n",
      "    test_accuracy = _clf.score(xtest, ytest)\n",
      "\n",
      "    print \"Accuracy on training data: %0.2f\" % (training_accuracy)\n",
      " "
     ],
     "language": "python",
     "metadata": {},
     "outputs": [],
     "prompt_number": 627
    },
    {
     "cell_type": "code",
     "collapsed": false,
     "input": [
      "print \"multinomial\"\n",
      "clf_mn = MultinomialNB().fit(xtrain, ytrain)\n",
      "accuracy_report(clf_mn, xtrain, ytrain, xtest, ytest)"
     ],
     "language": "python",
     "metadata": {},
     "outputs": [
      {
       "output_type": "stream",
       "stream": "stdout",
       "text": [
        "multinomial\n",
        "Accuracy: 82.99%"
       ]
      },
      {
       "output_type": "stream",
       "stream": "stdout",
       "text": [
        "\n",
        "Accuracy on training data: 0.99"
       ]
      },
      {
       "output_type": "stream",
       "stream": "stdout",
       "text": [
        "\n"
       ]
      }
     ],
     "prompt_number": 628
    },
    {
     "cell_type": "code",
     "collapsed": false,
     "input": [
      "pd.crosstab(Y, clf_mn.predict(x_back), rownames=[\"Actual\"], colnames=[\"Predicted\"])"
     ],
     "language": "python",
     "metadata": {},
     "outputs": [
      {
       "html": [
        "<div style=\"max-height:1000px;max-width:1500px;overflow:auto;\">\n",
        "<table border=\"1\" class=\"dataframe\">\n",
        "  <thead>\n",
        "    <tr style=\"text-align: right;\">\n",
        "      <th>Predicted</th>\n",
        "      <th>0</th>\n",
        "      <th>1</th>\n",
        "    </tr>\n",
        "    <tr>\n",
        "      <th>Actual</th>\n",
        "      <th></th>\n",
        "      <th></th>\n",
        "    </tr>\n",
        "  </thead>\n",
        "  <tbody>\n",
        "    <tr>\n",
        "      <th>0</th>\n",
        "      <td> 500</td>\n",
        "      <td>  132</td>\n",
        "    </tr>\n",
        "    <tr>\n",
        "      <th>1</th>\n",
        "      <td>  49</td>\n",
        "      <td> 1353</td>\n",
        "    </tr>\n",
        "  </tbody>\n",
        "</table>\n",
        "</div>"
       ],
       "metadata": {},
       "output_type": "pyout",
       "prompt_number": 629,
       "text": [
        "Predicted    0     1\n",
        "Actual              \n",
        "0          500   132\n",
        "1           49  1353"
       ]
      }
     ],
     "prompt_number": 629
    },
    {
     "cell_type": "code",
     "collapsed": false,
     "input": [
      "print \"bernoulli\"\n",
      "clf_b = BernoulliNB().fit(xtrain, ytrain)\n",
      "accuracy_report(clf_b, xtrain, ytrain, xtest, ytest)"
     ],
     "language": "python",
     "metadata": {},
     "outputs": [
      {
       "output_type": "stream",
       "stream": "stdout",
       "text": [
        "bernoulli\n",
        "Accuracy: 69.22%"
       ]
      },
      {
       "output_type": "stream",
       "stream": "stdout",
       "text": [
        "\n",
        "Accuracy on training data: 0.73"
       ]
      },
      {
       "output_type": "stream",
       "stream": "stdout",
       "text": [
        "\n"
       ]
      }
     ],
     "prompt_number": 618
    },
    {
     "cell_type": "code",
     "collapsed": false,
     "input": [
      "pd.crosstab(Y, clf_b.predict(x_back), rownames=[\"Actual\"], colnames=[\"Predicted\"])"
     ],
     "language": "python",
     "metadata": {},
     "outputs": [
      {
       "html": [
        "<div style=\"max-height:1000px;max-width:1500px;overflow:auto;\">\n",
        "<table border=\"1\" class=\"dataframe\">\n",
        "  <thead>\n",
        "    <tr style=\"text-align: right;\">\n",
        "      <th>Predicted</th>\n",
        "      <th>0</th>\n",
        "      <th>1</th>\n",
        "    </tr>\n",
        "    <tr>\n",
        "      <th>Actual</th>\n",
        "      <th></th>\n",
        "      <th></th>\n",
        "    </tr>\n",
        "  </thead>\n",
        "  <tbody>\n",
        "    <tr>\n",
        "      <th>0</th>\n",
        "      <td> 40</td>\n",
        "      <td>  592</td>\n",
        "    </tr>\n",
        "    <tr>\n",
        "      <th>1</th>\n",
        "      <td>  0</td>\n",
        "      <td> 1402</td>\n",
        "    </tr>\n",
        "  </tbody>\n",
        "</table>\n",
        "</div>"
       ],
       "metadata": {},
       "output_type": "pyout",
       "prompt_number": 619,
       "text": [
        "Predicted   0     1\n",
        "Actual             \n",
        "0          40   592\n",
        "1           0  1402"
       ]
      }
     ],
     "prompt_number": 619
    },
    {
     "cell_type": "code",
     "collapsed": false,
     "input": [
      "def AnalyzeTweet(testtweet, _clf):\n",
      "    print \"\\\"\"  + testtweet + \"\\\" is judged by clasifier to be...\"\n",
      "    testtweet = vectorizer.transform([testtweet])\n",
      "\n",
      "    if (_clf.predict(testtweet)[0] == 0):\n",
      "        print \"... Positive Tweet.\"\n",
      "    else:\n",
      "        print \"... Negative Tweet.\"\n",
      "    return(_clf.predict(testtweet)[0])"
     ],
     "language": "python",
     "metadata": {},
     "outputs": [],
     "prompt_number": 630
    },
    {
     "cell_type": "code",
     "collapsed": false,
     "input": [
      "print AnalyzeTweet(\"have a good day\", clf_mn)\n",
      "print AnalyzeTweet(\"this is fantastic\", clf_mn)\n",
      "print AnalyzeTweet(\"congrats on the new job\", clf_mn)"
     ],
     "language": "python",
     "metadata": {},
     "outputs": [
      {
       "output_type": "stream",
       "stream": "stdout",
       "text": [
        "\"have a good day\" is judged by clasifier to be...\n",
        "... Negative Tweet.\n",
        "1\n",
        "\"this is fantastic\" is judged by clasifier to be...\n",
        "... Positive Tweet.\n",
        "0\n",
        "\"congrats on the new job\" is judged by clasifier to be...\n",
        "... Positive Tweet.\n",
        "0\n"
       ]
      }
     ],
     "prompt_number": 634
    },
    {
     "cell_type": "code",
     "collapsed": false,
     "input": [
      "print AnalyzeTweet(\"what a pain that was\", clf_mn)\n",
      "print AnalyzeTweet(\"back luck about the interveiw\", clf_mn)\n",
      "print AnalyzeTweet(\"hopefully next time\", clf_mn)"
     ],
     "language": "python",
     "metadata": {},
     "outputs": [
      {
       "output_type": "stream",
       "stream": "stdout",
       "text": [
        "\"what a pain that was\" is judged by clasifier to be...\n",
        "... Negative Tweet.\n",
        "1\n",
        "\"back luck about the interveiw\" is judged by clasifier to be...\n",
        "... Negative Tweet.\n",
        "1\n",
        "\"hopefully next time\" is judged by clasifier to be...\n",
        "... Negative Tweet.\n",
        "1\n"
       ]
      }
     ],
     "prompt_number": 637
    },
    {
     "cell_type": "markdown",
     "metadata": {},
     "source": [
      "The Multinomial Naive Bayes has the better accuracy of the two models above."
     ]
    },
    {
     "cell_type": "markdown",
     "metadata": {},
     "source": [
      "Explore the TF-IDF Vectorizer to see if weighting ngrams according to their frequency helps the classification model. I \n",
      "suspect this might work better in longer form textual contexts such as email."
     ]
    },
    {
     "cell_type": "markdown",
     "metadata": {},
     "source": [
      "Initially do a little exploration of how this works."
     ]
    },
    {
     "cell_type": "code",
     "collapsed": false,
     "input": [
      "tf={'Words':[\"The Learning is\", \"The Python is\", \"The one crazy person\"]}\n",
      "tf = pd.DataFrame(tf)\n",
      "tf"
     ],
     "language": "python",
     "metadata": {},
     "outputs": [
      {
       "html": [
        "<div style=\"max-height:1000px;max-width:1500px;overflow:auto;\">\n",
        "<table border=\"1\" class=\"dataframe\">\n",
        "  <thead>\n",
        "    <tr style=\"text-align: right;\">\n",
        "      <th></th>\n",
        "      <th>Words</th>\n",
        "    </tr>\n",
        "  </thead>\n",
        "  <tbody>\n",
        "    <tr>\n",
        "      <th>0</th>\n",
        "      <td>      The Learning is</td>\n",
        "    </tr>\n",
        "    <tr>\n",
        "      <th>1</th>\n",
        "      <td>        The Python is</td>\n",
        "    </tr>\n",
        "    <tr>\n",
        "      <th>2</th>\n",
        "      <td> The one crazy person</td>\n",
        "    </tr>\n",
        "  </tbody>\n",
        "</table>\n",
        "</div>"
       ],
       "metadata": {},
       "output_type": "pyout",
       "prompt_number": 456,
       "text": [
        "                  Words\n",
        "0       The Learning is\n",
        "1         The Python is\n",
        "2  The one crazy person"
       ]
      }
     ],
     "prompt_number": 456
    },
    {
     "cell_type": "code",
     "collapsed": false,
     "input": [
      "testTFV = TfidfVectorizer(ngram_range=(1,2))\n",
      "testTFV.fit(tf['Words'])"
     ],
     "language": "python",
     "metadata": {},
     "outputs": [
      {
       "metadata": {},
       "output_type": "pyout",
       "prompt_number": 457,
       "text": [
        "TfidfVectorizer(analyzer=u'word', binary=False, charset=None,\n",
        "        charset_error=None, decode_error=u'strict',\n",
        "        dtype=<type 'numpy.int64'>, encoding=u'utf-8', input=u'content',\n",
        "        lowercase=True, max_df=1.0, max_features=None, min_df=1,\n",
        "        ngram_range=(1, 2), norm=u'l2', preprocessor=None, smooth_idf=True,\n",
        "        stop_words=None, strip_accents=None, sublinear_tf=False,\n",
        "        token_pattern=u'(?u)\\\\b\\\\w\\\\w+\\\\b', tokenizer=None, use_idf=True,\n",
        "        vocabulary=None)"
       ]
      }
     ],
     "prompt_number": 457
    },
    {
     "cell_type": "code",
     "collapsed": false,
     "input": [
      "testTFV.get_feature_names()"
     ],
     "language": "python",
     "metadata": {},
     "outputs": [
      {
       "metadata": {},
       "output_type": "pyout",
       "prompt_number": 458,
       "text": [
        "[u'crazy',\n",
        " u'crazy person',\n",
        " u'is',\n",
        " u'learning',\n",
        " u'learning is',\n",
        " u'one',\n",
        " u'one crazy',\n",
        " u'person',\n",
        " u'python',\n",
        " u'python is',\n",
        " u'the',\n",
        " u'the learning',\n",
        " u'the one',\n",
        " u'the python']"
       ]
      }
     ],
     "prompt_number": 458
    },
    {
     "cell_type": "code",
     "collapsed": false,
     "input": [
      "testx = testTFV.transform(tf['Words'])\n",
      "testxa = testx.toarray()\n",
      "testxa"
     ],
     "language": "python",
     "metadata": {},
     "outputs": [
      {
       "metadata": {},
       "output_type": "pyout",
       "prompt_number": 290,
       "text": [
        "array([[ 0.        ,  0.        ,  0.38376993,  0.50461134,  0.50461134,\n",
        "         0.        ,  0.        ,  0.        ,  0.        ,  0.        ,\n",
        "         0.29803159,  0.50461134,  0.        ,  0.        ],\n",
        "       [ 0.        ,  0.        ,  0.38376993,  0.        ,  0.        ,\n",
        "         0.        ,  0.        ,  0.        ,  0.50461134,  0.50461134,\n",
        "         0.29803159,  0.        ,  0.        ,  0.50461134],\n",
        "       [ 0.39687454,  0.39687454,  0.        ,  0.        ,  0.        ,\n",
        "         0.39687454,  0.39687454,  0.39687454,  0.        ,  0.        ,\n",
        "         0.2344005 ,  0.        ,  0.39687454,  0.        ]])"
       ]
      }
     ],
     "prompt_number": 290
    },
    {
     "cell_type": "code",
     "collapsed": false,
     "input": [
      "vectorizerTF = TfidfVectorizer(ngram_range=(1,2))\n",
      "vectorizerTF.fit(df['tweet'])\n",
      "XTF = vectorizerTF.transform(df['tweet'])\n",
      "x_backTF = XTF.toarray()\n",
      "x_backTF.shape"
     ],
     "language": "python",
     "metadata": {},
     "outputs": [
      {
       "metadata": {},
       "output_type": "pyout",
       "prompt_number": 388,
       "text": [
        "(2034, 24410)"
       ]
      }
     ],
     "prompt_number": 388
    },
    {
     "cell_type": "code",
     "collapsed": false,
     "input": [
      "x_backTF"
     ],
     "language": "python",
     "metadata": {},
     "outputs": [
      {
       "metadata": {},
       "output_type": "pyout",
       "prompt_number": 639,
       "text": [
        "array([[ 0.,  0.,  0., ...,  0.,  0.,  0.],\n",
        "       [ 0.,  0.,  0., ...,  0.,  0.,  0.],\n",
        "       [ 0.,  0.,  0., ...,  0.,  0.,  0.],\n",
        "       ..., \n",
        "       [ 0.,  0.,  0., ...,  0.,  0.,  0.],\n",
        "       [ 0.,  0.,  0., ...,  0.,  0.,  0.],\n",
        "       [ 0.,  0.,  0., ...,  0.,  0.,  0.]])"
       ]
      }
     ],
     "prompt_number": 639
    },
    {
     "cell_type": "markdown",
     "metadata": {},
     "source": [
      "Still a very sparse array"
     ]
    },
    {
     "cell_type": "code",
     "collapsed": false,
     "input": [
      "YTF = (df['polarity'] == 0).values.astype(np.int)\n",
      "xtrainTF, xtestTF, ytrainTF, ytestTF = train_test_split(x_backTF,YTF, test_size=0.5, random_state=41)"
     ],
     "language": "python",
     "metadata": {},
     "outputs": [],
     "prompt_number": 640
    },
    {
     "cell_type": "code",
     "collapsed": false,
     "input": [
      "print \"multinomial\"\n",
      "clf_mn_tf = MultinomialNB().fit(xtrainTF, ytrainTF)\n",
      "accuracy_report(clf_mn_tf, xtrainTF, ytrainTF, xtestTF, ytestTF)"
     ],
     "language": "python",
     "metadata": {},
     "outputs": [
      {
       "output_type": "stream",
       "stream": "stdout",
       "text": [
        "multinomial\n",
        "Accuracy: 69.42%"
       ]
      },
      {
       "output_type": "stream",
       "stream": "stdout",
       "text": [
        "\n",
        "Accuracy on training data: 0.84"
       ]
      },
      {
       "output_type": "stream",
       "stream": "stdout",
       "text": [
        "\n"
       ]
      }
     ],
     "prompt_number": 641
    },
    {
     "cell_type": "markdown",
     "metadata": {},
     "source": [
      "No hugely impressive. It significantly worsened the classification performance! Clearly weighting ngrams is not helpful in classification of tweets - well not in this instance anyway.\n",
      "Try adding the percentage capitalized column to the data.\n",
      "In terms of adding this feature all I have done is to add a column to the data matrix (array). \n",
      "This should, in theory, work."
     ]
    },
    {
     "cell_type": "code",
     "collapsed": false,
     "input": [
      "x_backTF_2 = np.zeros((2034, 24411))\n",
      "print x_backTF_2.shape\n",
      "#x_backTF_2[:,:-1] = x_backTF\n",
      "x_backTF_2[:,:-1] = x_back\n",
      "x_backTF_2[:,24410]=df['per_cap_nosp'].values\n",
      "x_backTF_2[1,:]"
     ],
     "language": "python",
     "metadata": {},
     "outputs": [
      {
       "output_type": "stream",
       "stream": "stdout",
       "text": [
        "(2034, 24411)\n"
       ]
      },
      {
       "metadata": {},
       "output_type": "pyout",
       "prompt_number": 642,
       "text": [
        "array([ 0.        ,  0.        ,  0.        , ...,  0.        ,\n",
        "        0.        ,  0.15841584])"
       ]
      }
     ],
     "prompt_number": 642
    },
    {
     "cell_type": "code",
     "collapsed": false,
     "input": [
      "YTF_2 = (df['polarity'] == 0).values.astype(np.int)\n",
      "xtrainTF_2, xtestTF_2, ytrainTF_2, ytestTF_2 = train_test_split(x_backTF_2,YTF_2, test_size=0.5, random_state=41)"
     ],
     "language": "python",
     "metadata": {},
     "outputs": [],
     "prompt_number": 643
    },
    {
     "cell_type": "code",
     "collapsed": false,
     "input": [
      "print \"multinomial\"\n",
      "clf_mn_tf_2 = MultinomialNB().fit(xtrainTF_2, ytrainTF_2)\n",
      "accuracy_report(clf_mn_tf_2, xtrainTF_2, ytrainTF_2, xtestTF_2, ytestTF_2)"
     ],
     "language": "python",
     "metadata": {},
     "outputs": [
      {
       "output_type": "stream",
       "stream": "stdout",
       "text": [
        "multinomial\n",
        "Accuracy: 82.99%"
       ]
      },
      {
       "output_type": "stream",
       "stream": "stdout",
       "text": [
        "\n",
        "Accuracy on training data: 0.99"
       ]
      },
      {
       "output_type": "stream",
       "stream": "stdout",
       "text": [
        "\n"
       ]
      }
     ],
     "prompt_number": 644
    },
    {
     "cell_type": "markdown",
     "metadata": {},
     "source": [
      "This certainly improved the classification performance!\n",
      "Let's return to the simple CountVectorizer.\n",
      "Try the Count Vectorizer using ngrams formed from lowercase tweets that have had their hashtags removed."
     ]
    },
    {
     "cell_type": "code",
     "collapsed": false,
     "input": [
      "vectorizer4 = CountVectorizer(ngram_range=(1,2), lowercase=True)\n",
      "vectorizer4.fit(df['tweetrhtag'])\n",
      "X4 = vectorizer4.transform(df['tweetrhtag'])\n",
      "x4_back = X4.toarray()\n",
      "print x4_back.shape\n",
      "print len(x4_back[0])"
     ],
     "language": "python",
     "metadata": {},
     "outputs": [
      {
       "output_type": "stream",
       "stream": "stdout",
       "text": [
        "(2034, 23047)\n",
        "23047\n"
       ]
      }
     ],
     "prompt_number": 645
    },
    {
     "cell_type": "code",
     "collapsed": false,
     "input": [
      "Y4 = (df['polarity'] == 0).values.astype(np.int)\n",
      "xtrain4, xtest4, ytrain4, ytest4 = train_test_split(x4_back,Y4, test_size=0.5, random_state=41)"
     ],
     "language": "python",
     "metadata": {},
     "outputs": [],
     "prompt_number": 646
    },
    {
     "cell_type": "code",
     "collapsed": false,
     "input": [
      "print \"multinomial\"\n",
      "clf_mn_4 = MultinomialNB().fit(xtrain4, ytrain4)\n",
      "accuracy_report(clf_mn_4, xtrain4, ytrain4, xtest4, ytest4)"
     ],
     "language": "python",
     "metadata": {},
     "outputs": [
      {
       "output_type": "stream",
       "stream": "stdout",
       "text": [
        "multinomial\n",
        "Accuracy: 82.60%"
       ]
      },
      {
       "output_type": "stream",
       "stream": "stdout",
       "text": [
        "\n",
        "Accuracy on training data: 0.99"
       ]
      },
      {
       "output_type": "stream",
       "stream": "stdout",
       "text": [
        "\n"
       ]
      }
     ],
     "prompt_number": 647
    },
    {
     "cell_type": "markdown",
     "metadata": {},
     "source": [
      "Again add an extra column to the array to add the percentage capitalized column"
     ]
    },
    {
     "cell_type": "code",
     "collapsed": false,
     "input": [
      "x4_back_2 = np.zeros((2034, len(x4_back[0])+1))\n",
      "print x4_back_2.shape\n",
      "#x_backTF_2[:,:-1] = x_backTF\n",
      "x4_back_2[:,:-1] = x4_back\n",
      "x4_back_2[:,len(x4_back[0])]=df['per_cap_nosp'].values\n",
      "print x4_back_2[1,:]"
     ],
     "language": "python",
     "metadata": {},
     "outputs": [
      {
       "output_type": "stream",
       "stream": "stdout",
       "text": [
        "(2034, 23048)\n",
        "[ 0.          0.          0.         ...,  0.          0.          0.15841584]"
       ]
      },
      {
       "output_type": "stream",
       "stream": "stdout",
       "text": [
        "\n"
       ]
      }
     ],
     "prompt_number": 648
    },
    {
     "cell_type": "code",
     "collapsed": false,
     "input": [
      "Y4 = (df['polarity'] == 0).values.astype(np.int)\n",
      "xtrain4, xtest4, ytrain4, ytest4 = train_test_split(x4_back_2,Y4, test_size=0.5, random_state=41)"
     ],
     "language": "python",
     "metadata": {},
     "outputs": [],
     "prompt_number": 649
    },
    {
     "cell_type": "code",
     "collapsed": false,
     "input": [
      "print \"multinomial\"\n",
      "clf_mn_4 = MultinomialNB().fit(xtrain4, ytrain4)\n",
      "accuracy_report(clf_mn_4, xtrain4, ytrain4, xtest4, ytest4)"
     ],
     "language": "python",
     "metadata": {},
     "outputs": [
      {
       "output_type": "stream",
       "stream": "stdout",
       "text": [
        "multinomial\n",
        "Accuracy: 82.30%"
       ]
      },
      {
       "output_type": "stream",
       "stream": "stdout",
       "text": [
        "\n",
        "Accuracy on training data: 0.99"
       ]
      },
      {
       "output_type": "stream",
       "stream": "stdout",
       "text": [
        "\n"
       ]
      }
     ],
     "prompt_number": 650
    },
    {
     "cell_type": "markdown",
     "metadata": {},
     "source": [
      "Overall none of the models better the performance of the original Count Vectorizer model trained on the \"as they came\" tweets."
     ]
    },
    {
     "cell_type": "markdown",
     "metadata": {},
     "source": [
      "Now try a logistic regression model.\n",
      "Using the training set with the hash tags removed and the addition of the percent capitalized field."
     ]
    },
    {
     "cell_type": "markdown",
     "metadata": {},
     "source": [
      "Simple model without cross validation"
     ]
    },
    {
     "cell_type": "code",
     "collapsed": false,
     "input": [
      "Y4 = (df['polarity'] == 0).values.astype(np.int)\n",
      "xtrain4, xtest4, ytrain4, ytest4 = train_test_split(x4_back_2,Y4, test_size=0.5, random_state=41)\n",
      "reg=1000\n",
      "clf_lr = LogisticRegression(C=reg)\n",
      "clf_lr.fit(xtrain4, ytrain4)\n",
      "accuracy_report(clf_lr, xtrain4, ytrain4, xtest4, ytest4)"
     ],
     "language": "python",
     "metadata": {},
     "outputs": [
      {
       "output_type": "stream",
       "stream": "stdout",
       "text": [
        "Accuracy: 82.20%\n",
        "Accuracy on training data: 1.00"
       ]
      },
      {
       "output_type": "stream",
       "stream": "stdout",
       "text": [
        "\n"
       ]
      }
     ],
     "prompt_number": 651
    },
    {
     "cell_type": "code",
     "collapsed": false,
     "input": [
      "pd.crosstab(Y4, clf_lr.predict(x4_back_2), rownames=[\"Actual\"], colnames=[\"Predicted\"])"
     ],
     "language": "python",
     "metadata": {},
     "outputs": [
      {
       "html": [
        "<div style=\"max-height:1000px;max-width:1500px;overflow:auto;\">\n",
        "<table border=\"1\" class=\"dataframe\">\n",
        "  <thead>\n",
        "    <tr style=\"text-align: right;\">\n",
        "      <th>Predicted</th>\n",
        "      <th>0</th>\n",
        "      <th>1</th>\n",
        "    </tr>\n",
        "    <tr>\n",
        "      <th>Actual</th>\n",
        "      <th></th>\n",
        "      <th></th>\n",
        "    </tr>\n",
        "  </thead>\n",
        "  <tbody>\n",
        "    <tr>\n",
        "      <th>0</th>\n",
        "      <td> 506</td>\n",
        "      <td>  126</td>\n",
        "    </tr>\n",
        "    <tr>\n",
        "      <th>1</th>\n",
        "      <td>  55</td>\n",
        "      <td> 1347</td>\n",
        "    </tr>\n",
        "  </tbody>\n",
        "</table>\n",
        "</div>"
       ],
       "metadata": {},
       "output_type": "pyout",
       "prompt_number": 652,
       "text": [
        "Predicted    0     1\n",
        "Actual              \n",
        "0          506   126\n",
        "1           55  1347"
       ]
      }
     ],
     "prompt_number": 652
    },
    {
     "cell_type": "markdown",
     "metadata": {},
     "source": [
      "Now add cross validation using the GridSearchCV functionality."
     ]
    },
    {
     "cell_type": "code",
     "collapsed": false,
     "input": [
      "def fit_logistic(xtr, ytr, reg=0.0001, pen=\"l2\"):\n",
      "    clf = LogisticRegression(C=reg, penalty=pen)\n",
      "    clf.fit(xtr, ytr)\n",
      "    return clf"
     ],
     "language": "python",
     "metadata": {},
     "outputs": [],
     "prompt_number": 653
    },
    {
     "cell_type": "code",
     "collapsed": false,
     "input": [
      "def cv_optimize(xtr, ytr, paramaterList, pen=\"l2\", n_folds=10):\n",
      "    clf = LogisticRegression(penalty=pen)\n",
      "    parameters = {\"C\": paramaterList}\n",
      "    gs = GridSearchCV(clf, param_grid=parameters, cv=n_folds)\n",
      "    gs.fit(xtr, ytr)\n",
      "    return gs.best_params_, gs.best_score_"
     ],
     "language": "python",
     "metadata": {},
     "outputs": [],
     "prompt_number": 654
    },
    {
     "cell_type": "code",
     "collapsed": false,
     "input": [
      "def cv_and_fit(xtr, ytr, parList, pen=\"l2\", nFolds=10):\n",
      "    print \"Penalty is %s\", pen\n",
      "    print \"nFolds is %d\", nFolds\n",
      "    bp, bs = cv_optimize(xtr, ytr, parList, pen, nFolds)\n",
      "    print \"Best Parameter: %s, Best Score: %s\" % (bp, bs)\n",
      "    clf = fit_logistic(xtr, ytr, bp['C'], pen)\n",
      "    return clf"
     ],
     "language": "python",
     "metadata": {},
     "outputs": [],
     "prompt_number": 655
    },
    {
     "cell_type": "code",
     "collapsed": false,
     "input": [
      "print x4_back_2.shape"
     ],
     "language": "python",
     "metadata": {},
     "outputs": [
      {
       "output_type": "stream",
       "stream": "stdout",
       "text": [
        "(2034, 23048)\n"
       ]
      }
     ],
     "prompt_number": 656
    },
    {
     "cell_type": "code",
     "collapsed": false,
     "input": [
      "nFlds = 5\n",
      "regSpace = np.logspace(-4, 5, num=100)\n",
      "clf_opt=cv_and_fit(xtr = x4_back_2, ytr = Y4, parList = regSpace, nFolds = nFlds)"
     ],
     "language": "python",
     "metadata": {},
     "outputs": [
      {
       "output_type": "stream",
       "stream": "stdout",
       "text": [
        "Penalty is %s l2\n",
        "nFolds is %d 5\n",
        "Best Parameter: {'C': 65793.322465756821}, Best Score: 0.839233038348"
       ]
      },
      {
       "output_type": "stream",
       "stream": "stdout",
       "text": [
        "\n"
       ]
      }
     ],
     "prompt_number": 657
    },
    {
     "cell_type": "code",
     "collapsed": false,
     "input": [
      "accuracy_report(clf_opt, xtrain4, ytrain4, xtest4, ytest4)"
     ],
     "language": "python",
     "metadata": {},
     "outputs": [
      {
       "output_type": "stream",
       "stream": "stdout",
       "text": [
        "Accuracy: 100.00%\n",
        "Accuracy on training data: 1.00"
       ]
      },
      {
       "output_type": "stream",
       "stream": "stdout",
       "text": [
        "\n"
       ]
      }
     ],
     "prompt_number": 658
    },
    {
     "cell_type": "code",
     "collapsed": false,
     "input": [
      "pd.crosstab(Y4, clf_opt.predict(x4_back_2), rownames=[\"Actual\"], colnames=[\"Predicted\"])"
     ],
     "language": "python",
     "metadata": {},
     "outputs": [
      {
       "html": [
        "<div style=\"max-height:1000px;max-width:1500px;overflow:auto;\">\n",
        "<table border=\"1\" class=\"dataframe\">\n",
        "  <thead>\n",
        "    <tr style=\"text-align: right;\">\n",
        "      <th>Predicted</th>\n",
        "      <th>0</th>\n",
        "      <th>1</th>\n",
        "    </tr>\n",
        "    <tr>\n",
        "      <th>Actual</th>\n",
        "      <th></th>\n",
        "      <th></th>\n",
        "    </tr>\n",
        "  </thead>\n",
        "  <tbody>\n",
        "    <tr>\n",
        "      <th>0</th>\n",
        "      <td> 632</td>\n",
        "      <td>    0</td>\n",
        "    </tr>\n",
        "    <tr>\n",
        "      <th>1</th>\n",
        "      <td>   0</td>\n",
        "      <td> 1402</td>\n",
        "    </tr>\n",
        "  </tbody>\n",
        "</table>\n",
        "</div>"
       ],
       "metadata": {},
       "output_type": "pyout",
       "prompt_number": 659,
       "text": [
        "Predicted    0     1\n",
        "Actual              \n",
        "0          632     0\n",
        "1            0  1402"
       ]
      }
     ],
     "prompt_number": 659
    },
    {
     "cell_type": "markdown",
     "metadata": {},
     "source": [
      "I am HIGHLY SUSPICIOUS of this result. \n",
      "This appears to be a clear case of lots of training on all the data, so not seeing the results of testing on a separate test set. Not sure where the problem lies in the above code.\n",
      "I note the Best Score of 0.839 from the Grid Search.\n",
      "It is possible that the two distributions are non-overlapping. The training data is an array with over 23000 columns. So the data is very very sparse in such a high dimensional space.\n",
      "To use this approach with logistic regression and get a robust result would require the reduction in the dimensionality of the array first.\n",
      "I would also want to readjust the training set to equal priors. So for logistic regression it would be important to balance the training set with equal numbers of polarity 0 and polarity 4 tweets."
     ]
    },
    {
     "cell_type": "markdown",
     "metadata": {},
     "source": [
      "Below is just some example work I did to understand better how the count vectorizer is working"
     ]
    },
    {
     "cell_type": "code",
     "collapsed": false,
     "input": [
      "#Example the letters represent words\n",
      "tf={'Words':[\"Learning\", \"Python is\", \"one crazy person\"]}\n",
      "tf = pd.DataFrame(tf)\n",
      "tf"
     ],
     "language": "python",
     "metadata": {},
     "outputs": [
      {
       "html": [
        "<div style=\"max-height:1000px;max-width:1500px;overflow:auto;\">\n",
        "<table border=\"1\" class=\"dataframe\">\n",
        "  <thead>\n",
        "    <tr style=\"text-align: right;\">\n",
        "      <th></th>\n",
        "      <th>Words</th>\n",
        "    </tr>\n",
        "  </thead>\n",
        "  <tbody>\n",
        "    <tr>\n",
        "      <th>0</th>\n",
        "      <td>         Learning</td>\n",
        "    </tr>\n",
        "    <tr>\n",
        "      <th>1</th>\n",
        "      <td>        Python is</td>\n",
        "    </tr>\n",
        "    <tr>\n",
        "      <th>2</th>\n",
        "      <td> one crazy person</td>\n",
        "    </tr>\n",
        "  </tbody>\n",
        "</table>\n",
        "</div>"
       ],
       "metadata": {},
       "output_type": "pyout",
       "prompt_number": 405,
       "text": [
        "              Words\n",
        "0          Learning\n",
        "1         Python is\n",
        "2  one crazy person"
       ]
      }
     ],
     "prompt_number": 405
    },
    {
     "cell_type": "code",
     "collapsed": false,
     "input": [
      "testV = CountVectorizer(ngram_range=(1,2))\n",
      "testV.fit(tf['Words'])"
     ],
     "language": "python",
     "metadata": {},
     "outputs": [
      {
       "metadata": {},
       "output_type": "pyout",
       "prompt_number": 424,
       "text": [
        "CountVectorizer(analyzer=u'word', binary=False, charset=None,\n",
        "        charset_error=None, decode_error=u'strict',\n",
        "        dtype=<type 'numpy.int64'>, encoding=u'utf-8', input=u'content',\n",
        "        lowercase=True, max_df=1.0, max_features=None, min_df=1,\n",
        "        ngram_range=(1, 2), preprocessor=None, stop_words=None,\n",
        "        strip_accents=None, token_pattern=u'(?u)\\\\b\\\\w\\\\w+\\\\b',\n",
        "        tokenizer=None, vocabulary=None)"
       ]
      }
     ],
     "prompt_number": 424
    },
    {
     "cell_type": "code",
     "collapsed": false,
     "input": [
      "testV.get_feature_names()"
     ],
     "language": "python",
     "metadata": {},
     "outputs": [
      {
       "metadata": {},
       "output_type": "pyout",
       "prompt_number": 425,
       "text": [
        "[u'crazy',\n",
        " u'crazy person',\n",
        " u'is',\n",
        " u'learning',\n",
        " u'one',\n",
        " u'one crazy',\n",
        " u'person',\n",
        " u'python',\n",
        " u'python is']"
       ]
      }
     ],
     "prompt_number": 425
    },
    {
     "cell_type": "code",
     "collapsed": false,
     "input": [
      "testX = testV.transform(tf['Words'])\n",
      "testx = testX.toarray()\n",
      "print testx"
     ],
     "language": "python",
     "metadata": {},
     "outputs": [
      {
       "output_type": "stream",
       "stream": "stdout",
       "text": [
        "[[0 0 0 1 0 0 0 0 0]\n",
        " [0 0 1 0 0 0 0 1 1]\n",
        " [1 1 0 0 1 1 1 0 0]]\n"
       ]
      }
     ],
     "prompt_number": 430
    },
    {
     "cell_type": "markdown",
     "metadata": {},
     "source": [
      "So first row is text from line 0 - mainly \"Learning\". Learning is unique word appearing 4th in the list of ngrams. So put a row in the matrix at 0,3 for the first word.\n",
      "Second row \"Python is\" generates 3 ngrams, appearing in the ngram list at positions 2, 7, and 8.\n",
      "Third row \"one crazy person\" generate 5 ngrams, appearing in the ngram list at positionis 0, 1, 4, 5, 6.\n",
      "Since there are NO overlapping words in the text so there are no more than a single \"1\" appearing in any one column of the mapping matrix."
     ]
    },
    {
     "cell_type": "code",
     "collapsed": false,
     "input": [
      "tf={'Words':[\"The Learning\", \"The Python\", \"The crazy\",\"The time\"]}\n",
      "tf = pd.DataFrame(tf)\n",
      "tf"
     ],
     "language": "python",
     "metadata": {},
     "outputs": [
      {
       "html": [
        "<div style=\"max-height:1000px;max-width:1500px;overflow:auto;\">\n",
        "<table border=\"1\" class=\"dataframe\">\n",
        "  <thead>\n",
        "    <tr style=\"text-align: right;\">\n",
        "      <th></th>\n",
        "      <th>Words</th>\n",
        "    </tr>\n",
        "  </thead>\n",
        "  <tbody>\n",
        "    <tr>\n",
        "      <th>0</th>\n",
        "      <td> The Learning</td>\n",
        "    </tr>\n",
        "    <tr>\n",
        "      <th>1</th>\n",
        "      <td>   The Python</td>\n",
        "    </tr>\n",
        "    <tr>\n",
        "      <th>2</th>\n",
        "      <td>    The crazy</td>\n",
        "    </tr>\n",
        "    <tr>\n",
        "      <th>3</th>\n",
        "      <td>     The time</td>\n",
        "    </tr>\n",
        "  </tbody>\n",
        "</table>\n",
        "</div>"
       ],
       "metadata": {},
       "output_type": "pyout",
       "prompt_number": 438,
       "text": [
        "          Words\n",
        "0  The Learning\n",
        "1    The Python\n",
        "2     The crazy\n",
        "3      The time"
       ]
      }
     ],
     "prompt_number": 438
    },
    {
     "cell_type": "code",
     "collapsed": false,
     "input": [
      "testTF=TfidfVectorizer(ngram_range=(1,2))\n",
      "testTF.fit(tf['Words'])\n",
      "print testTF.get_feature_names()\n",
      "testFX = testTF.transform(tf['Words'])\n",
      "testfx = testFX.toarray()\n",
      "print testfx"
     ],
     "language": "python",
     "metadata": {},
     "outputs": [
      {
       "output_type": "stream",
       "stream": "stdout",
       "text": [
        "[u'crazy', u'learning', u'python', u'the', u'the crazy', u'the learning', u'the python', u'the time', u'time']\n",
        "[[ 0.          0.66338461  0.          0.34618161  0.          0.66338461\n",
        "   0.          0.          0.        ]\n",
        " [ 0.          0.          0.66338461  0.34618161  0.          0.\n",
        "   0.66338461  0.          0.        ]\n",
        " [ 0.66338461  0.          0.          0.34618161  0.66338461  0.          0.\n",
        "   0.          0.        ]\n",
        " [ 0.          0.          0.          0.34618161  0.          0.          0.\n",
        "   0.66338461  0.66338461]]\n"
       ]
      }
     ],
     "prompt_number": 439
    },
    {
     "cell_type": "markdown",
     "metadata": {},
     "source": [
      "\"The\" as a single word appears in the fourth column. It is weighted lower than the other ngrams."
     ]
    }
   ],
   "metadata": {}
  }
 ]
}