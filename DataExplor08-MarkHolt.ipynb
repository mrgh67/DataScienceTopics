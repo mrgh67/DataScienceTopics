{
 "metadata": {
  "name": "",
  "signature": "sha256:613db00e0319989e1ae93d7e99a8536becda35250b50cfea35012017818dc7bf"
 },
 "nbformat": 3,
 "nbformat_minor": 0,
 "worksheets": [
  {
   "cells": [
    {
     "cell_type": "code",
     "collapsed": false,
     "input": [
      "import numpy as np\n",
      "import pandas as pd\n",
      "%matplotlib inline"
     ],
     "language": "python",
     "metadata": {},
     "outputs": [],
     "prompt_number": 2
    },
    {
     "cell_type": "heading",
     "level": 1,
     "metadata": {},
     "source": [
      "Brand Recommendation Engine"
     ]
    },
    {
     "cell_type": "code",
     "collapsed": false,
     "input": [
      "import pandas as pd\n",
      "df1 = pd.read_csv(\"https://raw.githubusercontent.com/ajschumacher/gadsdata/master/user_brand.csv\", header=None)"
     ],
     "language": "python",
     "metadata": {},
     "outputs": [],
     "prompt_number": 480
    },
    {
     "cell_type": "code",
     "collapsed": false,
     "input": [
      "df1.columns = ['user','brand']\n",
      "df1.head()"
     ],
     "language": "python",
     "metadata": {},
     "outputs": [
      {
       "html": [
        "<div style=\"max-height:1000px;max-width:1500px;overflow:auto;\">\n",
        "<table border=\"1\" class=\"dataframe\">\n",
        "  <thead>\n",
        "    <tr style=\"text-align: right;\">\n",
        "      <th></th>\n",
        "      <th>user</th>\n",
        "      <th>brand</th>\n",
        "    </tr>\n",
        "  </thead>\n",
        "  <tbody>\n",
        "    <tr>\n",
        "      <th>0</th>\n",
        "      <td> 80002</td>\n",
        "      <td>     Target</td>\n",
        "    </tr>\n",
        "    <tr>\n",
        "      <th>1</th>\n",
        "      <td> 80002</td>\n",
        "      <td> Home Depot</td>\n",
        "    </tr>\n",
        "    <tr>\n",
        "      <th>2</th>\n",
        "      <td> 80010</td>\n",
        "      <td>     Levi's</td>\n",
        "    </tr>\n",
        "    <tr>\n",
        "      <th>3</th>\n",
        "      <td> 80010</td>\n",
        "      <td>       Puma</td>\n",
        "    </tr>\n",
        "    <tr>\n",
        "      <th>4</th>\n",
        "      <td> 80010</td>\n",
        "      <td>  Cuisinart</td>\n",
        "    </tr>\n",
        "  </tbody>\n",
        "</table>\n",
        "</div>"
       ],
       "metadata": {},
       "output_type": "pyout",
       "prompt_number": 583,
       "text": [
        "    user       brand\n",
        "0  80002      Target\n",
        "1  80002  Home Depot\n",
        "2  80010      Levi's\n",
        "3  80010        Puma\n",
        "4  80010   Cuisinart"
       ]
      }
     ],
     "prompt_number": 583
    },
    {
     "cell_type": "code",
     "collapsed": false,
     "input": [
      "brands, unique_brand_map = np.unique(df1['brand'], return_inverse=True)\n",
      "users, unique_user_map = np.unique(df1['user'], return_inverse=True)"
     ],
     "language": "python",
     "metadata": {},
     "outputs": [],
     "prompt_number": 482
    },
    {
     "cell_type": "code",
     "collapsed": false,
     "input": [
      "data = {}\n",
      "datab = {}\n",
      "for h in unique_user_map:\n",
      "    data[h] = unique_brand_map[np.where(unique_user_map == h)].tolist()\n",
      "    datab[h] = brands[unique_brand_map[np.where(unique_user_map == h)]].tolist()"
     ],
     "language": "python",
     "metadata": {},
     "outputs": [],
     "prompt_number": 483
    },
    {
     "cell_type": "code",
     "collapsed": false,
     "input": [
      "data2={}\n",
      "for h in data.keys():\n",
      "    data2[h]=[1 if i in data[h] else 0 for i in range(len(brands))]"
     ],
     "language": "python",
     "metadata": {},
     "outputs": [],
     "prompt_number": 484
    },
    {
     "cell_type": "markdown",
     "metadata": {},
     "source": [
      "###This has transposed the data - so user is now by column and brand by row"
     ]
    },
    {
     "cell_type": "code",
     "collapsed": false,
     "input": [
      "df = pd.DataFrame(data2)"
     ],
     "language": "python",
     "metadata": {},
     "outputs": [],
     "prompt_number": 593
    },
    {
     "cell_type": "code",
     "collapsed": false,
     "input": [
      "df.head()"
     ],
     "language": "python",
     "metadata": {},
     "outputs": [
      {
       "html": [
        "<div style=\"max-height:1000px;max-width:1500px;overflow:auto;\">\n",
        "<table border=\"1\" class=\"dataframe\">\n",
        "  <thead>\n",
        "    <tr style=\"text-align: right;\">\n",
        "      <th></th>\n",
        "      <th>0</th>\n",
        "      <th>1</th>\n",
        "      <th>2</th>\n",
        "      <th>3</th>\n",
        "      <th>4</th>\n",
        "      <th>5</th>\n",
        "      <th>6</th>\n",
        "      <th>7</th>\n",
        "      <th>8</th>\n",
        "      <th>9</th>\n",
        "      <th>...</th>\n",
        "      <th>3749</th>\n",
        "      <th>3750</th>\n",
        "      <th>3751</th>\n",
        "      <th>3752</th>\n",
        "      <th>3753</th>\n",
        "      <th>3754</th>\n",
        "      <th>3755</th>\n",
        "      <th>3756</th>\n",
        "      <th>3757</th>\n",
        "      <th>3758</th>\n",
        "    </tr>\n",
        "  </thead>\n",
        "  <tbody>\n",
        "    <tr>\n",
        "      <th>0</th>\n",
        "      <td> 0</td>\n",
        "      <td> 0</td>\n",
        "      <td> 0</td>\n",
        "      <td> 0</td>\n",
        "      <td> 0</td>\n",
        "      <td> 0</td>\n",
        "      <td> 0</td>\n",
        "      <td> 0</td>\n",
        "      <td> 0</td>\n",
        "      <td> 0</td>\n",
        "      <td>...</td>\n",
        "      <td> 0</td>\n",
        "      <td> 0</td>\n",
        "      <td> 0</td>\n",
        "      <td> 0</td>\n",
        "      <td> 0</td>\n",
        "      <td> 0</td>\n",
        "      <td> 0</td>\n",
        "      <td> 0</td>\n",
        "      <td> 0</td>\n",
        "      <td> 0</td>\n",
        "    </tr>\n",
        "    <tr>\n",
        "      <th>1</th>\n",
        "      <td> 0</td>\n",
        "      <td> 0</td>\n",
        "      <td> 0</td>\n",
        "      <td> 0</td>\n",
        "      <td> 0</td>\n",
        "      <td> 0</td>\n",
        "      <td> 0</td>\n",
        "      <td> 0</td>\n",
        "      <td> 0</td>\n",
        "      <td> 0</td>\n",
        "      <td>...</td>\n",
        "      <td> 0</td>\n",
        "      <td> 0</td>\n",
        "      <td> 0</td>\n",
        "      <td> 0</td>\n",
        "      <td> 0</td>\n",
        "      <td> 0</td>\n",
        "      <td> 0</td>\n",
        "      <td> 0</td>\n",
        "      <td> 0</td>\n",
        "      <td> 0</td>\n",
        "    </tr>\n",
        "    <tr>\n",
        "      <th>2</th>\n",
        "      <td> 0</td>\n",
        "      <td> 0</td>\n",
        "      <td> 0</td>\n",
        "      <td> 0</td>\n",
        "      <td> 0</td>\n",
        "      <td> 0</td>\n",
        "      <td> 0</td>\n",
        "      <td> 0</td>\n",
        "      <td> 0</td>\n",
        "      <td> 0</td>\n",
        "      <td>...</td>\n",
        "      <td> 0</td>\n",
        "      <td> 0</td>\n",
        "      <td> 0</td>\n",
        "      <td> 0</td>\n",
        "      <td> 0</td>\n",
        "      <td> 0</td>\n",
        "      <td> 0</td>\n",
        "      <td> 0</td>\n",
        "      <td> 0</td>\n",
        "      <td> 0</td>\n",
        "    </tr>\n",
        "    <tr>\n",
        "      <th>3</th>\n",
        "      <td> 0</td>\n",
        "      <td> 0</td>\n",
        "      <td> 0</td>\n",
        "      <td> 0</td>\n",
        "      <td> 0</td>\n",
        "      <td> 0</td>\n",
        "      <td> 0</td>\n",
        "      <td> 0</td>\n",
        "      <td> 0</td>\n",
        "      <td> 0</td>\n",
        "      <td>...</td>\n",
        "      <td> 0</td>\n",
        "      <td> 0</td>\n",
        "      <td> 0</td>\n",
        "      <td> 0</td>\n",
        "      <td> 0</td>\n",
        "      <td> 0</td>\n",
        "      <td> 0</td>\n",
        "      <td> 0</td>\n",
        "      <td> 0</td>\n",
        "      <td> 0</td>\n",
        "    </tr>\n",
        "    <tr>\n",
        "      <th>4</th>\n",
        "      <td> 0</td>\n",
        "      <td> 0</td>\n",
        "      <td> 0</td>\n",
        "      <td> 0</td>\n",
        "      <td> 0</td>\n",
        "      <td> 0</td>\n",
        "      <td> 0</td>\n",
        "      <td> 0</td>\n",
        "      <td> 0</td>\n",
        "      <td> 0</td>\n",
        "      <td>...</td>\n",
        "      <td> 0</td>\n",
        "      <td> 0</td>\n",
        "      <td> 0</td>\n",
        "      <td> 0</td>\n",
        "      <td> 0</td>\n",
        "      <td> 0</td>\n",
        "      <td> 0</td>\n",
        "      <td> 0</td>\n",
        "      <td> 0</td>\n",
        "      <td> 0</td>\n",
        "    </tr>\n",
        "  </tbody>\n",
        "</table>\n",
        "<p>5 rows \u00d7 3759 columns</p>\n",
        "</div>"
       ],
       "metadata": {},
       "output_type": "pyout",
       "prompt_number": 594,
       "text": [
        "   0     1     2     3     4     5     6     7     8     9     ...   3749  \\\n",
        "0     0     0     0     0     0     0     0     0     0     0  ...      0   \n",
        "1     0     0     0     0     0     0     0     0     0     0  ...      0   \n",
        "2     0     0     0     0     0     0     0     0     0     0  ...      0   \n",
        "3     0     0     0     0     0     0     0     0     0     0  ...      0   \n",
        "4     0     0     0     0     0     0     0     0     0     0  ...      0   \n",
        "\n",
        "   3750  3751  3752  3753  3754  3755  3756  3757  3758  \n",
        "0     0     0     0     0     0     0     0     0     0  \n",
        "1     0     0     0     0     0     0     0     0     0  \n",
        "2     0     0     0     0     0     0     0     0     0  \n",
        "3     0     0     0     0     0     0     0     0     0  \n",
        "4     0     0     0     0     0     0     0     0     0  \n",
        "\n",
        "[5 rows x 3759 columns]"
       ]
      }
     ],
     "prompt_number": 594
    },
    {
     "cell_type": "code",
     "collapsed": false,
     "input": [
      "def simBetweenUsers(userA, userB):\n",
      "    similar=(df.ix[:, userA] + df.ix[:, userB])\n",
      "    number_zeros = len(np.where(similar==0)[0])\n",
      "    number_ones = len(np.where(similar==1)[0])\n",
      "    number_twos = len(np.where(similar==2)[0])    \n",
      "\n",
      "    #avoid the division by zero error which will occur if the number_of_ones=0 & number_of_twos=0\n",
      "    #simply if the number of twos is zero then the function should return zero as the numerator of the fraction is zero\n",
      "    \n",
      "    if number_twos == 0:\n",
      "        return 0.0\n",
      "    else:\n",
      "        return number_twos/float(number_ones + number_twos)"
     ],
     "language": "python",
     "metadata": {},
     "outputs": [],
     "prompt_number": 595
    },
    {
     "cell_type": "markdown",
     "metadata": {},
     "source": [
      "###This is the original function"
     ]
    },
    {
     "cell_type": "code",
     "collapsed": false,
     "input": [
      "def brand_similarityA(user, brand):\n",
      "    similar_list = []\n",
      "    likers = np.where(df.ix[brand,:]==1)[0].tolist()\n",
      "    for liker in likers:\n",
      "        similar_list.append(simBetweenUsers(user,liker))\n",
      "    return sum(similar_list)/len(similar_list)  "
     ],
     "language": "python",
     "metadata": {},
     "outputs": [],
     "prompt_number": 448
    },
    {
     "cell_type": "markdown",
     "metadata": {},
     "source": [
      "#Q 1."
     ]
    },
    {
     "cell_type": "markdown",
     "metadata": {},
     "source": [
      "### Modification of the brand_similarity function by utilizing a sigmoid function whose input is the number of \"likers\" of the input brand\n",
      "\n",
      "### The sigmoid has the nice property of evaluating to bewteen 0 and 1, and also provides a smooth transition bewtween those two extremes\n",
      "\n",
      "### The average similiarity is penalized by the output of the sigmoid function based on the number people in the likers list. The penalty term simply pushes the input to the sigmoid to the left, i.e. penalizes more but retains the property that as the number of likers increases so the the penalized average approximates the true average\n",
      "\n",
      "### I also modified this function to check for the case where the likders list is of length 1 and to ensure that the function returns a 0 in the event that the input user and the liker are the same person"
     ]
    },
    {
     "cell_type": "code",
     "collapsed": false,
     "input": [
      "def sigmoid(x):\n",
      "    return 1.0/(1.0+np.exp(-x))"
     ],
     "language": "python",
     "metadata": {},
     "outputs": [],
     "prompt_number": 596
    },
    {
     "cell_type": "code",
     "collapsed": false,
     "input": [
      "def brand_similarityB(user, brand):\n",
      "    penaltyFewUsers  = 2.0\n",
      "    similar_list = []\n",
      "    likers = np.where(df.ix[brand,:]==1)[0].tolist()\n",
      "    \n",
      "    #if this brand ONLY has 1 liker then it could be the input user\n",
      "    if(len(likers) == 1):\n",
      "        if(user == likers[0]):\n",
      "                return(0.0)\n",
      "        else:\n",
      "            similar_list.append(simBetweenUsers(user,likers[0]))\n",
      "\n",
      "    else:\n",
      "        for liker in likers:\n",
      "            similar_list.append(simBetweenUsers(user,liker))\n",
      "    return sigmoid(len(likers) - penaltyFewUsers)* sum(similar_list)/len(similar_list)   "
     ],
     "language": "python",
     "metadata": {},
     "outputs": [],
     "prompt_number": 597
    },
    {
     "cell_type": "markdown",
     "metadata": {},
     "source": [
      "#Q 2."
     ]
    },
    {
     "cell_type": "markdown",
     "metadata": {},
     "source": [
      "###So take a similar approach to penalizing popular brands.\n",
      "\n",
      "###Use the sigmoid function again but this time the input is Total_Number_of_Users/Likers\n",
      "\n",
      "###Unmodified this would penalize a brand that all users use by approximately 0.73\n",
      "###Unmodified this penalizes a brand 50% of users like by 0.88\n",
      "###At 1000 users out of 3759 it penalizes only by a factor of 0.95\n",
      "\n",
      "###Adding a penalty term, as before, allows us to tune this a bit better. Subtraction of 1 moves the curve to the left and therefore increases the penalty for more popular brands\n",
      "\n",
      "###So a universally popular brand would be penalized by 0.5"
     ]
    },
    {
     "cell_type": "code",
     "collapsed": false,
     "input": [
      "numberOfBrands = len(df[0])\n",
      "print numberOfBrands"
     ],
     "language": "python",
     "metadata": {},
     "outputs": [
      {
       "output_type": "stream",
       "stream": "stdout",
       "text": [
        "198\n"
       ]
      }
     ],
     "prompt_number": 599
    },
    {
     "cell_type": "code",
     "collapsed": false,
     "input": [
      "numberOfUsers = len(df.ix[0])\n",
      "print numberOfUsers"
     ],
     "language": "python",
     "metadata": {},
     "outputs": [
      {
       "output_type": "stream",
       "stream": "stdout",
       "text": [
        "3759\n"
       ]
      }
     ],
     "prompt_number": 600
    },
    {
     "cell_type": "code",
     "collapsed": false,
     "input": [
      "def brand_similarityC(user, brand):\n",
      "    penaltyFewUsers  = 3.0\n",
      "    penaltyPopularBrands = 4.0\n",
      "    similar_list = []\n",
      "    likers = np.where(df.ix[brand,:]==1)[0].tolist()\n",
      "    \n",
      "    #if this brand ONLY has 1 liker then it could be the input user\n",
      "    if(len(likers) == 1):\n",
      "        if(user == likers[0]):\n",
      "                return(0.0)\n",
      "        else:\n",
      "            similar_list.append(simBetweenUsers(user,likers[0]))\n",
      "    else:\n",
      "        for liker in likers:\n",
      "            similar_list.append(simBetweenUsers(user,liker))\n",
      "        #print similar_list\n",
      "    return sigmoid((numberOfUsers/len(likers)) - penaltyPopularBrands) * sigmoid(len(likers) - penaltyFewUsers) * sum(similar_list)/len(similar_list)   "
     ],
     "language": "python",
     "metadata": {},
     "outputs": [],
     "prompt_number": 601
    },
    {
     "cell_type": "markdown",
     "metadata": {},
     "source": [
      "###Modified the function below so we can test the various brand_similarity functions"
     ]
    },
    {
     "cell_type": "code",
     "collapsed": false,
     "input": [
      "def brand_recommendations(user, theType):\n",
      "    num_brands = df.shape[0]\n",
      "    brand_recommendation = []\n",
      "    for brand in range(num_brands):\n",
      "        if theType == 1:\n",
      "            brand_recommendation.append(brand_similarityA(user, brand))\n",
      "        elif theType == 2:\n",
      "            brand_recommendation.append(brand_similarityB(user, brand))\n",
      "        else:\n",
      "            brand_recommendation.append(brand_similarityC(user, brand))\n",
      "    return brand_recommendation"
     ],
     "language": "python",
     "metadata": {},
     "outputs": [],
     "prompt_number": 602
    },
    {
     "cell_type": "code",
     "collapsed": false,
     "input": [
      "import matplotlib.pyplot as plt\n",
      "plt.plot(br)"
     ],
     "language": "python",
     "metadata": {},
     "outputs": [
      {
       "metadata": {},
       "output_type": "pyout",
       "prompt_number": 470,
       "text": [
        "[<matplotlib.lines.Line2D at 0x110ae9510>]"
       ]
      },
      {
       "metadata": {},
       "output_type": "display_data",
       "png": "[encoded data removed]",
       "text": [
        "<matplotlib.figure.Figure at 0x116f8d550>"
       ]
      }
     ],
     "prompt_number": 470
    },
    {
     "cell_type": "markdown",
     "metadata": {},
     "source": [
      "##Find the matching indices by traversing the whole list - this will allow us to list the brands by brand name"
     ]
    },
    {
     "cell_type": "code",
     "collapsed": false,
     "input": [
      "def getBrandIndices(top_brands, brand_recommendation):\n",
      "    brandIndices = []\n",
      "    for tb in top_brands:\n",
      "        count = 0\n",
      "        for brand in brand_recommendation:\n",
      "            if tb == brand:\n",
      "                if count not in brandIndices:\n",
      "                    brandIndices.append(count)\n",
      "                    break\n",
      "            count = count + 1\n",
      "    return(brandIndices)"
     ],
     "language": "python",
     "metadata": {},
     "outputs": [],
     "prompt_number": 603
    },
    {
     "cell_type": "code",
     "collapsed": false,
     "input": [
      "#replaced with a different version immediately below\n",
      "def recommendation(user):\n",
      "    cutoff = 0.2\n",
      "    rec_list = brand_recommendations(user)\n",
      "    return [1 if x > cutoff else 0 for x in rec_list]"
     ],
     "language": "python",
     "metadata": {},
     "outputs": [],
     "prompt_number": 517
    },
    {
     "cell_type": "code",
     "collapsed": false,
     "input": [
      "def myRecommendation(user, theType):\n",
      "    brand_recommendation = brand_recommendations(user, theType)\n",
      "    brandThreshold = 0.1\n",
      "    #sort the recommendations\n",
      "    top_brands = sorted([x for x in brand_recommendation if x > brandThreshold], reverse=True)\n",
      "    brandIndices = getBrandIndices(top_brands, brand_recommendation)\n",
      "    for i in brandIndices:\n",
      "        print brands[i]\n",
      "    return [1 if x > brandThreshold else 0 for x in brand_recommendation]"
     ],
     "language": "python",
     "metadata": {},
     "outputs": [],
     "prompt_number": 604
    },
    {
     "cell_type": "code",
     "collapsed": false,
     "input": [
      "bR = myRecommendation(user=0, theType=1)\n",
      "print bR"
     ],
     "language": "python",
     "metadata": {},
     "outputs": [
      {
       "output_type": "stream",
       "stream": "stdout",
       "text": [
        "Famous Footwear\n",
        "Carter\n",
        "Walgreens\n",
        "Home Depot\n",
        "Stride Rite\n",
        "Target\n",
        "Crazy 8\n",
        "Gymboree\n",
        "Vera Bradley\n",
        "Children's Place\n",
        "Payless Shoes\n",
        "DC\n",
        "American Apparel\n",
        "Kohl's\n",
        "Bed Bath & Beyond\n",
        "J Jill\n",
        "Old Navy\n",
        "Forum\n",
        "Joe Fresh\n",
        "Saucony\n",
        "Vitamix\n",
        "Walk-Over\n",
        "The Limited\n",
        "Wet Seal\n",
        "Chico's\n",
        "Vans\n",
        "American Eagle\n",
        "Torrid\n",
        "Coldwater Creek\n",
        "Brookstone\n",
        "Sperry Top-Sider\n",
        "Sephora\n",
        "Gap\n",
        "Aldo\n",
        "Lands' End\n",
        "PacSun\n",
        "Container Store\n",
        "Crate & Barrel\n",
        "Joseph Abboud\n",
        "KitchenAid\n",
        "Carter's\n",
        "Michael Kors\n",
        "Crocs\n",
        "New Balance\n",
        "Keds\n",
        "TOMS Shoes\n",
        "Ann Taylor\n",
        "Cuisinart\n",
        "Converse\n",
        "[0, 0, 0, 0, 1, 0, 0, 1, 1, 1, 0, 0, 0, 0, 0, 0, 0, 0, 0, 0, 0, 0, 0, 1, 0, 0, 0, 0, 0, 0, 0, 0, 0, 1, 0, 0, 0, 0, 1, 1, 0, 0, 0, 1, 1, 0, 1, 0, 0, 1, 1, 1, 0, 1, 1, 1, 1, 0, 0, 0, 0, 0, 0, 0, 0, 0, 0, 0, 1, 0, 0, 1, 0, 0, 1, 0, 0, 0, 0, 1, 0, 0, 0, 0, 1, 0, 0, 1, 0, 0, 0, 1, 0, 1, 0, 0, 0, 0, 0, 1, 0, 1, 1, 0, 0, 0, 0, 0, 0, 0, 1, 0, 0, 0, 0, 0, 0, 0, 0, 0, 0, 0, 0, 0, 0, 1, 0, 0, 0, 1, 0, 0, 0, 0, 0, 0, 0, 0, 1, 1, 0, 1, 0, 0, 0, 0, 0, 0, 0, 0, 0, 0, 0, 0, 1, 1, 0, 0, 0, 0, 1, 0, 0, 1, 0, 0, 0, 1, 1, 1, 0, 0, 0, 0, 0, 1, 0, 0, 0, 0, 0, 0, 1, 1, 0, 0, 0, 1, 1, 1, 1, 0, 0, 0, 0, 0, 0, 0]\n"
       ]
      }
     ],
     "prompt_number": 605
    },
    {
     "cell_type": "code",
     "collapsed": false,
     "input": [
      "index = df1[\"brand\"] == \"Famous Footwear\"\n",
      "df1.ix[index]"
     ],
     "language": "python",
     "metadata": {},
     "outputs": [
      {
       "html": [
        "<div style=\"max-height:1000px;max-width:1500px;overflow:auto;\">\n",
        "<table border=\"1\" class=\"dataframe\">\n",
        "  <thead>\n",
        "    <tr style=\"text-align: right;\">\n",
        "      <th></th>\n",
        "      <th>user</th>\n",
        "      <th>brand</th>\n",
        "    </tr>\n",
        "  </thead>\n",
        "  <tbody>\n",
        "    <tr>\n",
        "      <th>11896</th>\n",
        "      <td> 86201</td>\n",
        "      <td> Famous Footwear</td>\n",
        "    </tr>\n",
        "  </tbody>\n",
        "</table>\n",
        "</div>"
       ],
       "metadata": {},
       "output_type": "pyout",
       "prompt_number": 488,
       "text": [
        "        user            brand\n",
        "11896  86201  Famous Footwear"
       ]
      }
     ],
     "prompt_number": 488
    },
    {
     "cell_type": "code",
     "collapsed": false,
     "input": [
      "index = df1[\"brand\"] == \"Carter\"\n",
      "df1.ix[index]"
     ],
     "language": "python",
     "metadata": {},
     "outputs": [
      {
       "html": [
        "<div style=\"max-height:1000px;max-width:1500px;overflow:auto;\">\n",
        "<table border=\"1\" class=\"dataframe\">\n",
        "  <thead>\n",
        "    <tr style=\"text-align: right;\">\n",
        "      <th></th>\n",
        "      <th>user</th>\n",
        "      <th>brand</th>\n",
        "    </tr>\n",
        "  </thead>\n",
        "  <tbody>\n",
        "    <tr>\n",
        "      <th>6562</th>\n",
        "      <td> 83185</td>\n",
        "      <td> Carter</td>\n",
        "    </tr>\n",
        "  </tbody>\n",
        "</table>\n",
        "</div>"
       ],
       "metadata": {},
       "output_type": "pyout",
       "prompt_number": 489,
       "text": [
        "       user   brand\n",
        "6562  83185  Carter"
       ]
      }
     ],
     "prompt_number": 489
    },
    {
     "cell_type": "code",
     "collapsed": false,
     "input": [
      "index = df1[\"brand\"] == \"Walgreens\"\n",
      "df1.ix[index]"
     ],
     "language": "python",
     "metadata": {},
     "outputs": [
      {
       "html": [
        "<div style=\"max-height:1000px;max-width:1500px;overflow:auto;\">\n",
        "<table border=\"1\" class=\"dataframe\">\n",
        "  <thead>\n",
        "    <tr style=\"text-align: right;\">\n",
        "      <th></th>\n",
        "      <th>user</th>\n",
        "      <th>brand</th>\n",
        "    </tr>\n",
        "  </thead>\n",
        "  <tbody>\n",
        "    <tr>\n",
        "      <th>11702</th>\n",
        "      <td> 86136</td>\n",
        "      <td> Walgreens</td>\n",
        "    </tr>\n",
        "    <tr>\n",
        "      <th>20132</th>\n",
        "      <td> 90317</td>\n",
        "      <td> Walgreens</td>\n",
        "    </tr>\n",
        "  </tbody>\n",
        "</table>\n",
        "</div>"
       ],
       "metadata": {},
       "output_type": "pyout",
       "prompt_number": 490,
       "text": [
        "        user      brand\n",
        "11702  86136  Walgreens\n",
        "20132  90317  Walgreens"
       ]
      }
     ],
     "prompt_number": 490
    },
    {
     "cell_type": "markdown",
     "metadata": {},
     "source": [
      "###Famous Footwear, Carter and Walgreens are low user brands - penalize them!"
     ]
    },
    {
     "cell_type": "code",
     "collapsed": false,
     "input": [
      "bR = myRecommendation(user=0, theType=2)\n",
      "print bR"
     ],
     "language": "python",
     "metadata": {},
     "outputs": [
      {
       "output_type": "stream",
       "stream": "stdout",
       "text": [
        "Home Depot\n",
        "Target\n",
        "Children's Place\n",
        "Kohl's\n",
        "Bed Bath & Beyond\n",
        "Old Navy\n",
        "Wet Seal\n",
        "Walgreens\n",
        "American Eagle\n",
        "American Apparel\n",
        "Gap\n",
        "Lands' End\n",
        "Container Store\n",
        "Sephora\n",
        "Crate & Barrel\n",
        "KitchenAid\n",
        "Crocs\n",
        "New Balance\n",
        "Michael Kors\n",
        "Ann Taylor\n",
        "PacSun\n",
        "Cuisinart\n",
        "Converse\n",
        "[0, 0, 0, 0, 0, 0, 0, 1, 1, 1, 0, 0, 0, 0, 0, 0, 0, 0, 0, 0, 0, 0, 0, 1, 0, 0, 0, 0, 0, 0, 0, 0, 0, 0, 0, 0, 0, 0, 0, 0, 0, 0, 0, 0, 1, 0, 0, 0, 0, 1, 1, 1, 0, 0, 1, 1, 0, 0, 0, 0, 0, 0, 0, 0, 0, 0, 0, 0, 0, 0, 0, 0, 0, 0, 1, 0, 0, 0, 0, 0, 0, 0, 0, 0, 1, 0, 0, 0, 0, 0, 0, 0, 0, 0, 0, 0, 0, 0, 0, 0, 0, 1, 1, 0, 0, 0, 0, 0, 0, 0, 1, 0, 0, 0, 0, 0, 0, 0, 0, 0, 0, 0, 0, 0, 0, 1, 0, 0, 0, 1, 0, 0, 0, 0, 0, 0, 0, 0, 1, 1, 0, 0, 0, 0, 0, 0, 0, 0, 0, 0, 0, 0, 0, 0, 0, 1, 0, 0, 0, 0, 0, 0, 0, 0, 0, 0, 0, 0, 1, 0, 0, 0, 0, 0, 0, 0, 0, 0, 0, 0, 0, 0, 0, 0, 0, 0, 0, 0, 1, 0, 1, 0, 0, 0, 0, 0, 0, 0]\n"
       ]
      }
     ],
     "prompt_number": 514
    },
    {
     "cell_type": "code",
     "collapsed": false,
     "input": [
      "index = df1[\"brand\"] == \"Home Depot\"\n",
      "print len(df1.ix[index])\n",
      "df1.ix[index][0:5]"
     ],
     "language": "python",
     "metadata": {},
     "outputs": [
      {
       "output_type": "stream",
       "stream": "stdout",
       "text": [
        "1186\n"
       ]
      },
      {
       "html": [
        "<div style=\"max-height:1000px;max-width:1500px;overflow:auto;\">\n",
        "<table border=\"1\" class=\"dataframe\">\n",
        "  <thead>\n",
        "    <tr style=\"text-align: right;\">\n",
        "      <th></th>\n",
        "      <th>user</th>\n",
        "      <th>brand</th>\n",
        "    </tr>\n",
        "  </thead>\n",
        "  <tbody>\n",
        "    <tr>\n",
        "      <th>1 </th>\n",
        "      <td> 80002</td>\n",
        "      <td> Home Depot</td>\n",
        "    </tr>\n",
        "    <tr>\n",
        "      <th>29</th>\n",
        "      <td> 80015</td>\n",
        "      <td> Home Depot</td>\n",
        "    </tr>\n",
        "    <tr>\n",
        "      <th>41</th>\n",
        "      <td> 80027</td>\n",
        "      <td> Home Depot</td>\n",
        "    </tr>\n",
        "    <tr>\n",
        "      <th>75</th>\n",
        "      <td> 80050</td>\n",
        "      <td> Home Depot</td>\n",
        "    </tr>\n",
        "    <tr>\n",
        "      <th>96</th>\n",
        "      <td> 80065</td>\n",
        "      <td> Home Depot</td>\n",
        "    </tr>\n",
        "  </tbody>\n",
        "</table>\n",
        "</div>"
       ],
       "metadata": {},
       "output_type": "pyout",
       "prompt_number": 499,
       "text": [
        "     user       brand\n",
        "1   80002  Home Depot\n",
        "29  80015  Home Depot\n",
        "41  80027  Home Depot\n",
        "75  80050  Home Depot\n",
        "96  80065  Home Depot"
       ]
      }
     ],
     "prompt_number": 499
    },
    {
     "cell_type": "code",
     "collapsed": false,
     "input": [
      "index = df1[\"brand\"] == \"Target\"\n",
      "print len(df1.ix[index])\n",
      "df1.ix[index][0:5]"
     ],
     "language": "python",
     "metadata": {},
     "outputs": [
      {
       "output_type": "stream",
       "stream": "stdout",
       "text": [
        "1866\n"
       ]
      },
      {
       "html": [
        "<div style=\"max-height:1000px;max-width:1500px;overflow:auto;\">\n",
        "<table border=\"1\" class=\"dataframe\">\n",
        "  <thead>\n",
        "    <tr style=\"text-align: right;\">\n",
        "      <th></th>\n",
        "      <th>user</th>\n",
        "      <th>brand</th>\n",
        "    </tr>\n",
        "  </thead>\n",
        "  <tbody>\n",
        "    <tr>\n",
        "      <th>0 </th>\n",
        "      <td> 80002</td>\n",
        "      <td> Target</td>\n",
        "    </tr>\n",
        "    <tr>\n",
        "      <th>24</th>\n",
        "      <td> 80011</td>\n",
        "      <td> Target</td>\n",
        "    </tr>\n",
        "    <tr>\n",
        "      <th>28</th>\n",
        "      <td> 80015</td>\n",
        "      <td> Target</td>\n",
        "    </tr>\n",
        "    <tr>\n",
        "      <th>40</th>\n",
        "      <td> 80021</td>\n",
        "      <td> Target</td>\n",
        "    </tr>\n",
        "    <tr>\n",
        "      <th>47</th>\n",
        "      <td> 80032</td>\n",
        "      <td> Target</td>\n",
        "    </tr>\n",
        "  </tbody>\n",
        "</table>\n",
        "</div>"
       ],
       "metadata": {},
       "output_type": "pyout",
       "prompt_number": 500,
       "text": [
        "     user   brand\n",
        "0   80002  Target\n",
        "24  80011  Target\n",
        "28  80015  Target\n",
        "40  80021  Target\n",
        "47  80032  Target"
       ]
      }
     ],
     "prompt_number": 500
    },
    {
     "cell_type": "code",
     "collapsed": false,
     "input": [
      "index = df1[\"brand\"] == \"Children's Place\"\n",
      "print len(df1.ix[index])\n",
      "df1.ix[index]"
     ],
     "language": "python",
     "metadata": {},
     "outputs": [
      {
       "output_type": "stream",
       "stream": "stdout",
       "text": [
        "4\n"
       ]
      },
      {
       "html": [
        "<div style=\"max-height:1000px;max-width:1500px;overflow:auto;\">\n",
        "<table border=\"1\" class=\"dataframe\">\n",
        "  <thead>\n",
        "    <tr style=\"text-align: right;\">\n",
        "      <th></th>\n",
        "      <th>user</th>\n",
        "      <th>brand</th>\n",
        "    </tr>\n",
        "  </thead>\n",
        "  <tbody>\n",
        "    <tr>\n",
        "      <th>1881 </th>\n",
        "      <td> 81131</td>\n",
        "      <td> Children's Place</td>\n",
        "    </tr>\n",
        "    <tr>\n",
        "      <th>2492 </th>\n",
        "      <td> 81419</td>\n",
        "      <td> Children's Place</td>\n",
        "    </tr>\n",
        "    <tr>\n",
        "      <th>4443 </th>\n",
        "      <td> 82312</td>\n",
        "      <td> Children's Place</td>\n",
        "    </tr>\n",
        "    <tr>\n",
        "      <th>13632</th>\n",
        "      <td> 87194</td>\n",
        "      <td> Children's Place</td>\n",
        "    </tr>\n",
        "  </tbody>\n",
        "</table>\n",
        "</div>"
       ],
       "metadata": {},
       "output_type": "pyout",
       "prompt_number": 502,
       "text": [
        "        user             brand\n",
        "1881   81131  Children's Place\n",
        "2492   81419  Children's Place\n",
        "4443   82312  Children's Place\n",
        "13632  87194  Children's Place"
       ]
      }
     ],
     "prompt_number": 502
    },
    {
     "cell_type": "markdown",
     "metadata": {},
     "source": [
      "###Children's Place must have very high similarity scores to persist depsite the penalty"
     ]
    },
    {
     "cell_type": "code",
     "collapsed": false,
     "input": [
      "index = df1[\"brand\"] == \"Kohl's\"\n",
      "print len(df1.ix[index])\n",
      "df1.ix[index][0:5]"
     ],
     "language": "python",
     "metadata": {},
     "outputs": [
      {
       "output_type": "stream",
       "stream": "stdout",
       "text": [
        "1157\n"
       ]
      },
      {
       "html": [
        "<div style=\"max-height:1000px;max-width:1500px;overflow:auto;\">\n",
        "<table border=\"1\" class=\"dataframe\">\n",
        "  <thead>\n",
        "    <tr style=\"text-align: right;\">\n",
        "      <th></th>\n",
        "      <th>user</th>\n",
        "      <th>brand</th>\n",
        "    </tr>\n",
        "  </thead>\n",
        "  <tbody>\n",
        "    <tr>\n",
        "      <th>8 </th>\n",
        "      <td> 80010</td>\n",
        "      <td> Kohl's</td>\n",
        "    </tr>\n",
        "    <tr>\n",
        "      <th>39</th>\n",
        "      <td> 80021</td>\n",
        "      <td> Kohl's</td>\n",
        "    </tr>\n",
        "    <tr>\n",
        "      <th>45</th>\n",
        "      <td> 80032</td>\n",
        "      <td> Kohl's</td>\n",
        "    </tr>\n",
        "    <tr>\n",
        "      <th>51</th>\n",
        "      <td> 80043</td>\n",
        "      <td> Kohl's</td>\n",
        "    </tr>\n",
        "    <tr>\n",
        "      <th>54</th>\n",
        "      <td> 80046</td>\n",
        "      <td> Kohl's</td>\n",
        "    </tr>\n",
        "  </tbody>\n",
        "</table>\n",
        "</div>"
       ],
       "metadata": {},
       "output_type": "pyout",
       "prompt_number": 504,
       "text": [
        "     user   brand\n",
        "8   80010  Kohl's\n",
        "39  80021  Kohl's\n",
        "45  80032  Kohl's\n",
        "51  80043  Kohl's\n",
        "54  80046  Kohl's"
       ]
      }
     ],
     "prompt_number": 504
    },
    {
     "cell_type": "markdown",
     "metadata": {},
     "source": [
      "###Home depot is actually a preferred brand of the user already"
     ]
    },
    {
     "cell_type": "code",
     "collapsed": false,
     "input": [
      "df1.ix[0:2]"
     ],
     "language": "python",
     "metadata": {},
     "outputs": [
      {
       "html": [
        "<div style=\"max-height:1000px;max-width:1500px;overflow:auto;\">\n",
        "<table border=\"1\" class=\"dataframe\">\n",
        "  <thead>\n",
        "    <tr style=\"text-align: right;\">\n",
        "      <th></th>\n",
        "      <th>user</th>\n",
        "      <th>brand</th>\n",
        "    </tr>\n",
        "  </thead>\n",
        "  <tbody>\n",
        "    <tr>\n",
        "      <th>0</th>\n",
        "      <td> 80002</td>\n",
        "      <td>     Target</td>\n",
        "    </tr>\n",
        "    <tr>\n",
        "      <th>1</th>\n",
        "      <td> 80002</td>\n",
        "      <td> Home Depot</td>\n",
        "    </tr>\n",
        "    <tr>\n",
        "      <th>2</th>\n",
        "      <td> 80010</td>\n",
        "      <td>     Levi's</td>\n",
        "    </tr>\n",
        "  </tbody>\n",
        "</table>\n",
        "</div>"
       ],
       "metadata": {},
       "output_type": "pyout",
       "prompt_number": 495,
       "text": [
        "    user       brand\n",
        "0  80002      Target\n",
        "1  80002  Home Depot\n",
        "2  80010      Levi's"
       ]
      }
     ],
     "prompt_number": 495
    },
    {
     "cell_type": "markdown",
     "metadata": {},
     "source": [
      "###Penalize the popular brands - for example, Home Depot, and Target"
     ]
    },
    {
     "cell_type": "code",
     "collapsed": false,
     "input": [
      "bR = myRecommendation(user=0, theType=3)\n",
      "print bR"
     ],
     "language": "python",
     "metadata": {},
     "outputs": [
      {
       "output_type": "stream",
       "stream": "stdout",
       "text": [
        "Bed Bath & Beyond\n",
        "Wet Seal\n",
        "Children's Place\n",
        "American Eagle\n",
        "Lands' End\n",
        "Crocs\n",
        "Sephora\n",
        "New Balance\n",
        "Ann Taylor\n",
        "Container Store\n",
        "Michael Kors\n",
        "[0, 0, 0, 0, 0, 0, 0, 0, 1, 1, 0, 0, 0, 0, 0, 0, 0, 0, 0, 0, 0, 0, 0, 1, 0, 0, 0, 0, 0, 0, 0, 0, 0, 0, 0, 0, 0, 0, 0, 0, 0, 0, 0, 0, 1, 0, 0, 0, 0, 1, 0, 0, 0, 0, 1, 0, 0, 0, 0, 0, 0, 0, 0, 0, 0, 0, 0, 0, 0, 0, 0, 0, 0, 0, 0, 0, 0, 0, 0, 0, 0, 0, 0, 0, 0, 0, 0, 0, 0, 0, 0, 0, 0, 0, 0, 0, 0, 0, 0, 0, 0, 0, 0, 0, 0, 0, 0, 0, 0, 0, 1, 0, 0, 0, 0, 0, 0, 0, 0, 0, 0, 0, 0, 0, 0, 1, 0, 0, 0, 1, 0, 0, 0, 0, 0, 0, 0, 0, 0, 0, 0, 0, 0, 0, 0, 0, 0, 0, 0, 0, 0, 0, 0, 0, 0, 1, 0, 0, 0, 0, 0, 0, 0, 0, 0, 0, 0, 0, 0, 0, 0, 0, 0, 0, 0, 0, 0, 0, 0, 0, 0, 0, 0, 0, 0, 0, 0, 0, 0, 0, 1, 0, 0, 0, 0, 0, 0, 0]\n"
       ]
      }
     ],
     "prompt_number": 515
    },
    {
     "cell_type": "markdown",
     "metadata": {},
     "source": [
      "###This has removed the Home Depot, Target, Kohl's - all with users who like them numbering over 1000"
     ]
    },
    {
     "cell_type": "code",
     "collapsed": false,
     "input": [
      "index = df1[\"brand\"] == \"Bed Bath & Beyond\"\n",
      "print len(df1.ix[index])\n",
      "df1.ix[index][0:5]"
     ],
     "language": "python",
     "metadata": {},
     "outputs": [
      {
       "output_type": "stream",
       "stream": "stdout",
       "text": [
        "7\n"
       ]
      },
      {
       "html": [
        "<div style=\"max-height:1000px;max-width:1500px;overflow:auto;\">\n",
        "<table border=\"1\" class=\"dataframe\">\n",
        "  <thead>\n",
        "    <tr style=\"text-align: right;\">\n",
        "      <th></th>\n",
        "      <th>user</th>\n",
        "      <th>brand</th>\n",
        "    </tr>\n",
        "  </thead>\n",
        "  <tbody>\n",
        "    <tr>\n",
        "      <th>7642 </th>\n",
        "      <td> 83751</td>\n",
        "      <td> Bed Bath &amp; Beyond</td>\n",
        "    </tr>\n",
        "    <tr>\n",
        "      <th>11898</th>\n",
        "      <td> 86201</td>\n",
        "      <td> Bed Bath &amp; Beyond</td>\n",
        "    </tr>\n",
        "    <tr>\n",
        "      <th>13692</th>\n",
        "      <td> 87206</td>\n",
        "      <td> Bed Bath &amp; Beyond</td>\n",
        "    </tr>\n",
        "    <tr>\n",
        "      <th>14536</th>\n",
        "      <td> 87673</td>\n",
        "      <td> Bed Bath &amp; Beyond</td>\n",
        "    </tr>\n",
        "    <tr>\n",
        "      <th>18950</th>\n",
        "      <td> 89796</td>\n",
        "      <td> Bed Bath &amp; Beyond</td>\n",
        "    </tr>\n",
        "  </tbody>\n",
        "</table>\n",
        "</div>"
       ],
       "metadata": {},
       "output_type": "pyout",
       "prompt_number": 528,
       "text": [
        "        user              brand\n",
        "7642   83751  Bed Bath & Beyond\n",
        "11898  86201  Bed Bath & Beyond\n",
        "13692  87206  Bed Bath & Beyond\n",
        "14536  87673  Bed Bath & Beyond\n",
        "18950  89796  Bed Bath & Beyond"
       ]
      }
     ],
     "prompt_number": 528
    },
    {
     "cell_type": "code",
     "collapsed": false,
     "input": [
      "index = df1[\"brand\"] == \"Wet Seal\"\n",
      "print len(df1.ix[index])\n",
      "df1.ix[index][0:5]"
     ],
     "language": "python",
     "metadata": {},
     "outputs": [
      {
       "output_type": "stream",
       "stream": "stdout",
       "text": [
        "9\n"
       ]
      },
      {
       "html": [
        "<div style=\"max-height:1000px;max-width:1500px;overflow:auto;\">\n",
        "<table border=\"1\" class=\"dataframe\">\n",
        "  <thead>\n",
        "    <tr style=\"text-align: right;\">\n",
        "      <th></th>\n",
        "      <th>user</th>\n",
        "      <th>brand</th>\n",
        "    </tr>\n",
        "  </thead>\n",
        "  <tbody>\n",
        "    <tr>\n",
        "      <th>246  </th>\n",
        "      <td> 80164</td>\n",
        "      <td> Wet Seal</td>\n",
        "    </tr>\n",
        "    <tr>\n",
        "      <th>4956 </th>\n",
        "      <td> 82481</td>\n",
        "      <td> Wet Seal</td>\n",
        "    </tr>\n",
        "    <tr>\n",
        "      <th>8332 </th>\n",
        "      <td> 84216</td>\n",
        "      <td> Wet Seal</td>\n",
        "    </tr>\n",
        "    <tr>\n",
        "      <th>13685</th>\n",
        "      <td> 87206</td>\n",
        "      <td> Wet Seal</td>\n",
        "    </tr>\n",
        "    <tr>\n",
        "      <th>16756</th>\n",
        "      <td> 88915</td>\n",
        "      <td> Wet Seal</td>\n",
        "    </tr>\n",
        "  </tbody>\n",
        "</table>\n",
        "</div>"
       ],
       "metadata": {},
       "output_type": "pyout",
       "prompt_number": 508,
       "text": [
        "        user     brand\n",
        "246    80164  Wet Seal\n",
        "4956   82481  Wet Seal\n",
        "8332   84216  Wet Seal\n",
        "13685  87206  Wet Seal\n",
        "16756  88915  Wet Seal"
       ]
      }
     ],
     "prompt_number": 508
    },
    {
     "cell_type": "code",
     "collapsed": false,
     "input": [
      "index = df1[\"brand\"] == \"Children's Place\"\n",
      "print len(df1.ix[index])\n",
      "df1.ix[index][0:5]"
     ],
     "language": "python",
     "metadata": {},
     "outputs": [
      {
       "output_type": "stream",
       "stream": "stdout",
       "text": [
        "4\n"
       ]
      },
      {
       "html": [
        "<div style=\"max-height:1000px;max-width:1500px;overflow:auto;\">\n",
        "<table border=\"1\" class=\"dataframe\">\n",
        "  <thead>\n",
        "    <tr style=\"text-align: right;\">\n",
        "      <th></th>\n",
        "      <th>user</th>\n",
        "      <th>brand</th>\n",
        "    </tr>\n",
        "  </thead>\n",
        "  <tbody>\n",
        "    <tr>\n",
        "      <th>1881 </th>\n",
        "      <td> 81131</td>\n",
        "      <td> Children's Place</td>\n",
        "    </tr>\n",
        "    <tr>\n",
        "      <th>2492 </th>\n",
        "      <td> 81419</td>\n",
        "      <td> Children's Place</td>\n",
        "    </tr>\n",
        "    <tr>\n",
        "      <th>4443 </th>\n",
        "      <td> 82312</td>\n",
        "      <td> Children's Place</td>\n",
        "    </tr>\n",
        "    <tr>\n",
        "      <th>13632</th>\n",
        "      <td> 87194</td>\n",
        "      <td> Children's Place</td>\n",
        "    </tr>\n",
        "  </tbody>\n",
        "</table>\n",
        "</div>"
       ],
       "metadata": {},
       "output_type": "pyout",
       "prompt_number": 509,
       "text": [
        "        user             brand\n",
        "1881   81131  Children's Place\n",
        "2492   81419  Children's Place\n",
        "4443   82312  Children's Place\n",
        "13632  87194  Children's Place"
       ]
      }
     ],
     "prompt_number": 509
    },
    {
     "cell_type": "code",
     "collapsed": false,
     "input": [
      "index = df1[\"brand\"] == \"American Eagle\"\n",
      "print len(df1.ix[index])\n",
      "df1.ix[index][0:5]"
     ],
     "language": "python",
     "metadata": {},
     "outputs": [
      {
       "output_type": "stream",
       "stream": "stdout",
       "text": [
        "22\n"
       ]
      },
      {
       "html": [
        "<div style=\"max-height:1000px;max-width:1500px;overflow:auto;\">\n",
        "<table border=\"1\" class=\"dataframe\">\n",
        "  <thead>\n",
        "    <tr style=\"text-align: right;\">\n",
        "      <th></th>\n",
        "      <th>user</th>\n",
        "      <th>brand</th>\n",
        "    </tr>\n",
        "  </thead>\n",
        "  <tbody>\n",
        "    <tr>\n",
        "      <th>1094</th>\n",
        "      <td> 80685</td>\n",
        "      <td> American Eagle</td>\n",
        "    </tr>\n",
        "    <tr>\n",
        "      <th>1460</th>\n",
        "      <td> 80892</td>\n",
        "      <td> American Eagle</td>\n",
        "    </tr>\n",
        "    <tr>\n",
        "      <th>4309</th>\n",
        "      <td> 82238</td>\n",
        "      <td> American Eagle</td>\n",
        "    </tr>\n",
        "    <tr>\n",
        "      <th>7947</th>\n",
        "      <td> 83995</td>\n",
        "      <td> American Eagle</td>\n",
        "    </tr>\n",
        "    <tr>\n",
        "      <th>9555</th>\n",
        "      <td> 84948</td>\n",
        "      <td> American Eagle</td>\n",
        "    </tr>\n",
        "  </tbody>\n",
        "</table>\n",
        "</div>"
       ],
       "metadata": {},
       "output_type": "pyout",
       "prompt_number": 510,
       "text": [
        "       user           brand\n",
        "1094  80685  American Eagle\n",
        "1460  80892  American Eagle\n",
        "4309  82238  American Eagle\n",
        "7947  83995  American Eagle\n",
        "9555  84948  American Eagle"
       ]
      }
     ],
     "prompt_number": 510
    },
    {
     "cell_type": "markdown",
     "metadata": {},
     "source": [
      "#Q 3."
     ]
    },
    {
     "cell_type": "markdown",
     "metadata": {},
     "source": [
      "###I am not certain the thresholding is required at all.\n",
      "\n",
      "###With careful construction of the penalties in the brand recommendation function in the first place it might make more sense to just take the top 5 brands coming from the brand recommendation function (after they have been appropriately sorted).\n",
      "\n",
      "###As penalties are imposed the scoring gets lower in any case, as we have seen above - the numbers of brands exceeding the threshold has reduced on each occasion.\n",
      "\n",
      "###Additional information that might be useful could be along the lines shown above, with the recomendations being made alongside the number of other \"similar\" users who use the brand.\n",
      "\n",
      "###With user co-operation it would be feasible to ask them how many other people they would like to see. So they get to choose whether they want a recommendation that lots (hundreds) of users also liked or only a few. The recommendations for brands can be ranked by the scores coming from the similarity function then a list produced that approximately matches the users request. I have attempted a simple implementation of this below. This obviates the need for penalizing popular brands and brands that have a low number of users"
     ]
    },
    {
     "cell_type": "code",
     "collapsed": false,
     "input": [
      "def myRecommendationV2(user, theType, otherLikers):\n",
      "    brand_recommendation = brand_recommendations(user, theType)\n",
      "    top_brands = sorted(brand_recommendation, reverse=True)\n",
      "    brandIndices = getBrandIndices(top_brands, brand_recommendation)\n",
      "    params = 1\n",
      "    \n",
      "    brandI = []\n",
      "    brandList = []\n",
      "    brandN = []\n",
      "    \n",
      "    while (True):\n",
      "    \n",
      "        count = 0\n",
      "        for i in brandIndices:\n",
      "            numLikers = len(np.where(df.ix[i,:]==1)[0].tolist())\n",
      "            if(numLikers > otherLikers - params) & (numLikers < otherLikers + params):\n",
      "                count = count + 1\n",
      "                \n",
      "                if brands[i] not in brandList:\n",
      "                    brandList.append(brands[i])\n",
      "                    brandN.append(numLikers)\n",
      "                    brandI.append(i)\n",
      "                \n",
      "        params = params + 1        \n",
      "        if(count > 5):\n",
      "            break\n",
      "    \n",
      "    print brandList\n",
      "    print brandN\n",
      "    \n",
      "    return [1 if x in brandI else 0 for x in range(0, len(df.ix[0]))]"
     ],
     "language": "python",
     "metadata": {},
     "outputs": [],
     "prompt_number": 586
    },
    {
     "cell_type": "code",
     "collapsed": false,
     "input": [
      "mR = myRecommendationV2(user=0, theType=1, otherLikers = 150)"
     ],
     "language": "python",
     "metadata": {},
     "outputs": [
      {
       "output_type": "stream",
       "stream": "stdout",
       "text": [
        "['Mikasa', 'Hanky Panky', 'Elie Tahari', 'John Varvatos', 'Nicole Miller', 'Serena and Lily']\n",
        "[160, 162, 166, 129, 175, 125]\n"
       ]
      }
     ],
     "prompt_number": 589
    },
    {
     "cell_type": "code",
     "collapsed": false,
     "input": [
      "mR = myRecommendationV2(user=0, theType=1, otherLikers = 7)"
     ],
     "language": "python",
     "metadata": {},
     "outputs": [
      {
       "output_type": "stream",
       "stream": "stdout",
       "text": [
        "['Bed Bath & Beyond', 'Louis Vuitton', 'JC Penney', 'Aeropostale', 'Michael Kors', 'Ann Taylor', 'Abercrombie & Fitch', 'LOFT', 'Anthropologie', 'Ralph Lauren']\n",
        "[7, 7, 7, 7, 6, 8, 8, 8, 6, 8]\n"
       ]
      }
     ],
     "prompt_number": 590
    },
    {
     "cell_type": "code",
     "collapsed": false,
     "input": [
      "mR = myRecommendationV2(user=0, theType=1, otherLikers = 1000)"
     ],
     "language": "python",
     "metadata": {},
     "outputs": [
      {
       "output_type": "stream",
       "stream": "stdout",
       "text": [
        "['Banana Republic', 'Nordstrom', 'Gap', \"Kohl's\", 'Crate & Barrel', 'Home Depot']\n",
        "[932, 904, 860, 1157, 816, 1186]\n"
       ]
      }
     ],
     "prompt_number": 591
    },
    {
     "cell_type": "code",
     "collapsed": false,
     "input": [
      "mR = myRecommendationV2(user=0, theType=1, otherLikers = 4000)"
     ],
     "language": "python",
     "metadata": {},
     "outputs": [
      {
       "output_type": "stream",
       "stream": "stdout",
       "text": [
        "['Target', 'Old Navy', 'Home Depot', \"Kohl's\", 'Banana Republic', 'Nordstrom']\n",
        "[1866, 1200, 1186, 1157, 932, 904]\n"
       ]
      }
     ],
     "prompt_number": 592
    }
   ],
   "metadata": {}
  }
 ]
}