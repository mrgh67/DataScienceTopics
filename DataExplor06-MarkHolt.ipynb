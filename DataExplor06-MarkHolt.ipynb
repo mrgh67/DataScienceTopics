{
 "metadata": {
  "name": "",
  "signature": "sha256:1aadea840d6879005ab0e545aed0463d7f971d78fcb863d6f187d5b68a876904"
 },
 "nbformat": 3,
 "nbformat_minor": 0,
 "worksheets": [
  {
   "cells": [
    {
     "cell_type": "markdown",
     "metadata": {},
     "source": [
      "#Data Explor06\n",
      "##Mark Holt"
     ]
    },
    {
     "cell_type": "code",
     "collapsed": false,
     "input": [
      "from IPython.display import Image\n",
      "#Image(url='http://upload.wikimedia.org/wikipedia/en/1/1c/LightningBoltSkull.gif')"
     ],
     "language": "python",
     "metadata": {},
     "outputs": [],
     "prompt_number": 156
    },
    {
     "cell_type": "code",
     "collapsed": false,
     "input": [
      "#http://www.cs.cmu.edu/~./gdead/setlists.html"
     ],
     "language": "python",
     "metadata": {},
     "outputs": [],
     "prompt_number": 2
    },
    {
     "cell_type": "code",
     "collapsed": false,
     "input": [
      "import numpy as np\n",
      "import pandas as pd\n",
      "import string\n",
      "import re\n",
      "\n",
      "from matplotlib import pyplot as plt\n",
      "%matplotlib inline\n",
      "\n",
      "from sets import Set\n",
      "\n",
      "from sklearn.cross_validation import train_test_split\n",
      "from sklearn.cross_validation import StratifiedShuffleSplit\n",
      "from sklearn.metrics import roc_curve, auc\n",
      "from sklearn.metrics import confusion_matrix\n",
      "from sklearn.linear_model import LogisticRegression\n",
      "from sklearn.naive_bayes import MultinomialNB"
     ],
     "language": "python",
     "metadata": {},
     "outputs": [],
     "prompt_number": 663
    },
    {
     "cell_type": "code",
     "collapsed": false,
     "input": [
      "df = pd.read_csv(\"GDsetlists.csv\")"
     ],
     "language": "python",
     "metadata": {},
     "outputs": [],
     "prompt_number": 664
    },
    {
     "cell_type": "markdown",
     "metadata": {},
     "source": [
      "kS (below) was an independent list of GD songs that I found on the Internet. Used it to figure out what the names of some of the songs actually were."
     ]
    },
    {
     "cell_type": "code",
     "collapsed": false,
     "input": [
      "#kS = pd.read_csv(\"gDeadSongList.csv\")"
     ],
     "language": "python",
     "metadata": {},
     "outputs": [],
     "prompt_number": 4
    },
    {
     "cell_type": "code",
     "collapsed": false,
     "input": [
      "#kS"
     ],
     "language": "python",
     "metadata": {},
     "outputs": [],
     "prompt_number": 326
    },
    {
     "cell_type": "markdown",
     "metadata": {},
     "source": [
      "###Comments:\n",
      "\n",
      "I did not do the data scraping part of this Explor. \n",
      "\n",
      "This is the dataset provided.\n",
      "\n",
      "Initial observations indicate it is pretty noisey. There are 2 columns for \"All Along the Watchtower\" for example. There is an unknown set list, and columns with \"?????\", and \"Comments...\"."
     ]
    },
    {
     "cell_type": "code",
     "collapsed": false,
     "input": [
      "df.head()"
     ],
     "language": "python",
     "metadata": {},
     "outputs": [
      {
       "html": [
        "<div style=\"max-height:1000px;max-width:1500px;overflow:auto;\">\n",
        "<table border=\"1\" class=\"dataframe\">\n",
        "  <thead>\n",
        "    <tr style=\"text-align: right;\">\n",
        "      <th></th>\n",
        "      <th>26 Miles</th>\n",
        "      <th>&gt;From the Heart of Me</th>\n",
        "      <th>?????</th>\n",
        "      <th>A Mind to Give Up Livin'</th>\n",
        "      <th>Addams Family</th>\n",
        "      <th>Ain't Superstitious</th>\n",
        "      <th>Alabama Getaway</th>\n",
        "      <th>All Along The Watchtower</th>\n",
        "      <th>All Along the Watchtower</th>\n",
        "      <th>Althea</th>\n",
        "      <th>...</th>\n",
        "      <th>Willie and the Hand Jive</th>\n",
        "      <th>You Ain't Woman Enough</th>\n",
        "      <th>You Win Again</th>\n",
        "      <th>You Won't Find Me</th>\n",
        "      <th>Your Love At Home</th>\n",
        "      <th>[set list unknown]</th>\n",
        "      <th>drums</th>\n",
        "      <th>jam</th>\n",
        "      <th>space</th>\n",
        "      <th>year</th>\n",
        "    </tr>\n",
        "  </thead>\n",
        "  <tbody>\n",
        "    <tr>\n",
        "      <th>0</th>\n",
        "      <td> False</td>\n",
        "      <td> False</td>\n",
        "      <td> False</td>\n",
        "      <td> False</td>\n",
        "      <td> False</td>\n",
        "      <td> False</td>\n",
        "      <td> False</td>\n",
        "      <td> False</td>\n",
        "      <td>  True</td>\n",
        "      <td>  True</td>\n",
        "      <td>...</td>\n",
        "      <td> False</td>\n",
        "      <td> False</td>\n",
        "      <td> False</td>\n",
        "      <td> False</td>\n",
        "      <td> False</td>\n",
        "      <td> False</td>\n",
        "      <td> True</td>\n",
        "      <td> False</td>\n",
        "      <td> False</td>\n",
        "      <td> 1987</td>\n",
        "    </tr>\n",
        "    <tr>\n",
        "      <th>1</th>\n",
        "      <td> False</td>\n",
        "      <td> False</td>\n",
        "      <td> False</td>\n",
        "      <td> False</td>\n",
        "      <td> False</td>\n",
        "      <td> False</td>\n",
        "      <td> False</td>\n",
        "      <td> False</td>\n",
        "      <td>  True</td>\n",
        "      <td> False</td>\n",
        "      <td>...</td>\n",
        "      <td> False</td>\n",
        "      <td> False</td>\n",
        "      <td> False</td>\n",
        "      <td> False</td>\n",
        "      <td> False</td>\n",
        "      <td> False</td>\n",
        "      <td> True</td>\n",
        "      <td> False</td>\n",
        "      <td> False</td>\n",
        "      <td> 1987</td>\n",
        "    </tr>\n",
        "    <tr>\n",
        "      <th>2</th>\n",
        "      <td> False</td>\n",
        "      <td> False</td>\n",
        "      <td> False</td>\n",
        "      <td> False</td>\n",
        "      <td> False</td>\n",
        "      <td> False</td>\n",
        "      <td> False</td>\n",
        "      <td> False</td>\n",
        "      <td> False</td>\n",
        "      <td> False</td>\n",
        "      <td>...</td>\n",
        "      <td> False</td>\n",
        "      <td> False</td>\n",
        "      <td> False</td>\n",
        "      <td> False</td>\n",
        "      <td> False</td>\n",
        "      <td> False</td>\n",
        "      <td> True</td>\n",
        "      <td> False</td>\n",
        "      <td> False</td>\n",
        "      <td> 1982</td>\n",
        "    </tr>\n",
        "    <tr>\n",
        "      <th>3</th>\n",
        "      <td> False</td>\n",
        "      <td> False</td>\n",
        "      <td> False</td>\n",
        "      <td> False</td>\n",
        "      <td> False</td>\n",
        "      <td> False</td>\n",
        "      <td> False</td>\n",
        "      <td> False</td>\n",
        "      <td> False</td>\n",
        "      <td> False</td>\n",
        "      <td>...</td>\n",
        "      <td> False</td>\n",
        "      <td> False</td>\n",
        "      <td> False</td>\n",
        "      <td> False</td>\n",
        "      <td> False</td>\n",
        "      <td> False</td>\n",
        "      <td> True</td>\n",
        "      <td> False</td>\n",
        "      <td> False</td>\n",
        "      <td> 1990</td>\n",
        "    </tr>\n",
        "    <tr>\n",
        "      <th>4</th>\n",
        "      <td> False</td>\n",
        "      <td> False</td>\n",
        "      <td> False</td>\n",
        "      <td> False</td>\n",
        "      <td> False</td>\n",
        "      <td> False</td>\n",
        "      <td> False</td>\n",
        "      <td> False</td>\n",
        "      <td> False</td>\n",
        "      <td>  True</td>\n",
        "      <td>...</td>\n",
        "      <td> False</td>\n",
        "      <td> False</td>\n",
        "      <td> False</td>\n",
        "      <td> False</td>\n",
        "      <td> False</td>\n",
        "      <td> False</td>\n",
        "      <td> True</td>\n",
        "      <td> False</td>\n",
        "      <td> False</td>\n",
        "      <td> 1979</td>\n",
        "    </tr>\n",
        "  </tbody>\n",
        "</table>\n",
        "<p>5 rows \u00d7 433 columns</p>\n",
        "</div>"
       ],
       "metadata": {},
       "output_type": "pyout",
       "prompt_number": 665,
       "text": [
        "  26 Miles >From the Heart of Me  ????? A Mind to Give Up Livin'  \\\n",
        "0    False                 False  False                    False   \n",
        "1    False                 False  False                    False   \n",
        "2    False                 False  False                    False   \n",
        "3    False                 False  False                    False   \n",
        "4    False                 False  False                    False   \n",
        "\n",
        "  Addams Family Ain't Superstitious Alabama Getaway All Along The Watchtower  \\\n",
        "0         False               False           False                    False   \n",
        "1         False               False           False                    False   \n",
        "2         False               False           False                    False   \n",
        "3         False               False           False                    False   \n",
        "4         False               False           False                    False   \n",
        "\n",
        "  All Along the Watchtower Althea  ...   Willie and the Hand Jive  \\\n",
        "0                     True   True  ...                      False   \n",
        "1                     True  False  ...                      False   \n",
        "2                    False  False  ...                      False   \n",
        "3                    False  False  ...                      False   \n",
        "4                    False   True  ...                      False   \n",
        "\n",
        "  You Ain't Woman Enough You Win Again You Won't Find Me Your Love At Home  \\\n",
        "0                  False         False             False             False   \n",
        "1                  False         False             False             False   \n",
        "2                  False         False             False             False   \n",
        "3                  False         False             False             False   \n",
        "4                  False         False             False             False   \n",
        "\n",
        "  [set list unknown] drums    jam  space  year  \n",
        "0              False  True  False  False  1987  \n",
        "1              False  True  False  False  1987  \n",
        "2              False  True  False  False  1982  \n",
        "3              False  True  False  False  1990  \n",
        "4              False  True  False  False  1979  \n",
        "\n",
        "[5 rows x 433 columns]"
       ]
      }
     ],
     "prompt_number": 665
    },
    {
     "cell_type": "markdown",
     "metadata": {},
     "source": [
      "###What years do we have?"
     ]
    },
    {
     "cell_type": "code",
     "collapsed": false,
     "input": [
      "print df['year'].max()\n",
      "print df['year'].min()\n",
      "print df['year'].mean()"
     ],
     "language": "python",
     "metadata": {},
     "outputs": [
      {
       "output_type": "stream",
       "stream": "stdout",
       "text": [
        "1992\n",
        "1972\n",
        "1982.43484521\n"
       ]
      }
     ],
     "prompt_number": 666
    },
    {
     "cell_type": "markdown",
     "metadata": {},
     "source": [
      "###Do some pre-processing to clean up the dataset a bit\n",
      "\n",
      "Going to try and clean up the song titles.\n",
      "Convert to lowercase.\n",
      "Remove punctuation.\n",
      "Remove the word \"jam\""
     ]
    },
    {
     "cell_type": "code",
     "collapsed": false,
     "input": [
      "lcCols = list(df.columns)"
     ],
     "language": "python",
     "metadata": {},
     "outputs": [],
     "prompt_number": 668
    },
    {
     "cell_type": "code",
     "collapsed": false,
     "input": [
      "for i in range(0,len(lcCols)):\n",
      "    lcCols[i] = lcCols[i].lower()"
     ],
     "language": "python",
     "metadata": {},
     "outputs": [],
     "prompt_number": 669
    },
    {
     "cell_type": "code",
     "collapsed": false,
     "input": [
      "pattern = r'[\\',.!\\[\\]\\>]*'\n",
      "for i in range(0,len(lcCols)):\n",
      "    lcCols[i] = re.sub(pattern, '', lcCols[i])"
     ],
     "language": "python",
     "metadata": {},
     "outputs": [],
     "prompt_number": 670
    },
    {
     "cell_type": "code",
     "collapsed": false,
     "input": [
      "patternB = r' jam'\n",
      "for i in range(0,len(lcCols)):\n",
      "    lcCols[i] = re.sub(patternB, '', lcCols[i])"
     ],
     "language": "python",
     "metadata": {},
     "outputs": [],
     "prompt_number": 671
    },
    {
     "cell_type": "markdown",
     "metadata": {},
     "source": [
      "The printout of the song names reveals multiple columns for certain songs. Usually because a song has a minor mispelling."
     ]
    },
    {
     "cell_type": "code",
     "collapsed": false,
     "input": [
      "#for i in range(0,len(lcCols)):\n",
      "#    print i, lcCols[i]"
     ],
     "language": "python",
     "metadata": {},
     "outputs": [],
     "prompt_number": 323
    },
    {
     "cell_type": "markdown",
     "metadata": {},
     "source": [
      "Create some functions to quanitify the mis-spellings so that we can automatically detect them and correct them. This means eliminating 2 columns and replacing them with a single merged column (the union of the two original columns)."
     ]
    },
    {
     "cell_type": "code",
     "collapsed": false,
     "input": [
      "def perDiff(a, b):\n",
      "    sameCount = 0\n",
      "    diffCount = 0\n",
      "    aL = len(a)\n",
      "    bL = len(b)\n",
      "    \n",
      "    if aL > bL:\n",
      "        diffCount = aL - bL\n",
      "        n = bL\n",
      "    else:\n",
      "        diffCount = bL - aL\n",
      "        n = aL\n",
      "    for i in range(0,n):\n",
      "        if a[i] == b[i]:\n",
      "            sameCount = sameCount + 1\n",
      "        else:\n",
      "            diffCount = diffCount + 1\n",
      "    return(diffCount)"
     ],
     "language": "python",
     "metadata": {},
     "outputs": [],
     "prompt_number": 608
    },
    {
     "cell_type": "code",
     "collapsed": false,
     "input": [
      "def wordDiff(a, b):\n",
      "    diffCount = 0\n",
      "    s1 = a.split(' ')\n",
      "    s2 = b.split(' ')\n",
      "    #print s1\n",
      "    #print s2\n",
      "    aS = len(s1)\n",
      "    bS = len(s2)      \n",
      "    #print aS, bS\n",
      "    if aS > bS:\n",
      "        diffCount = 10 * (aS - bS)\n",
      "        nn = bS\n",
      "    else:\n",
      "        diffCount = 10 * (bS - aS)\n",
      "        nn = aS\n",
      "    #print \"nn is \" , nn\n",
      "    for i in range(0, nn):\n",
      "            if(s1[i]!=s2[i]):\n",
      "                #print s1[i], s2[i]\n",
      "                diffCount = diffCount + perDiff(s1[i], s2[i])\n",
      "    return diffCount"
     ],
     "language": "python",
     "metadata": {},
     "outputs": [],
     "prompt_number": 609
    },
    {
     "cell_type": "markdown",
     "metadata": {},
     "source": [
      "A couple of small tests:"
     ]
    },
    {
     "cell_type": "code",
     "collapsed": false,
     "input": [
      "print lcCols[146]\n",
      "print lcCols[147]\n",
      "wordDiff(lcCols[146], lcCols[147])"
     ],
     "language": "python",
     "metadata": {},
     "outputs": [
      {
       "output_type": "stream",
       "stream": "stdout",
       "text": [
        "goin down the road feelin bad\n",
        "goin down the road feeling bad\n"
       ]
      },
      {
       "metadata": {},
       "output_type": "pyout",
       "prompt_number": 610,
       "text": [
        "1"
       ]
      }
     ],
     "prompt_number": 610
    },
    {
     "cell_type": "code",
     "collapsed": false,
     "input": [
      "print lcCols[1]\n",
      "print lcCols[2]\n",
      "wordDiff(lcCols[1], lcCols[2])"
     ],
     "language": "python",
     "metadata": {},
     "outputs": [
      {
       "output_type": "stream",
       "stream": "stdout",
       "text": [
        "from the heart of me\n",
        "?????\n"
       ]
      },
      {
       "metadata": {},
       "output_type": "pyout",
       "prompt_number": 611,
       "text": [
        "45"
       ]
      }
     ],
     "prompt_number": 611
    },
    {
     "cell_type": "markdown",
     "metadata": {},
     "source": [
      "Run this on the song list as represented by the column names.\n",
      "\n",
      "The function returns combinations of column indices for pairs of columns that need to be condensed into a single column"
     ]
    },
    {
     "cell_type": "code",
     "collapsed": false,
     "input": [
      "def compDiffWords(lcCols):\n",
      "    colar = []\n",
      "    for i in range(0,len(lcCols)):\n",
      "        for j in range(0,len(lcCols)):\n",
      "            if(i != j):\n",
      "                nn = wordDiff(lcCols[i],lcCols[j])\n",
      "                if nn < 2:\n",
      "                    if(i<j):\n",
      "                        b=(i,j)\n",
      "                    else:\n",
      "                        b=(j,i)\n",
      "                    if(b in colar):\n",
      "                        k=0\n",
      "                    else:\n",
      "                        colar.append(b)\n",
      "                    #print i, j, lcCols[i], \"  :  \", lcCols[j], nn \n",
      "    return colar"
     ],
     "language": "python",
     "metadata": {},
     "outputs": [],
     "prompt_number": 612
    },
    {
     "cell_type": "code",
     "collapsed": false,
     "input": [
      "gg=compDiffWords(lcCols)"
     ],
     "language": "python",
     "metadata": {},
     "outputs": [],
     "prompt_number": 672
    },
    {
     "cell_type": "code",
     "collapsed": false,
     "input": [
      "print len(gg)"
     ],
     "language": "python",
     "metadata": {},
     "outputs": [
      {
       "output_type": "stream",
       "stream": "stdout",
       "text": [
        "47\n"
       ]
      }
     ],
     "prompt_number": 673
    },
    {
     "cell_type": "code",
     "collapsed": false,
     "input": [
      "gg[0:5]"
     ],
     "language": "python",
     "metadata": {},
     "outputs": [
      {
       "metadata": {},
       "output_type": "pyout",
       "prompt_number": 674,
       "text": [
        "[(7, 8), (29, 31), (40, 41), (44, 45), (56, 57)]"
       ]
      }
     ],
     "prompt_number": 674
    },
    {
     "cell_type": "code",
     "collapsed": false,
     "input": [
      "dfA = df.copy()"
     ],
     "language": "python",
     "metadata": {},
     "outputs": [],
     "prompt_number": 675
    },
    {
     "cell_type": "markdown",
     "metadata": {},
     "source": [
      "Process the columns on a copy of the data frame. Drop the two columns, merge them and re-establish a single column"
     ]
    },
    {
     "cell_type": "code",
     "collapsed": false,
     "input": [
      "pattern = r'[\\',.!\\[\\]\\>]*'\n",
      "colar=compDiffWords(lcCols)\n",
      "theCols = dfA.columns\n",
      "n=len(colar)\n",
      "for i in range(0, n):\n",
      "    print \"dropping \", theCols[colar[i][0]]\n",
      "    print \"dropping \", theCols[colar[i][1]]\n",
      "    theNameA = df.columns[colar[i][0]]\n",
      "    theNameA = theNameA.lower()\n",
      "    theNameA = re.sub(pattern, '', theNameA)\n",
      "    dfA = dfA.drop([theCols[colar[i][0]]], axis = 1)\n",
      "    dfA = dfA.drop([theCols[colar[i][1]]], axis = 1)\n",
      "    theCol = np.array(df[theCols[colar[i][0]]] | df[theCols[colar[i][1]]])\n",
      "    print \"adding union for: \", theNameA\n",
      "    print \"-----------------------------------\"\n",
      "    dfA[theNameA] = np.array(df[theCols[colar[i][0]]] | df[theCols[colar[i][1]]])"
     ],
     "language": "python",
     "metadata": {},
     "outputs": [
      {
       "output_type": "stream",
       "stream": "stdout",
       "text": [
        "dropping  All Along The Watchtower\n",
        "dropping  All Along the Watchtower\n",
        "adding union for:  all along the watchtower\n",
        "-----------------------------------\n",
        "dropping  Big RIver\n",
        "dropping  Big River\n",
        "adding union for:  big river\n",
        "-----------------------------------\n",
        "dropping  Blues For Allah\n",
        "dropping  Blues For Allah Jam\n",
        "adding union for:  blues for allah\n",
        "-----------------------------------\n",
        "dropping  Box Of Rain\n",
        "dropping  Box of Rain\n",
        "adding union for:  box of rain\n",
        "-----------------------------------\n",
        "dropping  Caution\n",
        "dropping  Caution Jam\n",
        "adding union for:  caution\n",
        "-----------------------------------\n",
        "dropping  Comes A Time\n",
        "dropping  Comes a Time\n",
        "adding union for:  comes a time\n",
        "-----------------------------------\n",
        "dropping  Comments: was there a Playin' Reprise???\n",
        "dropping  Comments: was there a Playin' reprise??\n",
        "adding union for:  comments: was there a playin reprise???\n",
        "-----------------------------------\n",
        "dropping  Drums\n",
        "dropping  drums\n",
        "adding union for:  drums\n",
        "-----------------------------------\n",
        "dropping  Fire On the Mountain\n",
        "dropping  Fire on the Mountain\n",
        "adding union for:  fire on the mountain\n",
        "-----------------------------------\n",
        "dropping  Gloria\n",
        "dropping  Gloria Jam\n",
        "adding union for:  gloria\n",
        "-----------------------------------\n",
        "dropping  Goin' Down the Road Feelin' Bad\n",
        "dropping  Goin' Down the Road Feeling Bad\n",
        "adding union for:  goin down the road feelin bad\n",
        "-----------------------------------\n",
        "dropping  Hell In a Bucket\n",
        "dropping  Hell in a Bucket\n",
        "adding union for:  hell in a bucket\n",
        "-----------------------------------\n",
        "dropping  Here Come Sunshine\n",
        "dropping  Here Comes Sunshine\n",
        "adding union for:  here come sunshine\n",
        "-----------------------------------\n",
        "dropping  Hey Bo Diddiey\n",
        "dropping  Hey Bo Diddley\n",
        "adding union for:  hey bo diddiey\n",
        "-----------------------------------\n",
        "dropping  I'm A Man\n",
        "dropping  I'm a Man\n",
        "adding union for:  im a man\n",
        "-----------------------------------\n",
        "dropping  Jack Stnaw\n",
        "dropping  Jack Straw\n",
        "adding union for:  jack stnaw\n",
        "-----------------------------------\n",
        "dropping "
       ]
      },
      {
       "output_type": "stream",
       "stream": "stdout",
       "text": [
        " Jam\n",
        "dropping  jam\n",
        "adding union for:  jam\n",
        "-----------------------------------\n",
        "dropping  Let It Grow\n",
        "dropping  Let it Grow\n",
        "adding union for:  let it grow\n",
        "-----------------------------------\n",
        "dropping  Loos Lucy\n",
        "dropping  Loose Lucy\n",
        "adding union for:  loos lucy\n",
        "-----------------------------------\n",
        "dropping  Me & M Uncle\n",
        "dropping  Me & My Uncle\n",
        "adding union for:  me & m uncle\n",
        "-----------------------------------\n",
        "dropping  Me and My UNcle\n",
        "dropping  Me and My Uncle\n",
        "adding union for:  me and my uncle\n",
        "-----------------------------------\n",
        "dropping  Might As Well\n",
        "dropping  Might as Well\n",
        "adding union for:  might as well\n",
        "-----------------------------------\n",
        "dropping  Mojo\n",
        "dropping  Mojo Jam\n",
        "adding union for:  mojo\n",
        "-----------------------------------\n",
        "dropping  Mr Charlie\n",
        "dropping  Mr. Charlie\n",
        "adding union for:  mr charlie\n",
        "-----------------------------------\n",
        "dropping  Playin' in the Band\n",
        "dropping  Playing in the Band\n",
        "adding union for:  playin in the band\n",
        "-----------------------------------\n",
        "dropping  Qave That Flag\n",
        "dropping  Wave That Flag\n",
        "adding union for:  qave that flag\n",
        "-----------------------------------\n",
        "dropping  Ramble On Rose\n",
        "dropping  Ramble on Rose\n",
        "adding union for:  ramble on rose\n",
        "-----------------------------------\n",
        "dropping  Rockin Pneumonia\n",
        "dropping  Rockin' Pneumonia\n",
        "adding union for:  rockin pneumonia\n",
        "-----------------------------------\n",
        "dropping  SUgaree\n",
        "dropping  Sugaree\n",
        "adding union for:  sugaree\n",
        "-----------------------------------\n",
        "dropping  Saturday Nigh\n",
        "dropping  Saturday Night\n",
        "adding union for:  saturday nigh\n",
        "-----------------------------------\n",
        "dropping  Ship Of Fools\n",
        "dropping  Ship of Fools\n",
        "adding union for:  ship of fools\n",
        "-----------------------------------\n",
        "dropping  Sing Me Back Hom\n",
        "dropping  Sing Me Back Home\n",
        "adding union for:  sing me back hom\n",
        "-----------------------------------\n",
        "dropping "
       ]
      },
      {
       "output_type": "stream",
       "stream": "stdout",
       "text": [
        " Smokestack Lightnin'\n",
        "dropping  Smokestack Lightning\n",
        "adding union for:  smokestack lightnin\n",
        "-----------------------------------\n",
        "dropping  Space\n",
        "dropping  space\n",
        "adding union for:  space\n",
        "-----------------------------------\n",
        "dropping  Stir It Up\n",
        "dropping  Stir it Up\n",
        "adding union for:  stir it up\n",
        "-----------------------------------\n",
        "dropping  Sugar Magnolia\n",
        "dropping  Sugar Magnolla\n",
        "adding union for:  sugar magnolia\n",
        "-----------------------------------\n",
        "dropping  Supplication\n",
        "dropping  Supplication Jam\n",
        "adding union for:  supplication\n",
        "-----------------------------------\n",
        "dropping  Tennesse Jed\n",
        "dropping  Tennessee Jed\n",
        "adding union for:  tennesse jed\n",
        "-----------------------------------\n",
        "dropping  The Eleven\n",
        "dropping  The Eleven Jam\n",
        "adding union for:  the eleven\n",
        "-----------------------------------\n",
        "dropping  The Race Is On\n",
        "dropping  The Race is On\n",
        "adding union for:  the race is on\n",
        "-----------------------------------\n",
        "dropping  Tomorrow Is Forever\n",
        "dropping  Tomorrow is Forever\n",
        "adding union for:  tomorrow is forever\n",
        "-----------------------------------\n",
        "dropping  Touch Of Grey\n",
        "dropping  Touch of Grey\n",
        "adding union for:  touch of grey\n",
        "-----------------------------------\n",
        "dropping  TrucKin\n",
        "dropping  Truckin'\n",
        "adding union for:  truckin\n",
        "-----------------------------------\n",
        "dropping  Turn On Your Love Light\n",
        "dropping  Turn on Your Love Light\n",
        "adding union for:  turn on your love light\n",
        "-----------------------------------\n",
        "dropping  Uncle John's Band\n",
        "dropping  Uncle John's Band's Jam\n",
        "adding union for:  uncle johns band\n",
        "-----------------------------------\n",
        "dropping  WRS Part 1\n",
        "dropping  WRS Part l\n",
        "adding union for:  wrs part 1\n",
        "-----------------------------------\n",
        "dropping  Whar' Rat\n",
        "dropping  Wharf Rat\n",
        "adding union for:  whar rat\n",
        "-----------------------------------\n"
       ]
      }
     ],
     "prompt_number": 676
    },
    {
     "cell_type": "markdown",
     "metadata": {},
     "source": [
      "For \"Me and My Uncle\" there were 4 columns!!\n",
      "\n",
      "dropping  Me & M Uncle\n",
      "dropping  Me & My Uncle\n",
      "adding union for:  me & my uncle\n",
      "\n",
      "-----------------------------------\n",
      "\n",
      "dropping  Me and My UNcle\n",
      "dropping  Me and My Uncle\n",
      "adding union for:  me and my uncle\n",
      "\n",
      "We now 2 columns for this song. \n",
      "\n",
      "Repeating the procedure above will eliminate this final issue."
     ]
    },
    {
     "cell_type": "code",
     "collapsed": false,
     "input": [
      "dfB = dfA\n",
      "lcColsB = list(dfA.columns)\n",
      "patternC = r'&'\n",
      "for i in range(0,len(lcColsB)):\n",
      "    lcColsB[i] = re.sub(patternC, 'and', lcColsB[i])\n",
      "pattern = r'[\\',.!\\[\\]\\>]*'\n",
      "colarB=compDiffWords(lcColsB)\n",
      "theColsB = dfB.columns\n",
      "n=len(colarB)\n",
      "for i in range(0, n):\n",
      "    print \"dropping \", theColsB[colarB[i][0]]\n",
      "    print \"dropping \", theColsB[colarB[i][1]]\n",
      "    theNameA = dfA.columns[colarB[i][0]]\n",
      "    theNameA = theNameA.lower()\n",
      "    theNameA = re.sub(pattern, '', theNameA)\n",
      "    theNameA = re.sub(patternC, 'and', theNameA)\n",
      "    print \"the NameA is \" , theNameA\n",
      "    dfB = dfB.drop([theColsB[colarB[i][0]]], axis = 1)\n",
      "    dfB = dfB.drop([theColsB[colarB[i][1]]], axis = 1)\n",
      "    theColB = np.array(dfA[theColsB[colarB[i][0]]] | dfA[theColsB[colarB[i][1]]])\n",
      "    print \"adding union for: \", theNameA\n",
      "    print \"-----------------------------------\"\n",
      "    dfB[theNameA] = np.array(dfA[theColsB[colarB[i][0]]] | dfA[theColsB[colarB[i][1]]])"
     ],
     "language": "python",
     "metadata": {},
     "outputs": [
      {
       "output_type": "stream",
       "stream": "stdout",
       "text": [
        "dropping  me & m uncle\n",
        "dropping  me and my uncle\n",
        "the NameA is  me and m uncle\n",
        "adding union for:  me and m uncle\n",
        "-----------------------------------\n"
       ]
      }
     ],
     "prompt_number": 677
    },
    {
     "cell_type": "markdown",
     "metadata": {},
     "source": [
      "Drop the columns that are \"comments\""
     ]
    },
    {
     "cell_type": "code",
     "collapsed": false,
     "input": [
      "patternC = r'Comments'"
     ],
     "language": "python",
     "metadata": {},
     "outputs": [],
     "prompt_number": 678
    },
    {
     "cell_type": "code",
     "collapsed": false,
     "input": [
      "regex = re.compile(patternC, flags=re.IGNORECASE)\n",
      "theCols = dfB.columns\n",
      "for i in range(0,len(theCols)):\n",
      "    if(len(regex.findall(theCols[i]))>0):\n",
      "        print \"dropping \", theCols[i]\n",
      "        dfB = dfB.drop([theCols[i]], axis = 1)"
     ],
     "language": "python",
     "metadata": {},
     "outputs": [
      {
       "output_type": "stream",
       "stream": "stdout",
       "text": [
        "dropping  Comments: Baba Olatungi and Bela Fleck and the Flecktones Opened, Nationwide FM\n",
        "dropping  Comments: Bill Graham Memorial Concert, FM Broadcast\n",
        "dropping  Comments: Bob and Jerry Acoustic\n",
        "dropping  Comments: Brent Mydland's First Show\n",
        "dropping  Comments: Brent Mydland's Last Show.  Brent Died on 7/26, Three Days Later.\n",
        "dropping  Comments: Carlos Santana and his band opened\n",
        "dropping  Comments: Chinese New Year\n",
        "dropping  Comments: David Letterman\n",
        "dropping  Comments: Dwight Yoakam opened\n",
        "dropping  Comments: First Vince \"AWBYGN\"\n",
        "dropping  Comments: First Vince \"Attics\"\n",
        "dropping  Comments: Johnny Clegg and Savuka Opened\n",
        "dropping  Comments: Letterman\n",
        "dropping  Comments: Little Feat opened\n",
        "dropping  Comments: Nuclear Disarmament Benefit\n",
        "dropping  Comments: Rex Foundation Benefit\n",
        "dropping  Comments: Santana Opened\n",
        "dropping  Comments: Sing Out For Sight\n",
        "dropping  Comments: Summer Solstice Show\n",
        "dropping  Comments: Teddy Bear Picnic Before Stranger\n",
        "dropping  Comments: Vince Welnik's First Show.\n",
        "dropping  Comments: Vince completes one year with the band\n",
        "dropping  Comments: Violent Femmes opened\n",
        "dropping  Comments: With Branford Marsalis, Hamza El Din\n",
        "dropping  Comments: With Carlos Santana and Gary Duncan\n",
        "dropping  Comments: the Tomorrow Show\n",
        "dropping  comments: was there a playin reprise???\n"
       ]
      }
     ],
     "prompt_number": 679
    },
    {
     "cell_type": "markdown",
     "metadata": {},
     "source": [
      "Drop some other columns for which the song names are unknown"
     ]
    },
    {
     "cell_type": "code",
     "collapsed": false,
     "input": [
      "dfB = dfB.drop(['?????'], axis = 1)"
     ],
     "language": "python",
     "metadata": {},
     "outputs": [],
     "prompt_number": 680
    },
    {
     "cell_type": "code",
     "collapsed": false,
     "input": [
      "dfB = dfB.drop(['[set list unknown]'], axis = 1)"
     ],
     "language": "python",
     "metadata": {},
     "outputs": [],
     "prompt_number": 681
    },
    {
     "cell_type": "code",
     "collapsed": false,
     "input": [
      "#for i in range(1,len(theCols)):\n",
      " #   print i, theCols[i]"
     ],
     "language": "python",
     "metadata": {},
     "outputs": [],
     "prompt_number": 189
    },
    {
     "cell_type": "code",
     "collapsed": false,
     "input": [
      "dfTest = dfB.copy()"
     ],
     "language": "python",
     "metadata": {},
     "outputs": [],
     "prompt_number": 715
    },
    {
     "cell_type": "code",
     "collapsed": false,
     "input": [
      "#for i in range(0, len(dfTest.columns)):\n",
      " #   print i, dfTest.columns[i]"
     ],
     "language": "python",
     "metadata": {},
     "outputs": [],
     "prompt_number": 100
    },
    {
     "cell_type": "markdown",
     "metadata": {},
     "source": [
      "Re-index the entire dataset using the scrubbed names"
     ]
    },
    {
     "cell_type": "code",
     "collapsed": false,
     "input": [
      "patternC = r'&'\n",
      "pattern = r'[\\',.!\\[\\]\\>]*'\n",
      "for i in range(0, len(dfB.columns)):\n",
      "    theNameA = dfB.columns[i]\n",
      "    theNameA = theNameA.lower()\n",
      "    theNameA = re.sub(pattern, '', theNameA)\n",
      "    theNameA = re.sub(patternC, 'and', theNameA)\n",
      "    if theNameA == 'year':\n",
      "        theNameA = 'zYEAR'\n",
      "    dfTest = dfTest.drop([dfB.columns[i]], axis = 1)\n",
      "    dfTest[theNameA] = np.array(dfB[dfB.columns[i]])"
     ],
     "language": "python",
     "metadata": {},
     "outputs": [],
     "prompt_number": 716
    },
    {
     "cell_type": "code",
     "collapsed": false,
     "input": [
      "theCols = list(dfTest.columns)\n",
      "theCols.sort()\n",
      "dfTest = dfTest.reindex(columns=theCols)"
     ],
     "language": "python",
     "metadata": {},
     "outputs": [],
     "prompt_number": 717
    },
    {
     "cell_type": "markdown",
     "metadata": {},
     "source": [
      "dfTest is the master"
     ]
    },
    {
     "cell_type": "code",
     "collapsed": false,
     "input": [
      "#dfTestB = dfTest.copy()\n",
      "#dfTestC = dfTest.copy()\n",
      "#dfTestD = dfTest.copy()\n",
      "#dfTestE = dfTest.copy()"
     ],
     "language": "python",
     "metadata": {},
     "outputs": [],
     "prompt_number": 909
    },
    {
     "cell_type": "markdown",
     "metadata": {},
     "source": [
      "This is the cleaned up list of final song names."
     ]
    },
    {
     "cell_type": "code",
     "collapsed": false,
     "input": [
      "#for i in range(0, len(dfTest.columns)):\n",
      " #   print i, dfTest.columns[i]"
     ],
     "language": "python",
     "metadata": {},
     "outputs": [],
     "prompt_number": 662
    },
    {
     "cell_type": "markdown",
     "metadata": {},
     "source": [
      "####It's by no means perfect. There are still columns that could be merged. But let's run with this."
     ]
    },
    {
     "cell_type": "markdown",
     "metadata": {},
     "source": [
      "I found what appears to be a complete Grateful Dead songlist. \n",
      "\n",
      "Using the external list of songs I wanted to see how many matched the song titles that are the columns headings."
     ]
    },
    {
     "cell_type": "code",
     "collapsed": false,
     "input": [
      "pattern = r'[\\',.!\\[\\]\\>]*'\n",
      "patternC = r'&'\n",
      "founda = np.zeros(len(dfTest.columns)-1)\n",
      "for i in range(0,len(kS['Grateful Dead Song List'])):\n",
      "    for j in range(0, len(dfTest.columns)-1):\n",
      "        theSong = re.sub(pattern, '', kS['Grateful Dead Song List'][i])\n",
      "        theSong = re.sub(patternC, 'and', theSong)\n",
      "        theSong = theSong.lower()\n",
      "        #print theSong\n",
      "        if theSong == dfTest.columns[j]:\n",
      "            founda[j] = 1"
     ],
     "language": "python",
     "metadata": {},
     "outputs": [],
     "prompt_number": 628
    },
    {
     "cell_type": "markdown",
     "metadata": {},
     "source": [
      "####The 1's in the array below were matches. Ideally one would clean up the rest. Maybe it's just correcting the title for minor spelling mistakes or slight innaccuracies in the song titles themselves."
     ]
    },
    {
     "cell_type": "code",
     "collapsed": false,
     "input": [
      "founda"
     ],
     "language": "python",
     "metadata": {},
     "outputs": [
      {
       "metadata": {},
       "output_type": "pyout",
       "prompt_number": 629,
       "text": [
        "array([ 0.,  0.,  0.,  0.,  1.,  1.,  1.,  1.,  1.,  0.,  1.,  1.,  0.,\n",
        "        1.,  1.,  1.,  0.,  0.,  0.,  1.,  0.,  1.,  1.,  0.,  1.,  1.,\n",
        "        1.,  1.,  1.,  0.,  1.,  1.,  1.,  1.,  1.,  1.,  1.,  0.,  1.,\n",
        "        1.,  0.,  1.,  0.,  1.,  1.,  1.,  1.,  1.,  1.,  0.,  0.,  0.,\n",
        "        1.,  1.,  0.,  1.,  1.,  1.,  1.,  1.,  0.,  0.,  1.,  1.,  1.,\n",
        "        0.,  1.,  1.,  0.,  0.,  1.,  1.,  1.,  1.,  1.,  1.,  1.,  0.,\n",
        "        1.,  0.,  1.,  1.,  0.,  1.,  1.,  1.,  1.,  1.,  1.,  0.,  1.,\n",
        "        1.,  1.,  1.,  1.,  1.,  1.,  0.,  1.,  0.,  1.,  1.,  0.,  0.,\n",
        "        0.,  1.,  1.,  1.,  1.,  0.,  1.,  1.,  0.,  0.,  1.,  1.,  1.,\n",
        "        1.,  0.,  0.,  0.,  1.,  1.,  0.,  1.,  1.,  1.,  0.,  1.,  0.,\n",
        "        0.,  1.,  0.,  1.,  0.,  1.,  0.,  0.,  0.,  1.,  1.,  0.,  1.,\n",
        "        1.,  1.,  1.,  1.,  1.,  1.,  1.,  0.,  0.,  0.,  1.,  1.,  0.,\n",
        "        0.,  1.,  0.,  0.,  0.,  1.,  1.,  1.,  0.,  1.,  1.,  1.,  1.,\n",
        "        1.,  0.,  0.,  0.,  1.,  1.,  1.,  0.,  1.,  1.,  0.,  1.,  0.,\n",
        "        1.,  1.,  1.,  1.,  1.,  1.,  1.,  1.,  1.,  0.,  0.,  0.,  1.,\n",
        "        0.,  1.,  0.,  0.,  1.,  1.,  1.,  0.,  0.,  0.,  1.,  1.,  1.,\n",
        "        1.,  1.,  0.,  1.,  0.,  1.,  1.,  1.,  1.,  1.,  1.,  1.,  1.,\n",
        "        0.,  1.,  1.,  1.,  0.,  1.,  1.,  0.,  1.,  0.,  1.,  0.,  0.,\n",
        "        1.,  0.,  1.,  0.,  1.,  0.,  1.,  0.,  1.,  0.,  0.,  1.,  1.,\n",
        "        1.,  1.,  0.,  0.,  0.,  1.,  0.,  1.,  1.,  0.,  1.,  0.,  0.,\n",
        "        1.,  1.,  1.,  1.,  1.,  1.,  1.,  0.,  1.,  0.,  0.,  0.,  1.,\n",
        "        0.,  1.,  1.,  0.,  1.,  1.,  1.,  1.,  0.,  1.,  1.,  0.,  0.,\n",
        "        1.,  0.,  1.,  1.,  1.,  1.,  0.,  1.,  1.,  0.,  0.,  1.,  1.,\n",
        "        0.,  0.,  1.,  1.,  1.,  1.,  1.,  1.,  1.,  1.,  0.,  0.,  0.,\n",
        "        0.,  1.,  0.,  1.,  1.,  1.,  1.,  0.,  0.,  1.,  1.,  1.,  0.,\n",
        "        0.,  1.,  1.,  0.,  1.,  1.,  1.,  0.,  1.,  1.,  1.,  1.,  0.,\n",
        "        0.,  1.,  1.,  0.,  1.,  1.,  0.,  1.,  1.,  0.,  1.,  0.,  0.,\n",
        "        1.,  1.,  0.,  1.])"
       ]
      }
     ],
     "prompt_number": 629
    },
    {
     "cell_type": "markdown",
     "metadata": {},
     "source": [
      "These are the songs that did not match up"
     ]
    },
    {
     "cell_type": "code",
     "collapsed": false,
     "input": [
      "#count = 0\n",
      "#for j in range(0, len(dfTest.columns)-1):\n",
      "#    if founda[j] == 0:\n",
      "#        count = count + 1\n",
      "#        print dfTest.columns[j]\n",
      "#print count"
     ],
     "language": "python",
     "metadata": {},
     "outputs": [],
     "prompt_number": 351
    },
    {
     "cell_type": "markdown",
     "metadata": {},
     "source": [
      "##Naive Bayes - binary classifier using Multinomial"
     ]
    },
    {
     "cell_type": "code",
     "collapsed": false,
     "input": [
      "print (dfTestB[\"zYEAR\"] < 1980).sum()\n",
      "print ((dfTestB[\"zYEAR\"] < 1990) & (dfTestB[\"zYEAR\"] > 1979)).sum()\n",
      "print (dfTestB[\"zYEAR\"] > 1989).sum()\n",
      "print len(dfTestB[\"zYEAR\"])"
     ],
     "language": "python",
     "metadata": {},
     "outputs": [
      {
       "output_type": "stream",
       "stream": "stdout",
       "text": [
        "462\n",
        "722\n",
        "205\n",
        "1389\n"
       ]
      }
     ],
     "prompt_number": 719
    },
    {
     "cell_type": "markdown",
     "metadata": {},
     "source": [
      "The decade of the 1980s has 722. Need to downsample this class to 410, to balance with the 410 of the pre-80s, post-90s group.\n",
      "\n",
      "Also need to downsample the pre-1980 group to 205."
     ]
    },
    {
     "cell_type": "code",
     "collapsed": false,
     "input": [
      "indices = np.where(dfTestB['zYEAR'] < 1980)[0]\n",
      "print len(indices)"
     ],
     "language": "python",
     "metadata": {},
     "outputs": [
      {
       "output_type": "stream",
       "stream": "stdout",
       "text": [
        "462\n"
       ]
      }
     ],
     "prompt_number": 720
    },
    {
     "cell_type": "code",
     "collapsed": false,
     "input": [
      "r = np.random.RandomState(34)"
     ],
     "language": "python",
     "metadata": {},
     "outputs": [],
     "prompt_number": 721
    },
    {
     "cell_type": "code",
     "collapsed": false,
     "input": [
      "r.shuffle(indices)"
     ],
     "language": "python",
     "metadata": {},
     "outputs": [],
     "prompt_number": 722
    },
    {
     "cell_type": "code",
     "collapsed": false,
     "input": [
      "dfTestB = dfTestB.drop(dfTestB.index[indices[205:]])"
     ],
     "language": "python",
     "metadata": {},
     "outputs": [],
     "prompt_number": 723
    },
    {
     "cell_type": "code",
     "collapsed": false,
     "input": [
      "indices = np.where(dfTestB['zYEAR'] < 1980)[0]\n",
      "print len(indices)"
     ],
     "language": "python",
     "metadata": {},
     "outputs": [
      {
       "output_type": "stream",
       "stream": "stdout",
       "text": [
        "205\n"
       ]
      }
     ],
     "prompt_number": 724
    },
    {
     "cell_type": "code",
     "collapsed": false,
     "input": [
      "indices = np.where((dfTestB['zYEAR'] < 1990) & (dfTestB['zYEAR'] > 1979))[0]\n",
      "print len(indices)"
     ],
     "language": "python",
     "metadata": {},
     "outputs": [
      {
       "output_type": "stream",
       "stream": "stdout",
       "text": [
        "722\n"
       ]
      }
     ],
     "prompt_number": 726
    },
    {
     "cell_type": "code",
     "collapsed": false,
     "input": [
      "r = np.random.RandomState(3)"
     ],
     "language": "python",
     "metadata": {},
     "outputs": [],
     "prompt_number": 727
    },
    {
     "cell_type": "code",
     "collapsed": false,
     "input": [
      "r.shuffle(indices)"
     ],
     "language": "python",
     "metadata": {},
     "outputs": [],
     "prompt_number": 728
    },
    {
     "cell_type": "code",
     "collapsed": false,
     "input": [
      "dfTestB = dfTestB.drop(dfTestB.index[indices[410:]])"
     ],
     "language": "python",
     "metadata": {},
     "outputs": [],
     "prompt_number": 729
    },
    {
     "cell_type": "code",
     "collapsed": false,
     "input": [
      "indices = np.where((dfTestB['zYEAR'] < 1990) & (dfTestB['zYEAR'] > 1979))[0]\n",
      "print len(indices)"
     ],
     "language": "python",
     "metadata": {},
     "outputs": [
      {
       "output_type": "stream",
       "stream": "stdout",
       "text": [
        "410\n"
       ]
      }
     ],
     "prompt_number": 730
    },
    {
     "cell_type": "code",
     "collapsed": false,
     "input": [
      "print (dfTestB[\"zYEAR\"] < 1980).sum()\n",
      "print ((dfTestB[\"zYEAR\"] < 1990) & (dfTestB[\"zYEAR\"] > 1979)).sum()\n",
      "print (dfTestB[\"zYEAR\"] > 1989).sum()\n",
      "print len(dfTestB[\"zYEAR\"])"
     ],
     "language": "python",
     "metadata": {},
     "outputs": [
      {
       "output_type": "stream",
       "stream": "stdout",
       "text": [
        "205\n",
        "410\n",
        "205\n",
        "820\n"
       ]
      }
     ],
     "prompt_number": 731
    },
    {
     "cell_type": "code",
     "collapsed": false,
     "input": [
      "dfTestC = dfTestB.copy()"
     ],
     "language": "python",
     "metadata": {},
     "outputs": [],
     "prompt_number": 777
    },
    {
     "cell_type": "code",
     "collapsed": false,
     "input": [
      "#dfTestC"
     ],
     "language": "python",
     "metadata": {},
     "outputs": [],
     "prompt_number": 802
    },
    {
     "cell_type": "code",
     "collapsed": false,
     "input": [
      "dd=(dfTestC[\"zYEAR\"] < 1980)\n",
      "dd1=(dfTestC[\"zYEAR\"] > 1989)\n",
      "dd2=((dfTestC[\"zYEAR\"] > 1979) & (dfTestC[\"zYEAR\"] < 1990))"
     ],
     "language": "python",
     "metadata": {},
     "outputs": [],
     "prompt_number": 779
    },
    {
     "cell_type": "code",
     "collapsed": false,
     "input": [
      "dfTestC[\"zYEAR\"][dd] = 0\n",
      "dfTestC[\"zYEAR\"][dd1] = 0\n",
      "dfTestC[\"zYEAR\"][dd2] = 1"
     ],
     "language": "python",
     "metadata": {},
     "outputs": [],
     "prompt_number": 780
    },
    {
     "cell_type": "code",
     "collapsed": false,
     "input": [
      "#dfTestC"
     ],
     "language": "python",
     "metadata": {},
     "outputs": [],
     "prompt_number": 803
    },
    {
     "cell_type": "code",
     "collapsed": false,
     "input": [
      "def accuracy_report(_clf, xtrain,ytrain,xtest, ytest):\n",
      "    print \"Accuracy: %0.2f%%\" % (100 * _clf.score(xtest, ytest))\n",
      "\n",
      "    #Print the accuracy on the test and training dataset\n",
      "    training_accuracy = _clf.score(xtrain, ytrain)\n",
      "    test_accuracy = _clf.score(xtest, ytest)\n",
      "\n",
      "    print \"Accuracy on training data: %0.2f\" % (training_accuracy)"
     ],
     "language": "python",
     "metadata": {},
     "outputs": [],
     "prompt_number": 782
    },
    {
     "cell_type": "markdown",
     "metadata": {},
     "source": [
      "###Note about Stratified Shuffle Split. \n",
      "\n",
      "I have used test size = 0.5 which splits the data into 2 folds, half for training and half for testing.\n",
      "\n",
      "The samples that appear in each fold are chosen randomnly.\n",
      "\n",
      "The folds are made preserving the percentage of samples in each class. \n",
      "\n",
      "By iterating 10 times it runs what is essentially 2 fold cross validation with a new randomnly chosen training and test set each time."
     ]
    },
    {
     "cell_type": "code",
     "collapsed": false,
     "input": [
      "theCols = dfTestC.columns\n",
      "theCols = theCols[:-1]\n",
      "X = dfTestC.as_matrix(columns = theCols)\n",
      "#print X"
     ],
     "language": "python",
     "metadata": {},
     "outputs": [],
     "prompt_number": 908
    },
    {
     "cell_type": "code",
     "collapsed": false,
     "input": [
      "y = (dfTestC[\"zYEAR\"]).values.astype(np.int)\n",
      "sss = StratifiedShuffleSplit(y, 10, test_size=0.5, random_state=32)      \n",
      "models = {}\n",
      "count = 1\n",
      "for train_index, test_index in sss:\n",
      "    indexName = \"model_\" + str(count) \n",
      "    #print(\"TRAIN:\", train_index, \"TEST:\", test_index)\n",
      "    X_train, X_test = X[train_index], X[test_index]\n",
      "    y_train, y_test = y[train_index], y[test_index]\n",
      "    clf_mn = MultinomialNB().fit(X_train, y_train)\n",
      "    print \"model_\", count\n",
      "    accuracy_report(clf_mn, X_train, y_train, X_test, y_test)\n",
      "    models[indexName] = clf_mn\n",
      "    count = count + 1"
     ],
     "language": "python",
     "metadata": {},
     "outputs": [
      {
       "output_type": "stream",
       "stream": "stdout",
       "text": [
        "model_ 1\n",
        "Accuracy: 93.41%\n",
        "Accuracy on training data: 0.95\n",
        "model_ 2\n",
        "Accuracy: 92.44%\n",
        "Accuracy on training data: 0.94\n",
        "model_ 3\n",
        "Accuracy: 92.44%\n",
        "Accuracy on training data: 0.94\n",
        "model_ 4\n",
        "Accuracy: 93.66%\n",
        "Accuracy on training data: 0.94\n",
        "model_ 5\n",
        "Accuracy: 94.63%\n",
        "Accuracy on training data: 0.93\n",
        "model_ 6\n",
        "Accuracy: 90.73%\n",
        "Accuracy on training data: 0.96\n",
        "model_ 7\n",
        "Accuracy: 89.02%\n",
        "Accuracy on training data: 0.98\n",
        "model_ 8\n",
        "Accuracy: 90.73%\n",
        "Accuracy on training data: 0.96\n",
        "model_ 9\n",
        "Accuracy: 92.20%\n",
        "Accuracy on training data: 0.95\n",
        "model_ 10\n",
        "Accuracy: 92.44%\n",
        "Accuracy on training data: 0.96\n"
       ]
      }
     ],
     "prompt_number": 786
    },
    {
     "cell_type": "markdown",
     "metadata": {},
     "source": [
      "Results on the entire dataset:"
     ]
    },
    {
     "cell_type": "code",
     "collapsed": false,
     "input": [
      "pd.crosstab(y, models['model_5'].predict(X), rownames=[\"Actual\"], colnames=[\"Predicted\"])"
     ],
     "language": "python",
     "metadata": {},
     "outputs": [
      {
       "html": [
        "<div style=\"max-height:1000px;max-width:1500px;overflow:auto;\">\n",
        "<table border=\"1\" class=\"dataframe\">\n",
        "  <thead>\n",
        "    <tr style=\"text-align: right;\">\n",
        "      <th>Predicted</th>\n",
        "      <th>0</th>\n",
        "      <th>1</th>\n",
        "    </tr>\n",
        "    <tr>\n",
        "      <th>Actual</th>\n",
        "      <th></th>\n",
        "      <th></th>\n",
        "    </tr>\n",
        "  </thead>\n",
        "  <tbody>\n",
        "    <tr>\n",
        "      <th>0</th>\n",
        "      <td> 376</td>\n",
        "      <td>  34</td>\n",
        "    </tr>\n",
        "    <tr>\n",
        "      <th>1</th>\n",
        "      <td>  17</td>\n",
        "      <td> 393</td>\n",
        "    </tr>\n",
        "  </tbody>\n",
        "</table>\n",
        "</div>"
       ],
       "metadata": {},
       "output_type": "pyout",
       "prompt_number": 798,
       "text": [
        "Predicted    0    1\n",
        "Actual             \n",
        "0          376   34\n",
        "1           17  393"
       ]
      }
     ],
     "prompt_number": 798
    },
    {
     "cell_type": "code",
     "collapsed": false,
     "input": [
      "pd.crosstab(y_test, models['model_5'].predict(X_test), rownames=[\"Actual\"], colnames=[\"Predicted\"])"
     ],
     "language": "python",
     "metadata": {},
     "outputs": [
      {
       "html": [
        "<div style=\"max-height:1000px;max-width:1500px;overflow:auto;\">\n",
        "<table border=\"1\" class=\"dataframe\">\n",
        "  <thead>\n",
        "    <tr style=\"text-align: right;\">\n",
        "      <th>Predicted</th>\n",
        "      <th>0</th>\n",
        "      <th>1</th>\n",
        "    </tr>\n",
        "    <tr>\n",
        "      <th>Actual</th>\n",
        "      <th></th>\n",
        "      <th></th>\n",
        "    </tr>\n",
        "  </thead>\n",
        "  <tbody>\n",
        "    <tr>\n",
        "      <th>0</th>\n",
        "      <td> 185</td>\n",
        "      <td>  20</td>\n",
        "    </tr>\n",
        "    <tr>\n",
        "      <th>1</th>\n",
        "      <td>  10</td>\n",
        "      <td> 195</td>\n",
        "    </tr>\n",
        "  </tbody>\n",
        "</table>\n",
        "</div>"
       ],
       "metadata": {},
       "output_type": "pyout",
       "prompt_number": 799,
       "text": [
        "Predicted    0    1\n",
        "Actual             \n",
        "0          185   20\n",
        "1           10  195"
       ]
      }
     ],
     "prompt_number": 799
    },
    {
     "cell_type": "markdown",
     "metadata": {},
     "source": [
      "As this is a Bayes Classifier we should be able to get sensible probabilities by feeding in individual song names. (Just as we could by feeding in individual tweets). A word is part of a sentence, a song is part of a playlist."
     ]
    },
    {
     "cell_type": "code",
     "collapsed": false,
     "input": [
      "def AnalyzeSong(song, _clf):\n",
      "    anArray = np.zeros(len(dfTest.columns)-1)\n",
      "    found = 0;\n",
      "    \n",
      "    #the song has to be a GD song in the first place\n",
      "    #unlike submitting a playlist we are putting a single '1' in an empty array for a single song.\n",
      "    for i in range(1,len(dfTest.columns)-1):\n",
      "        if song == dfTest.columns[i]:\n",
      "            found = 1\n",
      "            anArray[i] = 1\n",
      "    if found == 1:\n",
      "        print \"\\\"\"  + song + \"\\\" is judged by clasifier to be...\"\n",
      "        if (_clf.predict(anArray) == 0):\n",
      "            print \"Song not from the 1980s playlists\"\n",
      "        else:\n",
      "            print \"Song is from the 1980s playlist\"\n",
      "    else:\n",
      "        print \"Sorry this song is not recognized\""
     ],
     "language": "python",
     "metadata": {},
     "outputs": [],
     "prompt_number": 788
    },
    {
     "cell_type": "code",
     "collapsed": false,
     "input": [
      "model_pick = models['model_5']"
     ],
     "language": "python",
     "metadata": {},
     "outputs": [],
     "prompt_number": 805
    },
    {
     "cell_type": "code",
     "collapsed": false,
     "input": [
      "AnalyzeSong(\"wicked messenger\", model_pick)"
     ],
     "language": "python",
     "metadata": {},
     "outputs": [
      {
       "output_type": "stream",
       "stream": "stdout",
       "text": [
        "\"wicked messenger\" is judged by clasifier to be...\n",
        "Song not from the 1980s playlists\n"
       ]
      }
     ],
     "prompt_number": 806
    },
    {
     "cell_type": "code",
     "collapsed": false,
     "input": [
      "AnalyzeSong(\"althea\", model_pick)"
     ],
     "language": "python",
     "metadata": {},
     "outputs": [
      {
       "output_type": "stream",
       "stream": "stdout",
       "text": [
        "\"althea\" is judged by clasifier to be...\n",
        "Song is from the 1980s playlist\n"
       ]
      }
     ],
     "prompt_number": 790
    },
    {
     "cell_type": "code",
     "collapsed": false,
     "input": [
      "AnalyzeSong(\"all along the watchtower\", model_pick)"
     ],
     "language": "python",
     "metadata": {},
     "outputs": [
      {
       "output_type": "stream",
       "stream": "stdout",
       "text": [
        "\"all along the watchtower\" is judged by clasifier to be...\n",
        "Song not from the 1980s playlists\n"
       ]
      }
     ],
     "prompt_number": 791
    },
    {
     "cell_type": "code",
     "collapsed": false,
     "input": [
      "AnalyzeSong(\"sugaree\", model_pick)"
     ],
     "language": "python",
     "metadata": {},
     "outputs": [
      {
       "output_type": "stream",
       "stream": "stdout",
       "text": [
        "\"sugaree\" is judged by clasifier to be...\n",
        "Song not from the 1980s playlists\n"
       ]
      }
     ],
     "prompt_number": 792
    },
    {
     "cell_type": "code",
     "collapsed": false,
     "input": [
      "AnalyzeSong(\"space\", model_pick)"
     ],
     "language": "python",
     "metadata": {},
     "outputs": [
      {
       "output_type": "stream",
       "stream": "stdout",
       "text": [
        "\"space\" is judged by clasifier to be...\n",
        "Song not from the 1980s playlists\n"
       ]
      }
     ],
     "prompt_number": 793
    },
    {
     "cell_type": "code",
     "collapsed": false,
     "input": [
      "probas_ = model_pick.predict_proba(X_test)"
     ],
     "language": "python",
     "metadata": {},
     "outputs": [],
     "prompt_number": 807
    },
    {
     "cell_type": "markdown",
     "metadata": {},
     "source": [
      "#### Check out the ROC"
     ]
    },
    {
     "cell_type": "code",
     "collapsed": false,
     "input": [
      "false_pos_rate, true_pos_rate, thresholds = roc_curve(y_test, probas_[:, 1])\n",
      "roc_auc = auc(false_pos_rate, true_pos_rate)\n",
      "print \"Area under the ROC curve : %f\" % roc_auc"
     ],
     "language": "python",
     "metadata": {},
     "outputs": [
      {
       "output_type": "stream",
       "stream": "stdout",
       "text": [
        "Area under the ROC curve : 0.980916\n"
       ]
      }
     ],
     "prompt_number": 808
    },
    {
     "cell_type": "code",
     "collapsed": false,
     "input": [
      "# Plot ROC curve\n",
      "# setup figure\n",
      "plt.figure(figsize=(10, 8))\n",
      "plt.clf()\n",
      "plt.plot(false_pos_rate, true_pos_rate, label='ROC curve (area = %0.2f)' % roc_auc)\n",
      "plt.plot([0, 1], [0, 1], 'k--')\n",
      "plt.xlim([0.0, 1.0])\n",
      "plt.ylim([0.0, 1.0])\n",
      "plt.xlabel('False Positive Rate')\n",
      "plt.ylabel('True Positive Rate')\n",
      "plt.title('Receiver Operating Characteristic for Multinomial Naive Bayes')\n",
      "plt.legend(loc=\"lower right\")\n",
      "plt.show()"
     ],
     "language": "python",
     "metadata": {},
     "outputs": [
      {
       "metadata": {},
       "output_type": "display_data",
       "png": "[encoded data removed]",
       "text": [
        "<matplotlib.figure.Figure at 0x11323c4d0>"
       ]
      }
     ],
     "prompt_number": 801
    },
    {
     "cell_type": "markdown",
     "metadata": {},
     "source": [
      "###MULTI-CLASS LOGISTIC REGRESSION###"
     ]
    },
    {
     "cell_type": "markdown",
     "metadata": {},
     "source": [
      "We have 3 decades - 1970s, 1980s, 1990s\n",
      "Relabel the Years encoding 0 for 1970s, 1 for 1980s, and 2 for 1990s"
     ]
    },
    {
     "cell_type": "code",
     "collapsed": false,
     "input": [
      "print (dfTestD[\"zYEAR\"] < 1980).sum()\n",
      "print ((dfTestD[\"zYEAR\"] < 1990) & (dfTestD[\"zYEAR\"] > 1979)).sum()\n",
      "print (dfTestD[\"zYEAR\"] > 1989).sum()\n",
      "print len(dfTestD[\"zYEAR\"])"
     ],
     "language": "python",
     "metadata": {},
     "outputs": [
      {
       "output_type": "stream",
       "stream": "stdout",
       "text": [
        "462\n",
        "722\n",
        "205\n",
        "1389\n"
       ]
      }
     ],
     "prompt_number": 819
    },
    {
     "cell_type": "code",
     "collapsed": false,
     "input": [
      "indices = np.where(dfTestD['zYEAR'] < 1980)[0]\n",
      "print len(indices)"
     ],
     "language": "python",
     "metadata": {},
     "outputs": [
      {
       "output_type": "stream",
       "stream": "stdout",
       "text": [
        "462\n"
       ]
      }
     ],
     "prompt_number": 820
    },
    {
     "cell_type": "code",
     "collapsed": false,
     "input": [
      "r = np.random.RandomState(34)\n",
      "r.shuffle(indices)"
     ],
     "language": "python",
     "metadata": {},
     "outputs": [],
     "prompt_number": 821
    },
    {
     "cell_type": "code",
     "collapsed": false,
     "input": [
      "dfTestD = dfTestD.drop(dfTestD.index[indices[205:]])"
     ],
     "language": "python",
     "metadata": {},
     "outputs": [],
     "prompt_number": 822
    },
    {
     "cell_type": "code",
     "collapsed": false,
     "input": [
      "indices = np.where(dfTestD['zYEAR'] < 1980)[0]\n",
      "print len(indices)"
     ],
     "language": "python",
     "metadata": {},
     "outputs": [
      {
       "output_type": "stream",
       "stream": "stdout",
       "text": [
        "205\n"
       ]
      }
     ],
     "prompt_number": 823
    },
    {
     "cell_type": "code",
     "collapsed": false,
     "input": [
      "indices = np.where((dfTestD['zYEAR'] < 1990) & (dfTestD['zYEAR'] > 1979))[0]\n",
      "print len(indices)"
     ],
     "language": "python",
     "metadata": {},
     "outputs": [
      {
       "output_type": "stream",
       "stream": "stdout",
       "text": [
        "722\n"
       ]
      }
     ],
     "prompt_number": 824
    },
    {
     "cell_type": "code",
     "collapsed": false,
     "input": [
      "r = np.random.RandomState(65)\n",
      "r.shuffle(indices)"
     ],
     "language": "python",
     "metadata": {},
     "outputs": [],
     "prompt_number": 825
    },
    {
     "cell_type": "code",
     "collapsed": false,
     "input": [
      "dfTestD = dfTestD.drop(dfTestD.index[indices[205:]])"
     ],
     "language": "python",
     "metadata": {},
     "outputs": [],
     "prompt_number": 826
    },
    {
     "cell_type": "code",
     "collapsed": false,
     "input": [
      "indices = np.where((dfTestD['zYEAR'] < 1990) & (dfTestD['zYEAR'] > 1979))[0]\n",
      "print len(indices)"
     ],
     "language": "python",
     "metadata": {},
     "outputs": [
      {
       "output_type": "stream",
       "stream": "stdout",
       "text": [
        "205\n"
       ]
      }
     ],
     "prompt_number": 827
    },
    {
     "cell_type": "markdown",
     "metadata": {},
     "source": [
      "Reduce each class to having 205 samples. \n",
      "\n",
      "Downsample the 1970s from 462 to 205, and the 1980s from 722 to 205"
     ]
    },
    {
     "cell_type": "code",
     "collapsed": false,
     "input": [
      "Years = np.array(dfTestD[\"zYEAR\"])\n",
      "Ylr = np.zeros((len(dfTestD[\"zYEAR\"]), 1))"
     ],
     "language": "python",
     "metadata": {},
     "outputs": [],
     "prompt_number": 871
    },
    {
     "cell_type": "code",
     "collapsed": false,
     "input": [
      "for i in range(0, len(dfTestD[\"zYEAR\"])):\n",
      "    if Years[i] < 1980:\n",
      "        Ylr[i] = 0\n",
      "    else:\n",
      "        if Years[i] < 1990:\n",
      "            Ylr[i] = 1\n",
      "        else:\n",
      "            Ylr[i] = 2"
     ],
     "language": "python",
     "metadata": {},
     "outputs": [],
     "prompt_number": 872
    },
    {
     "cell_type": "code",
     "collapsed": false,
     "input": [
      "print Ylr.shape\n",
      "hh = Ylr.reshape(-1)\n",
      "print hh.shape\n",
      "#for i in range(0, len(Ylr)):\n",
      "    #print i, Ylr[i], Years[i]"
     ],
     "language": "python",
     "metadata": {},
     "outputs": [
      {
       "output_type": "stream",
       "stream": "stdout",
       "text": [
        "(615, 1)\n",
        "(615,)\n"
       ]
      }
     ],
     "prompt_number": 873
    },
    {
     "cell_type": "code",
     "collapsed": false,
     "input": [
      "theCols = dfTestD.columns\n",
      "theCols = theCols[:-1]\n",
      "X = dfTestD.as_matrix(columns = theCols)"
     ],
     "language": "python",
     "metadata": {},
     "outputs": [],
     "prompt_number": 874
    },
    {
     "cell_type": "code",
     "collapsed": false,
     "input": [
      "reg=10000\n",
      "y = Ylr.reshape(-1)\n",
      "sss = StratifiedShuffleSplit(y, 10, test_size=0.5, random_state=32)     \n",
      "models = {}\n",
      "count = 1\n",
      "for train_index, test_index in sss:\n",
      "    indexName = \"LRmodel_\" + str(count) \n",
      "    #print(\"TRAIN:\", train_index, \"TEST:\", test_index)\n",
      "    X_train, X_test = X[train_index], X[test_index]\n",
      "    y_train, y_test = y[train_index], y[test_index]    \n",
      "    clf_lr = LogisticRegression(C=reg).fit(X_train, y_train)\n",
      "    print \"LR-model_\", count\n",
      "    accuracy_report(clf_lr, X_train, y_train, X_test, y_test)\n",
      "    models[indexName] = clf_lr\n",
      "    count = count + 1"
     ],
     "language": "python",
     "metadata": {},
     "outputs": [
      {
       "output_type": "stream",
       "stream": "stdout",
       "text": [
        "LR-model_ 1\n",
        "Accuracy: 86.08%\n",
        "Accuracy on training data: 1.00\n",
        "LR-model_ 2\n",
        "Accuracy: 87.06%\n",
        "Accuracy on training data: 1.00\n",
        "LR-model_ 3\n",
        "Accuracy: 88.03%\n",
        "Accuracy on training data: 1.00\n",
        "LR-model_ 4\n",
        "Accuracy: 87.06%\n",
        "Accuracy on training data: 1.00\n",
        "LR-model_ 5\n",
        "Accuracy: 87.70%\n",
        "Accuracy on training data: 1.00"
       ]
      },
      {
       "output_type": "stream",
       "stream": "stdout",
       "text": [
        "\n",
        "LR-model_ 6\n",
        "Accuracy: 87.38%\n",
        "Accuracy on training data: 1.00\n",
        "LR-model_ 7\n",
        "Accuracy: 84.47%\n",
        "Accuracy on training data: 1.00\n",
        "LR-model_ 8\n",
        "Accuracy: 86.41%\n",
        "Accuracy on training data: 1.00\n",
        "LR-model_ 9\n",
        "Accuracy: 89.64%\n",
        "Accuracy on training data: 1.00\n",
        "LR-model_"
       ]
      },
      {
       "output_type": "stream",
       "stream": "stdout",
       "text": [
        " 10\n",
        "Accuracy: 88.03%\n",
        "Accuracy on training data: 1.00\n"
       ]
      }
     ],
     "prompt_number": 875
    },
    {
     "cell_type": "code",
     "collapsed": false,
     "input": [
      "model_pick = models['LRmodel_9']"
     ],
     "language": "python",
     "metadata": {},
     "outputs": [],
     "prompt_number": 836
    },
    {
     "cell_type": "code",
     "collapsed": false,
     "input": [
      "pd.crosstab(Ylr.reshape(-1), model_pick.predict(X), rownames=[\"Actual\"], colnames=[\"Predicted\"])"
     ],
     "language": "python",
     "metadata": {},
     "outputs": [
      {
       "html": [
        "<div style=\"max-height:1000px;max-width:1500px;overflow:auto;\">\n",
        "<table border=\"1\" class=\"dataframe\">\n",
        "  <thead>\n",
        "    <tr style=\"text-align: right;\">\n",
        "      <th>Predicted</th>\n",
        "      <th>0.0</th>\n",
        "      <th>1.0</th>\n",
        "      <th>2.0</th>\n",
        "    </tr>\n",
        "    <tr>\n",
        "      <th>Actual</th>\n",
        "      <th></th>\n",
        "      <th></th>\n",
        "      <th></th>\n",
        "    </tr>\n",
        "  </thead>\n",
        "  <tbody>\n",
        "    <tr>\n",
        "      <th>0</th>\n",
        "      <td> 200</td>\n",
        "      <td>   5</td>\n",
        "      <td>   0</td>\n",
        "    </tr>\n",
        "    <tr>\n",
        "      <th>1</th>\n",
        "      <td>   5</td>\n",
        "      <td> 194</td>\n",
        "      <td>   6</td>\n",
        "    </tr>\n",
        "    <tr>\n",
        "      <th>2</th>\n",
        "      <td>   0</td>\n",
        "      <td>  17</td>\n",
        "      <td> 188</td>\n",
        "    </tr>\n",
        "  </tbody>\n",
        "</table>\n",
        "</div>"
       ],
       "metadata": {},
       "output_type": "pyout",
       "prompt_number": 837,
       "text": [
        "Predicted    0    1    2\n",
        "Actual                  \n",
        "0          200    5    0\n",
        "1            5  194    6\n",
        "2            0   17  188"
       ]
      }
     ],
     "prompt_number": 837
    },
    {
     "cell_type": "code",
     "collapsed": false,
     "input": [
      "pd.crosstab(y_test, model_pick.predict(X_test), rownames=[\"Actual\"], colnames=[\"Predicted\"])"
     ],
     "language": "python",
     "metadata": {},
     "outputs": [
      {
       "html": [
        "<div style=\"max-height:1000px;max-width:1500px;overflow:auto;\">\n",
        "<table border=\"1\" class=\"dataframe\">\n",
        "  <thead>\n",
        "    <tr style=\"text-align: right;\">\n",
        "      <th>Predicted</th>\n",
        "      <th>0.0</th>\n",
        "      <th>1.0</th>\n",
        "      <th>2.0</th>\n",
        "    </tr>\n",
        "    <tr>\n",
        "      <th>Actual</th>\n",
        "      <th></th>\n",
        "      <th></th>\n",
        "      <th></th>\n",
        "    </tr>\n",
        "  </thead>\n",
        "  <tbody>\n",
        "    <tr>\n",
        "      <th>0</th>\n",
        "      <td> 102</td>\n",
        "      <td>  1</td>\n",
        "      <td>  0</td>\n",
        "    </tr>\n",
        "    <tr>\n",
        "      <th>1</th>\n",
        "      <td>   2</td>\n",
        "      <td> 97</td>\n",
        "      <td>  4</td>\n",
        "    </tr>\n",
        "    <tr>\n",
        "      <th>2</th>\n",
        "      <td>   0</td>\n",
        "      <td>  7</td>\n",
        "      <td> 96</td>\n",
        "    </tr>\n",
        "  </tbody>\n",
        "</table>\n",
        "</div>"
       ],
       "metadata": {},
       "output_type": "pyout",
       "prompt_number": 838,
       "text": [
        "Predicted    0   1   2\n",
        "Actual                \n",
        "0          102   1   0\n",
        "1            2  97   4\n",
        "2            0   7  96"
       ]
      }
     ],
     "prompt_number": 838
    },
    {
     "cell_type": "markdown",
     "metadata": {},
     "source": [
      "####Although this works well as a 3 class classifier, it cannot be used to classify individual songs (as was done for the Bayes classifier). To work as a classifier requires an entire playlist as input."
     ]
    },
    {
     "cell_type": "markdown",
     "metadata": {},
     "source": [
      "##Multi-class Naive Bayes"
     ]
    },
    {
     "cell_type": "code",
     "collapsed": false,
     "input": [
      "def AnalyzeSongLR(song, _clf):\n",
      "    anArray = np.zeros(len(dfTestD.columns)-1)\n",
      "    found = 0;\n",
      "    \n",
      "    for i in range(0,len(dfTestD.columns)-1):\n",
      "        if song == dfTestD.columns[i]:\n",
      "            found = 1\n",
      "            anArray[i] = 1\n",
      "            \n",
      "    if found == 1:\n",
      "        print _clf.predict(anArray)\n",
      "        print _clf.predict_proba(anArray)\n",
      "        print \"\\\"\"  + song + \"\\\" is judged by clasifier to be...\"\n",
      "        if (_clf.predict(anArray) == 0):\n",
      "            print \"Song is from the 1970s playlist\"\n",
      "        else:\n",
      "            if (_clf.predict(anArray) == 1):\n",
      "                print \"Song is from the 1980s playlist\"\n",
      "            else:\n",
      "                if(_clf.predict(anArray) == 2):\n",
      "                    print \"Song is from the 1990s playlist\"\n",
      "        \n",
      "    else:\n",
      "        print \"Sorry this song is not recognized\""
     ],
     "language": "python",
     "metadata": {},
     "outputs": [],
     "prompt_number": 877
    },
    {
     "cell_type": "code",
     "collapsed": false,
     "input": [
      "sss = StratifiedShuffleSplit(y, 10, test_size=0.5, random_state=5)     \n",
      "models = {}\n",
      "count = 1\n",
      "for train_index, test_index in sss:\n",
      "    indexName = \"MN_MC_model_\" + str(count) \n",
      "    X_train, X_test = X[train_index], X[test_index]\n",
      "    y_train, y_test = y[train_index], y[test_index]\n",
      "    clf_mn_mc = MultinomialNB().fit(X_train, y_train)\n",
      "    print \"MN_MC_model_\", count\n",
      "    accuracy_report(clf_mn_mc, X_train, y_train, X_test, y_test)\n",
      "    models[indexName] = clf_mn_mc\n",
      "    count = count + 1"
     ],
     "language": "python",
     "metadata": {},
     "outputs": [
      {
       "output_type": "stream",
       "stream": "stdout",
       "text": [
        "MN_MC_model_ 1\n",
        "Accuracy: 91.91%\n",
        "Accuracy on training data: 0.94\n",
        "MN_MC_model_ 2\n",
        "Accuracy: 94.82%\n",
        "Accuracy on training data: 0.94\n",
        "MN_MC_model_ 3\n",
        "Accuracy: 91.59%\n",
        "Accuracy on training data: 0.94\n",
        "MN_MC_model_ 4\n",
        "Accuracy: 90.61%\n",
        "Accuracy on training data: 0.96\n",
        "MN_MC_model_ 5\n",
        "Accuracy: 92.23%\n",
        "Accuracy on training data: 0.95\n",
        "MN_MC_model_ 6\n",
        "Accuracy: 92.56%\n",
        "Accuracy on training data: 0.95\n",
        "MN_MC_model_ 7\n",
        "Accuracy: 91.26%\n",
        "Accuracy on training data: 0.94\n",
        "MN_MC_model_ 8\n",
        "Accuracy: 90.29%\n",
        "Accuracy on training data: 0.95\n",
        "MN_MC_model_ 9\n",
        "Accuracy: 90.61%\n",
        "Accuracy on training data: 0.94\n",
        "MN_MC_model_ 10\n",
        "Accuracy: 88.67%\n",
        "Accuracy on training data: 0.96\n"
       ]
      }
     ],
     "prompt_number": 843
    },
    {
     "cell_type": "code",
     "collapsed": false,
     "input": [
      "model_pick_MN_MC = models['MN_MC_model_2']"
     ],
     "language": "python",
     "metadata": {},
     "outputs": [],
     "prompt_number": 846
    },
    {
     "cell_type": "code",
     "collapsed": false,
     "input": [
      "pd.crosstab(Ymc.reshape(-1), model_pick_MN_MC.predict(X), rownames=[\"Actual\"], colnames=[\"Predicted\"])"
     ],
     "language": "python",
     "metadata": {},
     "outputs": [
      {
       "html": [
        "<div style=\"max-height:1000px;max-width:1500px;overflow:auto;\">\n",
        "<table border=\"1\" class=\"dataframe\">\n",
        "  <thead>\n",
        "    <tr style=\"text-align: right;\">\n",
        "      <th>Predicted</th>\n",
        "      <th>0.0</th>\n",
        "      <th>1.0</th>\n",
        "      <th>2.0</th>\n",
        "    </tr>\n",
        "    <tr>\n",
        "      <th>Actual</th>\n",
        "      <th></th>\n",
        "      <th></th>\n",
        "      <th></th>\n",
        "    </tr>\n",
        "  </thead>\n",
        "  <tbody>\n",
        "    <tr>\n",
        "      <th>0</th>\n",
        "      <td> 205</td>\n",
        "      <td>   0</td>\n",
        "      <td>   0</td>\n",
        "    </tr>\n",
        "    <tr>\n",
        "      <th>1</th>\n",
        "      <td>   6</td>\n",
        "      <td> 180</td>\n",
        "      <td>  19</td>\n",
        "    </tr>\n",
        "    <tr>\n",
        "      <th>2</th>\n",
        "      <td>   0</td>\n",
        "      <td>  10</td>\n",
        "      <td> 195</td>\n",
        "    </tr>\n",
        "  </tbody>\n",
        "</table>\n",
        "</div>"
       ],
       "metadata": {},
       "output_type": "pyout",
       "prompt_number": 847,
       "text": [
        "Predicted    0    1    2\n",
        "Actual                  \n",
        "0          205    0    0\n",
        "1            6  180   19\n",
        "2            0   10  195"
       ]
      }
     ],
     "prompt_number": 847
    },
    {
     "cell_type": "code",
     "collapsed": false,
     "input": [
      "pd.crosstab(y_test, model_pick_MN_MC.predict(X_test), rownames=[\"Actual\"], colnames=[\"Predicted\"])"
     ],
     "language": "python",
     "metadata": {},
     "outputs": [
      {
       "html": [
        "<div style=\"max-height:1000px;max-width:1500px;overflow:auto;\">\n",
        "<table border=\"1\" class=\"dataframe\">\n",
        "  <thead>\n",
        "    <tr style=\"text-align: right;\">\n",
        "      <th>Predicted</th>\n",
        "      <th>0.0</th>\n",
        "      <th>1.0</th>\n",
        "      <th>2.0</th>\n",
        "    </tr>\n",
        "    <tr>\n",
        "      <th>Actual</th>\n",
        "      <th></th>\n",
        "      <th></th>\n",
        "      <th></th>\n",
        "    </tr>\n",
        "  </thead>\n",
        "  <tbody>\n",
        "    <tr>\n",
        "      <th>0</th>\n",
        "      <td> 103</td>\n",
        "      <td>  0</td>\n",
        "      <td>  0</td>\n",
        "    </tr>\n",
        "    <tr>\n",
        "      <th>1</th>\n",
        "      <td>   3</td>\n",
        "      <td> 87</td>\n",
        "      <td> 13</td>\n",
        "    </tr>\n",
        "    <tr>\n",
        "      <th>2</th>\n",
        "      <td>   0</td>\n",
        "      <td>  5</td>\n",
        "      <td> 98</td>\n",
        "    </tr>\n",
        "  </tbody>\n",
        "</table>\n",
        "</div>"
       ],
       "metadata": {},
       "output_type": "pyout",
       "prompt_number": 849,
       "text": [
        "Predicted    0   1   2\n",
        "Actual                \n",
        "0          103   0   0\n",
        "1            3  87  13\n",
        "2            0   5  98"
       ]
      }
     ],
     "prompt_number": 849
    },
    {
     "cell_type": "code",
     "collapsed": false,
     "input": [
      "AnalyzeSongLR(\"wicked messenger\", model_pick_MN_MC)"
     ],
     "language": "python",
     "metadata": {},
     "outputs": [
      {
       "output_type": "stream",
       "stream": "stdout",
       "text": [
        "[ 2.]\n",
        "[[ 0.31995307  0.33242767  0.34761926]]\n",
        "\"wicked messenger\" is judged by clasifier to be...\n",
        "Song is from the 1990s playlist\n"
       ]
      }
     ],
     "prompt_number": 878
    },
    {
     "cell_type": "code",
     "collapsed": false,
     "input": [
      "AnalyzeSongLR(\"aint superstitious\", model_pick_MN_MC)"
     ],
     "language": "python",
     "metadata": {},
     "outputs": [
      {
       "output_type": "stream",
       "stream": "stdout",
       "text": [
        "[ 1.]\n",
        "[[ 0.16019416  0.66575977  0.17404607]]\n",
        "\"aint superstitious\" is judged by clasifier to be...\n",
        "Song is from the 1980s playlist\n"
       ]
      }
     ],
     "prompt_number": 879
    },
    {
     "cell_type": "code",
     "collapsed": false,
     "input": [
      "AnalyzeSongLR(\"dark star\", model_pick_MN_MC)"
     ],
     "language": "python",
     "metadata": {},
     "outputs": [
      {
       "output_type": "stream",
       "stream": "stdout",
       "text": [
        "[ 2.]\n",
        "[[ 0.38164907  0.07930583  0.53904511]]\n",
        "\"dark star\" is judged by clasifier to be...\n",
        "Song is from the 1990s playlist\n"
       ]
      }
     ],
     "prompt_number": 880
    },
    {
     "cell_type": "code",
     "collapsed": false,
     "input": [
      "AnalyzeSongLR(\"space\", model_pick_MN_MC)"
     ],
     "language": "python",
     "metadata": {},
     "outputs": [
      {
       "output_type": "stream",
       "stream": "stdout",
       "text": [
        "[ 2.]\n",
        "[[ 0.01336319  0.0138842   0.97275261]]\n",
        "\"space\" is judged by clasifier to be...\n",
        "Song is from the 1990s playlist\n"
       ]
      }
     ],
     "prompt_number": 881
    },
    {
     "cell_type": "code",
     "collapsed": false,
     "input": [
      "AnalyzeSongLR(\"althea\", model_pick_MN_MC)"
     ],
     "language": "python",
     "metadata": {},
     "outputs": [
      {
       "output_type": "stream",
       "stream": "stdout",
       "text": [
        "[ 1.]\n",
        "[[ 0.09134988  0.53150444  0.37714568]]\n",
        "\"althea\" is judged by clasifier to be...\n",
        "Song is from the 1980s playlist\n"
       ]
      }
     ],
     "prompt_number": 882
    },
    {
     "cell_type": "code",
     "collapsed": false,
     "input": [
      "AnalyzeSongLR(\"valley road\", model_pick_MN_MC)"
     ],
     "language": "python",
     "metadata": {},
     "outputs": [
      {
       "output_type": "stream",
       "stream": "stdout",
       "text": [
        "[ 2.]\n",
        "[[ 0.15662033  0.16272678  0.68065288]]\n",
        "\"valley road\" is judged by clasifier to be...\n",
        "Song is from the 1990s playlist\n"
       ]
      }
     ],
     "prompt_number": 883
    },
    {
     "cell_type": "code",
     "collapsed": false,
     "input": [
      "AnalyzeSongLR(\"all along the watchtower\", model_pick_MN_MC)"
     ],
     "language": "python",
     "metadata": {},
     "outputs": [
      {
       "output_type": "stream",
       "stream": "stdout",
       "text": [
        "[ 2.]\n",
        "[[ 0.0284113   0.35422835  0.61736034]]\n",
        "\"all along the watchtower\" is judged by clasifier to be...\n",
        "Song is from the 1990s playlist\n"
       ]
      }
     ],
     "prompt_number": 884
    },
    {
     "cell_type": "code",
     "collapsed": false,
     "input": [
      "AnalyzeSongLR(\"sugaree\", model_pick_MN_MC)"
     ],
     "language": "python",
     "metadata": {},
     "outputs": [
      {
       "output_type": "stream",
       "stream": "stdout",
       "text": [
        "[ 0.]\n",
        "[[ 0.50582833  0.262775    0.23139666]]\n",
        "\"sugaree\" is judged by clasifier to be...\n",
        "Song is from the 1970s playlist\n"
       ]
      }
     ],
     "prompt_number": 885
    },
    {
     "cell_type": "code",
     "collapsed": false,
     "input": [
      "AnalyzeSongLR(\"drums\", model_pick_MN_MC)"
     ],
     "language": "python",
     "metadata": {},
     "outputs": [
      {
       "output_type": "stream",
       "stream": "stdout",
       "text": [
        "[ 2.]\n",
        "[[ 0.22152096  0.37864671  0.39983233]]\n",
        "\"drums\" is judged by clasifier to be...\n",
        "Song is from the 1990s playlist\n"
       ]
      }
     ],
     "prompt_number": 886
    },
    {
     "cell_type": "code",
     "collapsed": false,
     "input": [
      "AnalyzeSongLR(\"so many roads\", model_pick_MN_MC)"
     ],
     "language": "python",
     "metadata": {},
     "outputs": [
      {
       "output_type": "stream",
       "stream": "stdout",
       "text": [
        "[ 2.]\n",
        "[[ 0.07749725  0.08051878  0.84198398]]\n",
        "\"so many roads\" is judged by clasifier to be...\n",
        "Song is from the 1990s playlist\n"
       ]
      }
     ],
     "prompt_number": 887
    },
    {
     "cell_type": "code",
     "collapsed": false,
     "input": [
      "AnalyzeSongLR(\"box of rain\", model_pick_MN_MC)"
     ],
     "language": "python",
     "metadata": {},
     "outputs": [
      {
       "output_type": "stream",
       "stream": "stdout",
       "text": [
        "[ 2.]\n",
        "[[ 0.20570646  0.34730593  0.44698761]]\n",
        "\"box of rain\" is judged by clasifier to be...\n",
        "Song is from the 1990s playlist\n"
       ]
      }
     ],
     "prompt_number": 888
    },
    {
     "cell_type": "code",
     "collapsed": false,
     "input": [
      "AnalyzeSongLR(\"friend of the devil\", model_pick_MN_MC)"
     ],
     "language": "python",
     "metadata": {},
     "outputs": [
      {
       "output_type": "stream",
       "stream": "stdout",
       "text": [
        "[ 0.]\n",
        "[[ 0.44636354  0.34278412  0.21085234]]\n",
        "\"friend of the devil\" is judged by clasifier to be...\n",
        "Song is from the 1970s playlist\n"
       ]
      }
     ],
     "prompt_number": 889
    },
    {
     "cell_type": "code",
     "collapsed": false,
     "input": [
      "AnalyzeSongLR(\"uncle johns band\", model_pick_MN_MC)"
     ],
     "language": "python",
     "metadata": {},
     "outputs": [
      {
       "output_type": "stream",
       "stream": "stdout",
       "text": [
        "[ 2.]\n",
        "[[ 0.24937211  0.28264892  0.46797898]]\n",
        "\"uncle johns band\" is judged by clasifier to be...\n",
        "Song is from the 1990s playlist\n"
       ]
      }
     ],
     "prompt_number": 890
    },
    {
     "cell_type": "code",
     "collapsed": false,
     "input": [
      "AnalyzeSongLR(\"brokedown palace\", model_pick_MN_MC)"
     ],
     "language": "python",
     "metadata": {},
     "outputs": [
      {
       "output_type": "stream",
       "stream": "stdout",
       "text": [
        "[ 1.]\n",
        "[[ 0.12664849  0.46055231  0.41279919]]\n",
        "\"brokedown palace\" is judged by clasifier to be...\n",
        "Song is from the 1980s playlist\n"
       ]
      }
     ],
     "prompt_number": 891
    },
    {
     "cell_type": "code",
     "collapsed": false,
     "input": [
      "AnalyzeSongLR(\"cumberland blues\", model_pick_MN_MC)"
     ],
     "language": "python",
     "metadata": {},
     "outputs": [
      {
       "output_type": "stream",
       "stream": "stdout",
       "text": [
        "[ 1.]\n",
        "[[ 0.22821978  0.47423562  0.2975446 ]]\n",
        "\"cumberland blues\" is judged by clasifier to be...\n",
        "Song is from the 1980s playlist\n"
       ]
      }
     ],
     "prompt_number": 892
    },
    {
     "cell_type": "code",
     "collapsed": false,
     "input": [
      "AnalyzeSongLR(\"dire wolf\",model_pick_MN_MC)"
     ],
     "language": "python",
     "metadata": {},
     "outputs": [
      {
       "output_type": "stream",
       "stream": "stdout",
       "text": [
        "[ 0.]\n",
        "[[ 0.65402627  0.2038578   0.14211592]]\n",
        "\"dire wolf\" is judged by clasifier to be...\n",
        "Song is from the 1970s playlist\n"
       ]
      }
     ],
     "prompt_number": 893
    },
    {
     "cell_type": "code",
     "collapsed": false,
     "input": [
      "AnalyzeSongLR(\"sugar magnolia\", model_pick_MN_MC)"
     ],
     "language": "python",
     "metadata": {},
     "outputs": [
      {
       "output_type": "stream",
       "stream": "stdout",
       "text": [
        "[ 0.]\n",
        "[[ 0.46983099  0.29713427  0.23303474]]\n",
        "\"sugar magnolia\" is judged by clasifier to be...\n",
        "Song is from the 1970s playlist\n"
       ]
      }
     ],
     "prompt_number": 894
    },
    {
     "cell_type": "markdown",
     "metadata": {},
     "source": [
      "##Predicting for a single year - 1987"
     ]
    },
    {
     "cell_type": "code",
     "collapsed": false,
     "input": [
      "for i in range(1972,1993):\n",
      "    print i , (dfTest[\"zYEAR\"] == i).sum()"
     ],
     "language": "python",
     "metadata": {},
     "outputs": [
      {
       "output_type": "stream",
       "stream": "stdout",
       "text": [
        "1972 87\n",
        "1973 73\n",
        "1974 40\n",
        "1975 4\n",
        "1976 41\n",
        "1977 60\n",
        "1978 81\n",
        "1979 76\n",
        "1980 87\n",
        "1981 86\n",
        "1982 63\n",
        "1983 66\n",
        "1984 64\n",
        "1985 71\n",
        "1986 46\n",
        "1987 86\n",
        "1988 80\n",
        "1989 73\n",
        "1990 74\n",
        "1991 77\n",
        "1992 54\n"
       ]
      }
     ],
     "prompt_number": 905
    },
    {
     "cell_type": "markdown",
     "metadata": {},
     "source": [
      "Data volume would be an issue with cross validation. 1975 is a problematic year with only 4 data points. It may also have been that the 4 shows they did in 1987 were all the same, which again, potentially, reduces the number of data points providing information to less than 4. \n",
      "\n",
      "To balance the dataset around 1975 would potentially mean loosing a lot of data. "
     ]
    },
    {
     "cell_type": "markdown",
     "metadata": {},
     "source": [
      "#Data Visualization"
     ]
    },
    {
     "cell_type": "code",
     "collapsed": false,
     "input": [
      "dfTestE.sum(axis=0)[:-1]"
     ],
     "language": "python",
     "metadata": {},
     "outputs": [
      {
       "metadata": {},
       "output_type": "pyout",
       "prompt_number": 926,
       "text": [
        "26 miles                         1\n",
        "a mind to give up livin          1\n",
        "addams family                    2\n",
        "aint superstitious               9\n",
        "alabama getaway                138\n",
        "all along the watchtower        93\n",
        "althea                         239\n",
        "are you lonely for me            1\n",
        "around and around              383\n",
        "around jam                       1\n",
        "attics of my life               11\n",
        "baba oriley                      8\n",
        "baby blue                      121\n",
        "baby what you want me to do      4\n",
        "bad moon rising                  1\n",
        "...\n",
        "west la fadeaway                 127\n",
        "whar rat                         341\n",
        "whats going on                     1\n",
        "when push comes to shove          58\n",
        "where have the heroes gone         1\n",
        "who do you love                    3\n",
        "why dont we do it in the road      7\n",
        "wicked messenger                   1\n",
        "willie and the hand jive           6\n",
        "wrs part 1                        46\n",
        "wrs prelude                       51\n",
        "you aint woman enough             14\n",
        "you win again                     11\n",
        "you wont find me                   1\n",
        "your love at home                  1\n",
        "Length: 355, dtype: float64"
       ]
      }
     ],
     "prompt_number": 926
    },
    {
     "cell_type": "code",
     "collapsed": false,
     "input": [
      "dff = dfTestE.sum(axis=0)[:-1]"
     ],
     "language": "python",
     "metadata": {},
     "outputs": [],
     "prompt_number": 1052
    },
    {
     "cell_type": "code",
     "collapsed": false,
     "input": [
      "inds = dff.values > 200"
     ],
     "language": "python",
     "metadata": {},
     "outputs": [],
     "prompt_number": 1078
    },
    {
     "cell_type": "code",
     "collapsed": false,
     "input": [
      "len(dff[inds])"
     ],
     "language": "python",
     "metadata": {},
     "outputs": [
      {
       "metadata": {},
       "output_type": "pyout",
       "prompt_number": 1079,
       "text": [
        "59"
       ]
      }
     ],
     "prompt_number": 1079
    },
    {
     "cell_type": "code",
     "collapsed": false,
     "input": [
      "dffDF = pd.DataFrame(dff[inds])"
     ],
     "language": "python",
     "metadata": {},
     "outputs": [],
     "prompt_number": 1080
    },
    {
     "cell_type": "code",
     "collapsed": false,
     "input": [
      "dffDF.plot(kind=\"bar\", figsize=(15,5), ylim=(100, 1200), title=\"Most Played Songs (Starting frequency 100 times)\")"
     ],
     "language": "python",
     "metadata": {},
     "outputs": [
      {
       "metadata": {},
       "output_type": "pyout",
       "prompt_number": 1089,
       "text": [
        "<matplotlib.axes._subplots.AxesSubplot at 0x138368a10>"
       ]
      },
      {
       "metadata": {},
       "output_type": "display_data",
       "png": "[encoded data removed]",
       "text": [
        "<matplotlib.figure.Figure at 0x138342d90>"
       ]
      }
     ],
     "prompt_number": 1089
    },
    {
     "cell_type": "code",
     "collapsed": false,
     "input": [
      "Year = dfTestE[\"zYEAR\"]"
     ],
     "language": "python",
     "metadata": {},
     "outputs": [],
     "prompt_number": 1115
    },
    {
     "cell_type": "code",
     "collapsed": false,
     "input": [
      "cols = dfTestE.columns"
     ],
     "language": "python",
     "metadata": {},
     "outputs": [],
     "prompt_number": 1116
    },
    {
     "cell_type": "code",
     "collapsed": false,
     "input": [
      "dffDF = dfTestE[cols[:-1]]"
     ],
     "language": "python",
     "metadata": {},
     "outputs": [],
     "prompt_number": 1120
    },
    {
     "cell_type": "code",
     "collapsed": false,
     "input": [
      "plt.figure(figsize=(15, 5))\n",
      "plt.scatter(Year, dffDF.sum(axis = 1), color='blue', label=\"Training Temperature Responses\") \n",
      "plt.title(\"Playlists per Year (number of blue dots) & Songs per playlist\")\n",
      "plt.ylabel(\"Number of Songs in Playlist\")\n",
      "plt.xlabel(\"Year\")"
     ],
     "language": "python",
     "metadata": {},
     "outputs": [
      {
       "metadata": {},
       "output_type": "pyout",
       "prompt_number": 1135,
       "text": [
        "<matplotlib.text.Text at 0x141d0e1d0>"
       ]
      },
      {
       "metadata": {},
       "output_type": "display_data",
       "png": "[encoded data removed]",
       "text": [
        "<matplotlib.figure.Figure at 0x141c8ffd0>"
       ]
      }
     ],
     "prompt_number": 1135
    },
    {
     "cell_type": "markdown",
     "metadata": {},
     "source": [
      "Some playlists apparently contained no songs! Just shows the data could still do with some more cleaning!"
     ]
    },
    {
     "cell_type": "code",
     "collapsed": false,
     "input": [
      "def year_grouping(year):\n",
      "    if year < 1980:\n",
      "        return \"70s\"\n",
      "    elif year >= 1980 and year < 1990:\n",
      "        return \"80s\"\n",
      "    elif year >=1990:\n",
      "        return \"90s\"\n",
      "    else:\n",
      "        return np.nan"
     ],
     "language": "python",
     "metadata": {},
     "outputs": [],
     "prompt_number": 1140
    },
    {
     "cell_type": "code",
     "collapsed": false,
     "input": [
      "dfTestE['year_group'] = dfTestE.zYEAR.apply(lambda x: year_grouping(x))\n",
      "dfTestE[['zYEAR', 'year_group']].head(5)"
     ],
     "language": "python",
     "metadata": {},
     "outputs": [
      {
       "html": [
        "<div style=\"max-height:1000px;max-width:1500px;overflow:auto;\">\n",
        "<table border=\"1\" class=\"dataframe\">\n",
        "  <thead>\n",
        "    <tr style=\"text-align: right;\">\n",
        "      <th></th>\n",
        "      <th>zYEAR</th>\n",
        "      <th>year_group</th>\n",
        "    </tr>\n",
        "  </thead>\n",
        "  <tbody>\n",
        "    <tr>\n",
        "      <th>0</th>\n",
        "      <td> 1987</td>\n",
        "      <td> 80s</td>\n",
        "    </tr>\n",
        "    <tr>\n",
        "      <th>1</th>\n",
        "      <td> 1987</td>\n",
        "      <td> 80s</td>\n",
        "    </tr>\n",
        "    <tr>\n",
        "      <th>2</th>\n",
        "      <td> 1982</td>\n",
        "      <td> 80s</td>\n",
        "    </tr>\n",
        "    <tr>\n",
        "      <th>3</th>\n",
        "      <td> 1990</td>\n",
        "      <td> 90s</td>\n",
        "    </tr>\n",
        "    <tr>\n",
        "      <th>4</th>\n",
        "      <td> 1979</td>\n",
        "      <td> 70s</td>\n",
        "    </tr>\n",
        "  </tbody>\n",
        "</table>\n",
        "</div>"
       ],
       "metadata": {},
       "output_type": "pyout",
       "prompt_number": 1144,
       "text": [
        "   zYEAR year_group\n",
        "0   1987        80s\n",
        "1   1987        80s\n",
        "2   1982        80s\n",
        "3   1990        90s\n",
        "4   1979        70s"
       ]
      }
     ],
     "prompt_number": 1144
    },
    {
     "cell_type": "code",
     "collapsed": false,
     "input": [
      "dfTestE.groupby('year_group').sum()"
     ],
     "language": "python",
     "metadata": {},
     "outputs": [
      {
       "html": [
        "<div style=\"max-height:1000px;max-width:1500px;overflow:auto;\">\n",
        "<table border=\"1\" class=\"dataframe\">\n",
        "  <thead>\n",
        "    <tr style=\"text-align: right;\">\n",
        "      <th></th>\n",
        "      <th>26 miles</th>\n",
        "      <th>a mind to give up livin</th>\n",
        "      <th>addams family</th>\n",
        "      <th>aint superstitious</th>\n",
        "      <th>alabama getaway</th>\n",
        "      <th>all along the watchtower</th>\n",
        "      <th>althea</th>\n",
        "      <th>are you lonely for me</th>\n",
        "      <th>around and around</th>\n",
        "      <th>around jam</th>\n",
        "      <th>...</th>\n",
        "      <th>why dont we do it in the road</th>\n",
        "      <th>wicked messenger</th>\n",
        "      <th>willie and the hand jive</th>\n",
        "      <th>wrs part 1</th>\n",
        "      <th>wrs prelude</th>\n",
        "      <th>you aint woman enough</th>\n",
        "      <th>you win again</th>\n",
        "      <th>you wont find me</th>\n",
        "      <th>your love at home</th>\n",
        "      <th>zYEAR</th>\n",
        "    </tr>\n",
        "    <tr>\n",
        "      <th>year_group</th>\n",
        "      <th></th>\n",
        "      <th></th>\n",
        "      <th></th>\n",
        "      <th></th>\n",
        "      <th></th>\n",
        "      <th></th>\n",
        "      <th></th>\n",
        "      <th></th>\n",
        "      <th></th>\n",
        "      <th></th>\n",
        "      <th></th>\n",
        "      <th></th>\n",
        "      <th></th>\n",
        "      <th></th>\n",
        "      <th></th>\n",
        "      <th></th>\n",
        "      <th></th>\n",
        "      <th></th>\n",
        "      <th></th>\n",
        "      <th></th>\n",
        "      <th></th>\n",
        "    </tr>\n",
        "  </thead>\n",
        "  <tbody>\n",
        "    <tr>\n",
        "      <th>70s</th>\n",
        "      <td> 1</td>\n",
        "      <td> 0</td>\n",
        "      <td> 0</td>\n",
        "      <td> 0</td>\n",
        "      <td>  15</td>\n",
        "      <td>  0</td>\n",
        "      <td>  20</td>\n",
        "      <td> 1</td>\n",
        "      <td> 180</td>\n",
        "      <td> 0</td>\n",
        "      <td>...</td>\n",
        "      <td> 0</td>\n",
        "      <td> 0</td>\n",
        "      <td> 0</td>\n",
        "      <td> 46</td>\n",
        "      <td> 51</td>\n",
        "      <td> 14</td>\n",
        "      <td> 11</td>\n",
        "      <td> 0</td>\n",
        "      <td> 1</td>\n",
        "      <td>  912711</td>\n",
        "    </tr>\n",
        "    <tr>\n",
        "      <th>80s</th>\n",
        "      <td> 0</td>\n",
        "      <td> 1</td>\n",
        "      <td> 2</td>\n",
        "      <td> 9</td>\n",
        "      <td> 123</td>\n",
        "      <td> 52</td>\n",
        "      <td> 189</td>\n",
        "      <td> 0</td>\n",
        "      <td> 169</td>\n",
        "      <td> 1</td>\n",
        "      <td>...</td>\n",
        "      <td> 7</td>\n",
        "      <td> 1</td>\n",
        "      <td> 6</td>\n",
        "      <td>  0</td>\n",
        "      <td>  0</td>\n",
        "      <td>  0</td>\n",
        "      <td>  0</td>\n",
        "      <td> 1</td>\n",
        "      <td> 0</td>\n",
        "      <td> 1432756</td>\n",
        "    </tr>\n",
        "    <tr>\n",
        "      <th>90s</th>\n",
        "      <td> 0</td>\n",
        "      <td> 0</td>\n",
        "      <td> 0</td>\n",
        "      <td> 0</td>\n",
        "      <td>   0</td>\n",
        "      <td> 41</td>\n",
        "      <td>  30</td>\n",
        "      <td> 0</td>\n",
        "      <td>  34</td>\n",
        "      <td> 0</td>\n",
        "      <td>...</td>\n",
        "      <td> 0</td>\n",
        "      <td> 0</td>\n",
        "      <td> 0</td>\n",
        "      <td>  0</td>\n",
        "      <td>  0</td>\n",
        "      <td>  0</td>\n",
        "      <td>  0</td>\n",
        "      <td> 0</td>\n",
        "      <td> 0</td>\n",
        "      <td>  408135</td>\n",
        "    </tr>\n",
        "  </tbody>\n",
        "</table>\n",
        "<p>3 rows \u00d7 356 columns</p>\n",
        "</div>"
       ],
       "metadata": {},
       "output_type": "pyout",
       "prompt_number": 1148,
       "text": [
        "            26 miles  a mind to give up livin  addams family  \\\n",
        "year_group                                                     \n",
        "70s                1                        0              0   \n",
        "80s                0                        1              2   \n",
        "90s                0                        0              0   \n",
        "\n",
        "            aint superstitious  alabama getaway  all along the watchtower  \\\n",
        "year_group                                                                  \n",
        "70s                          0               15                         0   \n",
        "80s                          9              123                        52   \n",
        "90s                          0                0                        41   \n",
        "\n",
        "            althea  are you lonely for me  around and around  around jam  \\\n",
        "year_group                                                                 \n",
        "70s             20                      1                180           0   \n",
        "80s            189                      0                169           1   \n",
        "90s             30                      0                 34           0   \n",
        "\n",
        "               ...      why dont we do it in the road  wicked messenger  \\\n",
        "year_group     ...                                                        \n",
        "70s            ...                                  0                 0   \n",
        "80s            ...                                  7                 1   \n",
        "90s            ...                                  0                 0   \n",
        "\n",
        "            willie and the hand jive  wrs part 1  wrs prelude  \\\n",
        "year_group                                                      \n",
        "70s                                0          46           51   \n",
        "80s                                6           0            0   \n",
        "90s                                0           0            0   \n",
        "\n",
        "            you aint woman enough  you win again  you wont find me  \\\n",
        "year_group                                                           \n",
        "70s                            14             11                 0   \n",
        "80s                             0              0                 1   \n",
        "90s                             0              0                 0   \n",
        "\n",
        "            your love at home    zYEAR  \n",
        "year_group                              \n",
        "70s                         1   912711  \n",
        "80s                         0  1432756  \n",
        "90s                         0   408135  \n",
        "\n",
        "[3 rows x 356 columns]"
       ]
      }
     ],
     "prompt_number": 1148
    }
   ],
   "metadata": {}
  }
 ]
}